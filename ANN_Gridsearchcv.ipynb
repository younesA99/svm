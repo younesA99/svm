{
  "cells": [
    {
      "cell_type": "markdown",
      "metadata": {
        "id": "view-in-github",
        "colab_type": "text"
      },
      "source": [
        "<a href=\"https://colab.research.google.com/github/younesA99/svm/blob/main/ANN_Gridsearchcv.ipynb\" target=\"_parent\"><img src=\"https://colab.research.google.com/assets/colab-badge.svg\" alt=\"Open In Colab\"/></a>"
      ]
    },
    {
      "cell_type": "code",
      "execution_count": 1,
      "metadata": {
        "id": "ucJfN75-gt9n"
      },
      "outputs": [],
      "source": [
        "import numpy as np\n",
        "import pandas as pd\n",
        "TrainPd=pd.read_excel(\"Concrete_Data.xls\")\n",
        "#renaming all featurses\n",
        "TrainPd.columns = ['cement','blastFurnace','flyAsh','water','superplasticizer','courseAggregate','fineaggregate','age','strength']\n",
        "\n",
        "#Verification des valeur manquantes\n",
        "TrainPd.isna().sum()\n",
        "\n",
        "# Split the data into features and target\n",
        "X=TrainPd.drop([\"strength\"],axis=1)\n",
        "Y=TrainPd[\"strength\"]\n",
        "Names=list(X.columns.values)\n",
        "\n",
        "# Split the data into training and testing sets\n",
        "from sklearn.model_selection import train_test_split\n",
        "X_train, X_test, Y_train, Y_test = train_test_split(X, Y, test_size=0.20, random_state = 1)\n",
        "\n",
        "#Normalisation des données\n",
        "from sklearn.preprocessing import MinMaxScaler\n",
        "scaler = MinMaxScaler()\n",
        "# Fit on training set only.\n",
        "scaler.fit(X_train)\n",
        "MinMaxScaler(copy=(), feature_range=(0,1))\n",
        "# Apply transform to both the training set and the test set.\n",
        "X_train_transformed = scaler.transform(X_train)\n",
        "X_test_transoformed = scaler.transform(X_test)\n",
        "\n",
        "\n"
      ]
    },
    {
      "cell_type": "code",
      "execution_count": 2,
      "metadata": {
        "colab": {
          "base_uri": "https://localhost:8080/"
        },
        "id": "vBTK8hVFGICx",
        "outputId": "28beabd1-d45f-4b73-a733-500a8a11b633"
      },
      "outputs": [
        {
          "output_type": "execute_result",
          "data": {
            "text/plain": [
              "array([33.05661121, 21.6373468 , 23.55315888, 21.87906175, 35.39181731,\n",
              "       48.06563905, 24.1950771 , 39.71243203, 31.55568242, 39.08031614,\n",
              "       46.08374309, 19.38081103, 27.67564066, 28.47736194, 13.13091299,\n",
              "       26.87369349, 57.31433701, 44.32783203, 51.22605415, 34.37647575,\n",
              "       23.27883347, 38.04467228, 22.41959393, 46.9199114 , 58.78372255,\n",
              "       33.15739587, 32.01189508, 28.30166586, 33.07664465, 24.22433542,\n",
              "       71.25725742, 51.36412895, 24.39880315, 35.09067588, 54.83579947,\n",
              "       33.96086876, 25.72941045, 22.87317149, 31.25592264, 29.01220293,\n",
              "       52.24225766, 24.08028471, 54.65895058, 35.89226867, 33.23778801,\n",
              "       34.62907737, 26.73416835, 28.80862961, 53.29806787, 38.51232578,\n",
              "       21.44255079, 29.90374324, 65.18350742, 60.3444101 , 58.75366138,\n",
              "       18.44285864, 50.18914998, 25.2490987 , 23.47003207, 32.40689796,\n",
              "       59.19645767, 72.10528751, 48.08254066, 40.76247034, 34.63392638,\n",
              "       42.313824  , 46.94537916, 34.64540153, 30.14634343, 26.84640845,\n",
              "       47.82076885, 22.08119816, 34.08584755, 18.01749604, 54.58570936,\n",
              "       53.52523238, 69.02332827, 32.8980934 , 54.72378415, 40.96870393,\n",
              "       32.97821881, 53.77801862, 61.91015393, 26.93585693, 37.74669806,\n",
              "       48.30071959, 33.47284297, 59.65741523, 50.51132377, 40.10711885,\n",
              "       41.24129659, 34.1760059 , 26.9289263 , 34.91761561, 50.52554024,\n",
              "       65.1094321 , 42.82616451, 21.95896893, 34.48324929, 36.42683351,\n",
              "       33.33020461, 58.10965644, 28.11501458, 61.56286964, 45.18079963,\n",
              "       24.571767  , 23.62078391, 35.89778555, 16.72479987, 28.98635372,\n",
              "       17.28096905, 29.21384528, 13.61935765, 34.50632978, 31.57985724,\n",
              "       20.20469327, 34.62306223, 29.97337718, 26.19984403, 50.59542455,\n",
              "       62.1735836 , 57.55020788, 35.97820244, 25.85212924, 21.60454809,\n",
              "       22.00602759, 46.70099348, 17.51707213, 66.34294676, 33.37804414,\n",
              "       19.23129063, 24.60424023, 27.67926107, 28.38200711, 30.28858151,\n",
              "       70.40922734, 31.55690189, 30.86794479, 35.95678664, 13.51105414,\n",
              "       49.54551837, 32.74122235, 36.77557649, 52.23025983, 69.0729929 ,\n",
              "       49.60373735, 59.01039718, 21.62140661, 54.83579947, 35.68871864,\n",
              "       62.14337775, 35.57497031, 72.121786  , 38.09036803, 27.1838257 ,\n",
              "       32.08049393, 28.98658943, 55.7840304 , 52.70889139, 52.50849003,\n",
              "       20.96901887, 52.09461798, 27.55669217, 21.10779543, 54.85300601,\n",
              "       38.63220701, 43.48179167, 29.52070895, 33.15251644, 23.11720373,\n",
              "       20.11745564, 22.5117541 , 72.95331759, 22.16009949, 54.60501121,\n",
              "       53.95507975, 38.49804991, 51.68330995, 36.7531834 , 67.922217  ,\n",
              "       40.96205026, 65.71333769, 38.26347556, 27.72868003, 50.11692808,\n",
              "       35.22372001, 13.0311034 , 19.17053872, 21.90055244, 33.79275014,\n",
              "       80.5242553 , 20.51504637, 51.76230692, 33.27615234, 23.65060761,\n",
              "       54.75000124, 30.62352444, 22.12917626, 29.10309547, 35.90257559,\n",
              "       48.43732992, 37.16534944, 13.1394069 , 48.43732992, 29.74935782,\n",
              "       48.21150544])"
            ]
          },
          "metadata": {},
          "execution_count": 2
        }
      ],
      "source": [
        "# Créer le modèle MLPRegressor\n",
        "from sklearn.neural_network import MLPRegressor\n",
        "mlp = MLPRegressor(hidden_layer_sizes=(10,), learning_rate='constant', learning_rate_init=0.1,\n",
        "                      activation='relu',\n",
        "                      solver='lbfgs',\n",
        "                      random_state=77,\n",
        "                      max_iter=1000)\n",
        "\n",
        "\n",
        "#Entraînement du modèle sur les données d'apprentissage\n",
        "mlp.fit(X_train, Y_train)\n",
        "\n",
        "#prediction sur les données de test\n",
        "y_pred=mlp.predict(X_test)\n",
        "y_pred"
      ]
    },
    {
      "cell_type": "code",
      "execution_count": null,
      "metadata": {
        "colab": {
          "base_uri": "https://localhost:8080/"
        },
        "id": "JF6DSLcLKy4R",
        "outputId": "afc0f915-6b69-49af-f076-0a89dd94adce"
      },
      "outputs": [
        {
          "data": {
            "text/plain": [
              "33.398217    5\n",
              "77.297154    4\n",
              "31.350474    4\n",
              "71.298713    4\n",
              "35.301171    4\n",
              "            ..\n",
              "56.633559    1\n",
              "26.048403    1\n",
              "30.219733    1\n",
              "16.278528    1\n",
              "32.401235    1\n",
              "Name: strength, Length: 938, dtype: int64"
            ]
          },
          "execution_count": 4,
          "metadata": {},
          "output_type": "execute_result"
        }
      ],
      "source": [
        "Y.value_counts()"
      ]
    },
    {
      "cell_type": "code",
      "execution_count": 3,
      "metadata": {
        "colab": {
          "base_uri": "https://localhost:8080/"
        },
        "id": "qSCFPVgVLN4r",
        "outputId": "b2c04bce-c434-4596-f85a-497bc4d7e06a"
      },
      "outputs": [
        {
          "output_type": "stream",
          "name": "stdout",
          "text": [
            "MAE :  8.842883479999365\n",
            "MSE :  124.92400848116259\n",
            "RMSE :  11.176940926799363\n",
            "R-squared (R²) : 0.5208063107626901\n"
          ]
        }
      ],
      "source": [
        "from sklearn.metrics import *\n",
        "print('MAE : ',mean_absolute_error(Y_test, y_pred))\n",
        "print('MSE : ',mean_squared_error(Y_test, y_pred))\n",
        "print('RMSE : ',np.sqrt(mean_squared_error(Y_test, y_pred)))\n",
        "print(\"R-squared (R²) :\", r2_score(Y_test, y_pred))"
      ]
    },
    {
      "cell_type": "code",
      "execution_count": 4,
      "metadata": {
        "colab": {
          "base_uri": "https://localhost:8080/",
          "height": 564
        },
        "id": "Xgdro5rjLjvx",
        "outputId": "1631f18a-8e07-4e6f-c4fb-4fa68020ec61"
      },
      "outputs": [
        {
          "output_type": "display_data",
          "data": {
            "text/plain": [
              "<Figure size 800x600 with 1 Axes>"
            ],
            "image/png": "[encoded data removed]"
          },
          "metadata": {}
        }
      ],
      "source": [
        "import matplotlib.pyplot as plt\n",
        "# Visualisation des prédictions par rapport aux valeurs réelles\n",
        "plt.figure(figsize=(8, 6))\n",
        "plt.scatter(Y_test, y_pred)\n",
        "plt.xlabel('True Values')\n",
        "plt.ylabel('Predictions')\n",
        "plt.title('True Values vs Predictions')\n",
        "plt.show()"
      ]
    },
    {
      "cell_type": "markdown",
      "metadata": {
        "id": "obDXez5RIp6a"
      },
      "source": [
        "## Techniques Of Hyper Parameter **Optimization**"
      ]
    },
    {
      "cell_type": "code",
      "execution_count": 5,
      "metadata": {
        "id": "JnVuwGHEl3jU"
      },
      "outputs": [],
      "source": [
        "# Créer un dictionnaire des hyperparamètres à rechercher\n",
        "param_grid = {\n",
        "    'hidden_layer_sizes': [(50,), (100,), (100, 50), (100, 100)],\n",
        "    'activation': ['relu', 'tanh', 'identity', 'logistic'],\n",
        "    'solver': ['adam', 'lbfgs', 'sgd'],\n",
        "    'alpha': [0.01, 0.02, 0.05, 0.1, 0.5, 1],\n",
        "    'learning_rate': ['constant', 'invscaling', 'adaptive'],\n",
        "    'max_iter': [500,700, 1000],\n",
        "}\n"
      ]
    },
    {
      "cell_type": "markdown",
      "metadata": {
        "id": "1WVTqbt-OD0R"
      },
      "source": [
        "# **RandomizedSearchCV**"
      ]
    },
    {
      "cell_type": "code",
      "execution_count": 6,
      "metadata": {
        "colab": {
          "base_uri": "https://localhost:8080/"
        },
        "id": "lEmMt6wvPuP5",
        "outputId": "b33810ba-3c51-46da-c998-a08948bd70a0"
      },
      "outputs": [
        {
          "output_type": "stream",
          "name": "stdout",
          "text": [
            "Meilleurs hyperparamètres trouvés :\n",
            "{'solver': 'lbfgs', 'max_iter': 700, 'learning_rate': 'invscaling', 'hidden_layer_sizes': (50,), 'alpha': 0.5, 'activation': 'logistic'}\n",
            "Mean Squared Error on test set with best model: 33.32563632420614\n"
          ]
        },
        {
          "output_type": "stream",
          "name": "stderr",
          "text": [
            "/usr/local/lib/python3.10/dist-packages/sklearn/neural_network/_multilayer_perceptron.py:541: ConvergenceWarning: lbfgs failed to converge (status=1):\n",
            "STOP: TOTAL NO. of ITERATIONS REACHED LIMIT.\n",
            "\n",
            "Increase the number of iterations (max_iter) or scale the data as shown in:\n",
            "    https://scikit-learn.org/stable/modules/preprocessing.html\n",
            "  self.n_iter_ = _check_optimize_result(\"lbfgs\", opt_res, self.max_iter)\n"
          ]
        }
      ],
      "source": [
        "from sklearn.model_selection import RandomizedSearchCV\n",
        "\n",
        "# Créer le modèle MLPRegressor\n",
        "mlp = MLPRegressor(random_state=77)\n",
        "\n",
        "# Définir la grille des hyperparamètres\n",
        "param_grid = {\n",
        "    'hidden_layer_sizes': [(50,), (100,), (100, 50), (100, 100)],\n",
        "    'activation': ['relu', 'tanh', 'identity', 'logistic'],\n",
        "    'solver': ['adam', 'lbfgs', 'sgd'],\n",
        "    'alpha': [0.01, 0.02, 0.05, 0.1, 0.5, 1],\n",
        "    'learning_rate': ['constant', 'invscaling', 'adaptive'],\n",
        "    'max_iter': [500, 700, 1000],\n",
        "}\n",
        "\n",
        "# Recherche des meilleurs hyperparamètres avec RandomizedSearchCV\n",
        "random_search = RandomizedSearchCV(mlp, param_distributions=param_grid, n_iter=50, cv=5, scoring='neg_mean_squared_error', n_jobs=-1, random_state=77)\n",
        "random_search.fit(X_train_transformed, Y_train)\n",
        "\n",
        "# Afficher les meilleurs hyperparamètres\n",
        "print(\"Meilleurs hyperparamètres trouvés :\")\n",
        "print(random_search.best_params_)\n",
        "\n",
        "# Évaluer le modèle avec les meilleurs hyperparamètres\n",
        "best_model = random_search.best_estimator_\n",
        "y_pred = best_model.predict(X_test_transoformed)\n",
        "mse = mean_squared_error(Y_test, y_pred)\n",
        "print(f\"Mean Squared Error on test set with best model: {mse}\")\n"
      ]
    },
    {
      "cell_type": "code",
      "execution_count": 7,
      "metadata": {
        "colab": {
          "base_uri": "https://localhost:8080/"
        },
        "id": "xUcry5NGVi3L",
        "outputId": "c68e0a0c-65cb-4813-aa3a-8f087ba0bc87"
      },
      "outputs": [
        {
          "output_type": "stream",
          "name": "stdout",
          "text": [
            "MAE :  4.0128425729759405\n",
            "MSE :  33.32563632420614\n",
            "RMSE :  5.772836072868009\n",
            "R-squared (R²) : 0.8721668091623453\n"
          ]
        }
      ],
      "source": [
        "# Évaluer le modèle avec les meilleurs hyperparamètres\n",
        "best_model = random_search.best_estimator_\n",
        "y_pred = best_model.predict(X_test_transoformed)\n",
        "\n",
        "print('MAE : ',mean_absolute_error(Y_test, y_pred))\n",
        "print('MSE : ',mean_squared_error(Y_test, y_pred))\n",
        "print('RMSE : ',np.sqrt(mean_squared_error(Y_test, y_pred)))\n",
        "print(\"R-squared (R²) :\", r2_score(Y_test, y_pred))"
      ]
    },
    {
      "cell_type": "code",
      "execution_count": 8,
      "metadata": {
        "colab": {
          "base_uri": "https://localhost:8080/",
          "height": 564
        },
        "id": "00H4bFfDVtBO",
        "outputId": "5b69d306-eaed-4a9d-df56-7de24b418432"
      },
      "outputs": [
        {
          "output_type": "display_data",
          "data": {
            "text/plain": [
              "<Figure size 800x600 with 1 Axes>"
            ],
            "image/png": "[encoded data removed]"
          },
          "metadata": {}
        }
      ],
      "source": [
        "import matplotlib.pyplot as plt\n",
        "# Visualisation des prédictions par rapport aux valeurs réelles\n",
        "plt.figure(figsize=(8, 6))\n",
        "plt.scatter(Y_test, y_pred)\n",
        "plt.xlabel('True Values')\n",
        "plt.ylabel('Predictions')\n",
        "plt.title('True Values vs Predictions')\n",
        "plt.show()"
      ]
    },
    {
      "cell_type": "markdown",
      "metadata": {
        "id": "zwyWk-RgOVpU"
      },
      "source": [
        "# **GridSearchCV**"
      ]
    },
    {
      "cell_type": "code",
      "execution_count": 15,
      "metadata": {
        "colab": {
          "base_uri": "https://localhost:8080/"
        },
        "id": "KtWPejo-Lkje",
        "outputId": "04165bf6-3c54-4dc4-88dd-995807d2b9f9"
      },
      "outputs": [
        {
          "output_type": "stream",
          "name": "stderr",
          "text": [
            "/usr/local/lib/python3.10/dist-packages/sklearn/model_selection/_validation.py:378: FitFailedWarning: \n",
            "65 fits failed out of a total of 455.\n",
            "The score on these train-test partitions for these parameters will be set to nan.\n",
            "If these failures are not expected, you can try to debug them by setting error_score='raise'.\n",
            "\n",
            "Below are more details about the failures:\n",
            "--------------------------------------------------------------------------------\n",
            "65 fits failed with the following error:\n",
            "Traceback (most recent call last):\n",
            "  File \"/usr/local/lib/python3.10/dist-packages/sklearn/model_selection/_validation.py\", line 686, in _fit_and_score\n",
            "    estimator.fit(X_train, y_train, **fit_params)\n",
            "  File \"/usr/local/lib/python3.10/dist-packages/sklearn/neural_network/_multilayer_perceptron.py\", line 749, in fit\n",
            "    return self._fit(X, y, incremental=False)\n",
            "  File \"/usr/local/lib/python3.10/dist-packages/sklearn/neural_network/_multilayer_perceptron.py\", line 454, in _fit\n",
            "    self._initialize(y, layer_units, X.dtype)\n",
            "  File \"/usr/local/lib/python3.10/dist-packages/sklearn/neural_network/_multilayer_perceptron.py\", line 387, in _initialize\n",
            "    coef_init, intercept_init = self._init_coef(\n",
            "  File \"/usr/local/lib/python3.10/dist-packages/sklearn/neural_network/_multilayer_perceptron.py\", line 411, in _init_coef\n",
            "    init_bound = np.sqrt(factor / (fan_in + fan_out))\n",
            "TypeError: unsupported operand type(s) for +: 'int' and 'tuple'\n",
            "\n",
            "  warnings.warn(some_fits_failed_message, FitFailedWarning)\n",
            "/usr/local/lib/python3.10/dist-packages/sklearn/model_selection/_search.py:952: UserWarning: One or more of the test scores are non-finite: [         nan -26.66007579 -26.43573169 -25.45003949 -28.24355047\n",
            " -26.08823153 -27.64173058          nan -27.104039   -27.78950445\n",
            " -27.15031657 -26.28604186 -28.25296566 -26.24404496          nan\n",
            " -29.02757629 -27.7156456  -27.57383179 -26.78545493 -26.11814264\n",
            " -25.89789751          nan -27.11477606 -26.29351152 -27.06984965\n",
            " -26.36318984 -26.93006203 -27.35200183          nan -26.39460596\n",
            " -27.44207001 -27.66087726 -26.85653697 -25.5102255  -27.79224699\n",
            "          nan -26.28718267 -27.75039669 -26.1993506  -27.08034408\n",
            " -26.70957192 -29.18363453          nan -27.1165524  -27.89473658\n",
            " -26.85058103 -27.2843294  -27.17982071 -27.10911003          nan\n",
            " -27.91936295 -27.25580947 -25.88399922 -26.24573286 -26.11954243\n",
            " -26.35539579          nan -26.03312122 -28.92391201 -26.04089671\n",
            " -27.70976004 -27.32777303 -26.01221008          nan -26.9431745\n",
            " -26.81150077 -26.84288269 -27.1780757  -25.93116397 -26.57851797\n",
            "          nan -25.25774862 -26.40048433 -28.6384435  -27.54906905\n",
            " -26.44529447 -27.30491123          nan -26.47923496 -27.52727546\n",
            " -26.81641074 -27.98801785 -26.3561405  -26.09915193          nan\n",
            " -26.89465034 -27.85989022 -27.20125548 -26.96509981 -26.53801878\n",
            " -27.46479057]\n",
            "  warnings.warn(\n"
          ]
        },
        {
          "output_type": "stream",
          "name": "stdout",
          "text": [
            "Meilleurs hyperparamètres trouvés par GridSearchCV :\n",
            "{'activation': 'logistic', 'alpha': 0.52, 'hidden_layer_sizes': (35,), 'learning_rate': 'invscaling', 'max_iter': 700, 'solver': 'lbfgs'}\n",
            "Mean Squared Error on test set with best model found by GridSearchCV: 32.387129203886396\n"
          ]
        },
        {
          "output_type": "stream",
          "name": "stderr",
          "text": [
            "/usr/local/lib/python3.10/dist-packages/sklearn/neural_network/_multilayer_perceptron.py:541: ConvergenceWarning: lbfgs failed to converge (status=1):\n",
            "STOP: TOTAL NO. of ITERATIONS REACHED LIMIT.\n",
            "\n",
            "Increase the number of iterations (max_iter) or scale the data as shown in:\n",
            "    https://scikit-learn.org/stable/modules/preprocessing.html\n",
            "  self.n_iter_ = _check_optimize_result(\"lbfgs\", opt_res, self.max_iter)\n"
          ]
        }
      ],
      "source": [
        "from sklearn.model_selection import GridSearchCV\n",
        "# Récupérer les meilleurs hyperparamètres trouvés\n",
        "best_params_random = random_search.best_params_\n",
        "\n",
        "# Construire une nouvelle grille autour des meilleurs hyperparamètres\n",
        "param_grid_gridsearch = {\n",
        "    'hidden_layer_sizes': [(best_params_random['hidden_layer_sizes'],),\n",
        "     (best_params_random['hidden_layer_sizes'][0] - 15,), (best_params_random['hidden_layer_sizes'][0] - 10,),\n",
        "     (best_params_random['hidden_layer_sizes'][0] - 5,), (best_params_random['hidden_layer_sizes'][0] + 5,),\n",
        "     (best_params_random['hidden_layer_sizes'][0] + 10,), (best_params_random['hidden_layer_sizes'][0] + 15,)],\n",
        "    'activation': [best_params_random['activation']],\n",
        "    'solver': [best_params_random['solver']],\n",
        "    'alpha': [best_params_random['alpha'] - 0.1, best_params_random['alpha'] - 0.05,\n",
        "             best_params_random['alpha'] - 0.01, best_params_random['alpha'] - 0.02,\n",
        "             best_params_random['alpha'] - 0.03, best_params_random['alpha'] - 0.04,\n",
        "             best_params_random['alpha'],\n",
        "             best_params_random['alpha'] + 0.1, best_params_random['alpha'] + 0.05,\n",
        "             best_params_random['alpha'] + 0.01, best_params_random['alpha'] + 0.02,\n",
        "             best_params_random['alpha'] + 0.03, best_params_random['alpha'] + 0.04,],\n",
        "    'learning_rate': [best_params_random['learning_rate']],\n",
        "    'max_iter': [best_params_random['max_iter']],}\n",
        "\n",
        "\n",
        "# Recherche des meilleurs hyperparamètres avec GridSearchCV basé sur les résultats de RandomizedSearchCV\n",
        "grid_search = GridSearchCV(mlp, param_grid=param_grid_gridsearch, cv=5, scoring='neg_mean_squared_error', n_jobs=-1)\n",
        "grid_search.fit(X_train_transformed, Y_train)\n",
        "\n",
        "# Afficher les meilleurs hyperparamètres trouvés par GridSearchCV\n",
        "print(\"Meilleurs hyperparamètres trouvés par GridSearchCV :\")\n",
        "print(grid_search.best_params_)\n",
        "\n",
        "# Évaluer le modèle avec les meilleurs hyperparamètres de GridSearchCV sur l'ensemble de test\n",
        "best_model_gridsearch = grid_search.best_estimator_\n",
        "y_pred_gridsearch = best_model_gridsearch.predict(X_test_transoformed)\n",
        "mse_gridsearch = mean_squared_error(Y_test, y_pred_gridsearch)\n",
        "print(f\"Mean Squared Error on test set with best model found by GridSearchCV: {mse_gridsearch}\")"
      ]
    },
    {
      "cell_type": "code",
      "execution_count": 14,
      "metadata": {
        "colab": {
          "base_uri": "https://localhost:8080/"
        },
        "id": "blMc39YHMDwM",
        "outputId": "ca6c0130-b44e-4afb-fc16-b099efe0bd83"
      },
      "outputs": [
        {
          "output_type": "stream",
          "name": "stdout",
          "text": [
            "{'hidden_layer_sizes': [((50,),), (35,), (40,), (45,), (55,), (60,), (65,)], 'activation': ['logistic'], 'solver': ['lbfgs'], 'alpha': [0.4, 0.45, 0.49, 0.48, 0.47, 0.46, 0.5, 0.6, 0.55, 0.51, 0.52, 0.53, 0.54], 'learning_rate': ['invscaling'], 'max_iter': [700]}\n"
          ]
        }
      ],
      "source": [
        "# Construire une nouvelle grille autour des meilleurs hyperparamètres\n",
        "# Récupérer les meilleurs hyperparamètres trouvés\n",
        "best_params_random = random_search.best_params_\n",
        "param_grid_gridsearch = {\n",
        "    'hidden_layer_sizes': [(best_params_random['hidden_layer_sizes'],),\n",
        "     (best_params_random['hidden_layer_sizes'][0] - 15,), (best_params_random['hidden_layer_sizes'][0] - 10,),\n",
        "     (best_params_random['hidden_layer_sizes'][0] - 5,), (best_params_random['hidden_layer_sizes'][0] + 5,),\n",
        "     (best_params_random['hidden_layer_sizes'][0] + 10,), (best_params_random['hidden_layer_sizes'][0] + 15,)],\n",
        "    'activation': [best_params_random['activation']],\n",
        "    'solver': [best_params_random['solver']],\n",
        "    'alpha': [best_params_random['alpha'] - 0.1, best_params_random['alpha'] - 0.05,\n",
        "             best_params_random['alpha'] - 0.01, best_params_random['alpha'] - 0.02,\n",
        "             best_params_random['alpha'] - 0.03, best_params_random['alpha'] - 0.04,\n",
        "             best_params_random['alpha'],\n",
        "             best_params_random['alpha'] + 0.1, best_params_random['alpha'] + 0.05,\n",
        "             best_params_random['alpha'] + 0.01, best_params_random['alpha'] + 0.02,\n",
        "             best_params_random['alpha'] + 0.03, best_params_random['alpha'] + 0.04,],\n",
        "    'learning_rate': [best_params_random['learning_rate']],\n",
        "    'max_iter': [best_params_random['max_iter']],}\n",
        "print(param_grid_gridsearch)\n"
      ]
    },
    {
      "cell_type": "code",
      "execution_count": 16,
      "metadata": {
        "colab": {
          "base_uri": "https://localhost:8080/"
        },
        "id": "aXEi8U9IPcwc",
        "outputId": "75389005-1fa5-4358-945b-1d15bac2089e"
      },
      "outputs": [
        {
          "output_type": "stream",
          "name": "stdout",
          "text": [
            "Mean Squared Error on test set with best model found by GridSearchCV: 3.8947273006783947\n",
            "Mean Squared Error on test set with best model found by GridSearchCV: 32.387129203886396\n",
            "Mean Squared Error on test set with best model found by GridSearchCV: 5.690969091805577\n",
            "R-squared (R^2) on test set with best model found by GridSearchCV: 0.8757668112342395\n"
          ]
        }
      ],
      "source": [
        "# Évaluer le modèle avec les meilleurs hyperparamètres\n",
        "best_model_gridsearch = grid_search.best_estimator_\n",
        "y_pred_gridsearch = best_model_gridsearch.predict(X_test_transoformed)\n",
        "\n",
        "mae_gridsearch = mean_absolute_error(Y_test, y_pred_gridsearch)\n",
        "mse_gridsearch = mean_squared_error(Y_test, y_pred_gridsearch)\n",
        "rmse_gridsearch = np.sqrt(mean_squared_error(Y_test, y_pred_gridsearch))\n",
        "r_squared_gridsearch = r2_score(Y_test, y_pred_gridsearch)\n",
        "\n",
        "print(f\"Mean Squared Error on test set with best model found by GridSearchCV: {mae_gridsearch}\")\n",
        "print(f\"Mean Squared Error on test set with best model found by GridSearchCV: {mse_gridsearch}\")\n",
        "print(f\"Mean Squared Error on test set with best model found by GridSearchCV: {rmse_gridsearch}\")\n",
        "print(f\"R-squared (R^2) on test set with best model found by GridSearchCV: {r_squared_gridsearch}\")\n"
      ]
    },
    {
      "cell_type": "code",
      "execution_count": 17,
      "metadata": {
        "colab": {
          "base_uri": "https://localhost:8080/",
          "height": 564
        },
        "id": "4f9jdZdPRh6t",
        "outputId": "5ff5e136-0a7b-4ff9-ad99-fd8ceab5a42e"
      },
      "outputs": [
        {
          "output_type": "display_data",
          "data": {
            "text/plain": [
              "<Figure size 800x600 with 1 Axes>"
            ],
            "image/png": "[encoded data removed]"
          },
          "metadata": {}
        }
      ],
      "source": [
        "import matplotlib.pyplot as plt\n",
        "# Visualisation des prédictions par rapport aux valeurs réelles\n",
        "plt.figure(figsize=(8, 6))\n",
        "plt.scatter(Y_test, y_pred_gridsearch)\n",
        "plt.xlabel('True Values')\n",
        "plt.ylabel('Predictions')\n",
        "plt.title('True Values vs Predictions')\n",
        "plt.show()"
      ]
    },
    {
      "cell_type": "code",
      "source": [],
      "metadata": {
        "id": "PGTX5y940_kB"
      },
      "execution_count": null,
      "outputs": []
    },
    {
      "cell_type": "markdown",
      "metadata": {
        "id": "8bDT7IzcI2e0"
      },
      "source": [
        "# hyperopt"
      ]
    },
    {
      "cell_type": "code",
      "execution_count": 8,
      "metadata": {
        "colab": {
          "base_uri": "https://localhost:8080/"
        },
        "id": "DxQlOVKASm-0",
        "outputId": "616a8593-5ab5-4496-c12a-4e94dac05f28"
      },
      "outputs": [
        {
          "output_type": "stream",
          "name": "stdout",
          "text": [
            "  1%|          | 1/100 [00:02<04:10,  2.53s/trial, best loss: 46.13024612493408]"
          ]
        },
        {
          "output_type": "stream",
          "name": "stderr",
          "text": [
            "/usr/local/lib/python3.10/dist-packages/sklearn/neural_network/_multilayer_perceptron.py:541: ConvergenceWarning: lbfgs failed to converge (status=1):\n",
            "STOP: TOTAL NO. of ITERATIONS REACHED LIMIT.\n",
            "\n",
            "Increase the number of iterations (max_iter) or scale the data as shown in:\n",
            "    https://scikit-learn.org/stable/modules/preprocessing.html\n",
            "  self.n_iter_ = _check_optimize_result(\"lbfgs\", opt_res, self.max_iter)\n",
            "\n"
          ]
        },
        {
          "output_type": "stream",
          "name": "stdout",
          "text": [
            "\r  2%|▏         | 2/100 [00:04<03:24,  2.08s/trial, best loss: 46.13024612493408]"
          ]
        },
        {
          "output_type": "stream",
          "name": "stderr",
          "text": [
            "/usr/local/lib/python3.10/dist-packages/sklearn/neural_network/_multilayer_perceptron.py:686: ConvergenceWarning: Stochastic Optimizer: Maximum iterations (1000) reached and the optimization hasn't converged yet.\n",
            "  warnings.warn(\n",
            "\n"
          ]
        },
        {
          "output_type": "stream",
          "name": "stdout",
          "text": [
            "\r  3%|▎         | 3/100 [00:05<03:01,  1.88s/trial, best loss: 46.13024612493408]"
          ]
        },
        {
          "output_type": "stream",
          "name": "stderr",
          "text": [
            "/usr/local/lib/python3.10/dist-packages/sklearn/neural_network/_multilayer_perceptron.py:686: ConvergenceWarning: Stochastic Optimizer: Maximum iterations (1000) reached and the optimization hasn't converged yet.\n",
            "  warnings.warn(\n",
            "\n"
          ]
        },
        {
          "output_type": "stream",
          "name": "stdout",
          "text": [
            "  5%|▌         | 5/100 [00:07<01:44,  1.10s/trial, best loss: 46.13024612493408]"
          ]
        },
        {
          "output_type": "stream",
          "name": "stderr",
          "text": [
            "/usr/local/lib/python3.10/dist-packages/sklearn/neural_network/_multilayer_perceptron.py:686: ConvergenceWarning: Stochastic Optimizer: Maximum iterations (500) reached and the optimization hasn't converged yet.\n",
            "  warnings.warn(\n",
            "\n"
          ]
        },
        {
          "output_type": "stream",
          "name": "stdout",
          "text": [
            "\r  6%|▌         | 6/100 [00:08<01:45,  1.12s/trial, best loss: 46.13024612493408]"
          ]
        },
        {
          "output_type": "stream",
          "name": "stderr",
          "text": [
            "/usr/local/lib/python3.10/dist-packages/sklearn/neural_network/_multilayer_perceptron.py:686: ConvergenceWarning: Stochastic Optimizer: Maximum iterations (700) reached and the optimization hasn't converged yet.\n",
            "  warnings.warn(\n",
            "\n"
          ]
        },
        {
          "output_type": "stream",
          "name": "stdout",
          "text": [
            "  8%|▊         | 8/100 [00:09<01:22,  1.12trial/s, best loss: 46.13024612493408]"
          ]
        },
        {
          "output_type": "stream",
          "name": "stderr",
          "text": [
            "/usr/local/lib/python3.10/dist-packages/sklearn/neural_network/_multilayer_perceptron.py:686: ConvergenceWarning: Stochastic Optimizer: Maximum iterations (700) reached and the optimization hasn't converged yet.\n",
            "  warnings.warn(\n",
            "\n"
          ]
        },
        {
          "output_type": "stream",
          "name": "stdout",
          "text": [
            " 10%|█         | 10/100 [00:11<01:02,  1.43trial/s, best loss: 46.13024612493408]"
          ]
        },
        {
          "output_type": "stream",
          "name": "stderr",
          "text": [
            "/usr/local/lib/python3.10/dist-packages/sklearn/neural_network/_multilayer_perceptron.py:686: ConvergenceWarning: Stochastic Optimizer: Maximum iterations (500) reached and the optimization hasn't converged yet.\n",
            "  warnings.warn(\n",
            "\n"
          ]
        },
        {
          "output_type": "stream",
          "name": "stdout",
          "text": [
            "\r 11%|█         | 11/100 [00:11<01:03,  1.41trial/s, best loss: 46.13024612493408]"
          ]
        },
        {
          "output_type": "stream",
          "name": "stderr",
          "text": [
            "/usr/local/lib/python3.10/dist-packages/sklearn/neural_network/_multilayer_perceptron.py:541: ConvergenceWarning: lbfgs failed to converge (status=1):\n",
            "STOP: TOTAL NO. of ITERATIONS REACHED LIMIT.\n",
            "\n",
            "Increase the number of iterations (max_iter) or scale the data as shown in:\n",
            "    https://scikit-learn.org/stable/modules/preprocessing.html\n",
            "  self.n_iter_ = _check_optimize_result(\"lbfgs\", opt_res, self.max_iter)\n",
            "\n"
          ]
        },
        {
          "output_type": "stream",
          "name": "stdout",
          "text": [
            "\r 12%|█▏        | 12/100 [00:14<01:49,  1.24s/trial, best loss: 46.13024612493408]"
          ]
        },
        {
          "output_type": "stream",
          "name": "stderr",
          "text": [
            "/usr/local/lib/python3.10/dist-packages/sklearn/neural_network/_multilayer_perceptron.py:686: ConvergenceWarning: Stochastic Optimizer: Maximum iterations (1000) reached and the optimization hasn't converged yet.\n",
            "  warnings.warn(\n",
            "\n"
          ]
        },
        {
          "output_type": "stream",
          "name": "stdout",
          "text": [
            "\r 13%|█▎        | 13/100 [00:16<02:24,  1.66s/trial, best loss: 46.13024612493408]"
          ]
        },
        {
          "output_type": "stream",
          "name": "stderr",
          "text": [
            "/usr/local/lib/python3.10/dist-packages/sklearn/neural_network/_multilayer_perceptron.py:686: ConvergenceWarning: Stochastic Optimizer: Maximum iterations (1000) reached and the optimization hasn't converged yet.\n",
            "  warnings.warn(\n",
            "\n"
          ]
        },
        {
          "output_type": "stream",
          "name": "stdout",
          "text": [
            "\r 14%|█▍        | 14/100 [00:17<01:58,  1.38s/trial, best loss: 36.12096344753164]"
          ]
        },
        {
          "output_type": "stream",
          "name": "stderr",
          "text": [
            "/usr/local/lib/python3.10/dist-packages/sklearn/neural_network/_multilayer_perceptron.py:541: ConvergenceWarning: lbfgs failed to converge (status=1):\n",
            "STOP: TOTAL NO. of ITERATIONS REACHED LIMIT.\n",
            "\n",
            "Increase the number of iterations (max_iter) or scale the data as shown in:\n",
            "    https://scikit-learn.org/stable/modules/preprocessing.html\n",
            "  self.n_iter_ = _check_optimize_result(\"lbfgs\", opt_res, self.max_iter)\n",
            "\n"
          ]
        },
        {
          "output_type": "stream",
          "name": "stdout",
          "text": [
            "\r 15%|█▌        | 15/100 [00:19<02:02,  1.44s/trial, best loss: 36.12096344753164]"
          ]
        },
        {
          "output_type": "stream",
          "name": "stderr",
          "text": [
            "/usr/local/lib/python3.10/dist-packages/sklearn/neural_network/_multilayer_perceptron.py:686: ConvergenceWarning: Stochastic Optimizer: Maximum iterations (700) reached and the optimization hasn't converged yet.\n",
            "  warnings.warn(\n",
            "\n"
          ]
        },
        {
          "output_type": "stream",
          "name": "stdout",
          "text": [
            "\r 16%|█▌        | 16/100 [00:20<02:11,  1.56s/trial, best loss: 36.12096344753164]"
          ]
        },
        {
          "output_type": "stream",
          "name": "stderr",
          "text": [
            "/usr/local/lib/python3.10/dist-packages/sklearn/neural_network/_multilayer_perceptron.py:686: ConvergenceWarning: Stochastic Optimizer: Maximum iterations (1000) reached and the optimization hasn't converged yet.\n",
            "  warnings.warn(\n",
            "\n"
          ]
        },
        {
          "output_type": "stream",
          "name": "stdout",
          "text": [
            "\r 17%|█▋        | 17/100 [00:22<01:56,  1.40s/trial, best loss: 36.12096344753164]"
          ]
        },
        {
          "output_type": "stream",
          "name": "stderr",
          "text": [
            "/usr/local/lib/python3.10/dist-packages/sklearn/neural_network/_multilayer_perceptron.py:686: ConvergenceWarning: Stochastic Optimizer: Maximum iterations (700) reached and the optimization hasn't converged yet.\n",
            "  warnings.warn(\n",
            "\n"
          ]
        },
        {
          "output_type": "stream",
          "name": "stdout",
          "text": [
            "\r 18%|█▊        | 18/100 [00:31<05:14,  3.83s/trial, best loss: 36.12096344753164]"
          ]
        },
        {
          "output_type": "stream",
          "name": "stderr",
          "text": [
            "/usr/local/lib/python3.10/dist-packages/sklearn/neural_network/_multilayer_perceptron.py:541: ConvergenceWarning: lbfgs failed to converge (status=1):\n",
            "STOP: TOTAL NO. of ITERATIONS REACHED LIMIT.\n",
            "\n",
            "Increase the number of iterations (max_iter) or scale the data as shown in:\n",
            "    https://scikit-learn.org/stable/modules/preprocessing.html\n",
            "  self.n_iter_ = _check_optimize_result(\"lbfgs\", opt_res, self.max_iter)\n",
            "\n"
          ]
        },
        {
          "output_type": "stream",
          "name": "stdout",
          "text": [
            " 20%|██        | 20/100 [00:33<03:20,  2.51s/trial, best loss: 36.12096344753164]"
          ]
        },
        {
          "output_type": "stream",
          "name": "stderr",
          "text": [
            "/usr/local/lib/python3.10/dist-packages/sklearn/neural_network/_multilayer_perceptron.py:686: ConvergenceWarning: Stochastic Optimizer: Maximum iterations (700) reached and the optimization hasn't converged yet.\n",
            "  warnings.warn(\n",
            "\n"
          ]
        },
        {
          "output_type": "stream",
          "name": "stdout",
          "text": [
            "\r 21%|██        | 21/100 [00:34<02:39,  2.02s/trial, best loss: 36.12096344753164]"
          ]
        },
        {
          "output_type": "stream",
          "name": "stderr",
          "text": [
            "/usr/local/lib/python3.10/dist-packages/sklearn/neural_network/_multilayer_perceptron.py:541: ConvergenceWarning: lbfgs failed to converge (status=1):\n",
            "STOP: TOTAL NO. of ITERATIONS REACHED LIMIT.\n",
            "\n",
            "Increase the number of iterations (max_iter) or scale the data as shown in:\n",
            "    https://scikit-learn.org/stable/modules/preprocessing.html\n",
            "  self.n_iter_ = _check_optimize_result(\"lbfgs\", opt_res, self.max_iter)\n",
            "\n"
          ]
        },
        {
          "output_type": "stream",
          "name": "stdout",
          "text": [
            "\r 22%|██▏       | 22/100 [00:36<02:19,  1.78s/trial, best loss: 34.60161808069101]"
          ]
        },
        {
          "output_type": "stream",
          "name": "stderr",
          "text": [
            "/usr/local/lib/python3.10/dist-packages/sklearn/neural_network/_multilayer_perceptron.py:541: ConvergenceWarning: lbfgs failed to converge (status=1):\n",
            "STOP: TOTAL NO. of ITERATIONS REACHED LIMIT.\n",
            "\n",
            "Increase the number of iterations (max_iter) or scale the data as shown in:\n",
            "    https://scikit-learn.org/stable/modules/preprocessing.html\n",
            "  self.n_iter_ = _check_optimize_result(\"lbfgs\", opt_res, self.max_iter)\n",
            "\n"
          ]
        },
        {
          "output_type": "stream",
          "name": "stdout",
          "text": [
            "\r 23%|██▎       | 23/100 [00:37<02:03,  1.60s/trial, best loss: 34.60161808069101]"
          ]
        },
        {
          "output_type": "stream",
          "name": "stderr",
          "text": [
            "/usr/local/lib/python3.10/dist-packages/sklearn/neural_network/_multilayer_perceptron.py:686: ConvergenceWarning: Stochastic Optimizer: Maximum iterations (500) reached and the optimization hasn't converged yet.\n",
            "  warnings.warn(\n",
            "\n"
          ]
        },
        {
          "output_type": "stream",
          "name": "stdout",
          "text": [
            "\r 24%|██▍       | 24/100 [00:38<01:49,  1.44s/trial, best loss: 34.60161808069101]"
          ]
        },
        {
          "output_type": "stream",
          "name": "stderr",
          "text": [
            "/usr/local/lib/python3.10/dist-packages/sklearn/neural_network/_multilayer_perceptron.py:541: ConvergenceWarning: lbfgs failed to converge (status=1):\n",
            "STOP: TOTAL NO. of ITERATIONS REACHED LIMIT.\n",
            "\n",
            "Increase the number of iterations (max_iter) or scale the data as shown in:\n",
            "    https://scikit-learn.org/stable/modules/preprocessing.html\n",
            "  self.n_iter_ = _check_optimize_result(\"lbfgs\", opt_res, self.max_iter)\n",
            "\n"
          ]
        },
        {
          "output_type": "stream",
          "name": "stdout",
          "text": [
            "\r 25%|██▌       | 25/100 [00:49<05:19,  4.27s/trial, best loss: 34.60161808069101]"
          ]
        },
        {
          "output_type": "stream",
          "name": "stderr",
          "text": [
            "/usr/local/lib/python3.10/dist-packages/sklearn/neural_network/_multilayer_perceptron.py:541: ConvergenceWarning: lbfgs failed to converge (status=1):\n",
            "STOP: TOTAL NO. of ITERATIONS REACHED LIMIT.\n",
            "\n",
            "Increase the number of iterations (max_iter) or scale the data as shown in:\n",
            "    https://scikit-learn.org/stable/modules/preprocessing.html\n",
            "  self.n_iter_ = _check_optimize_result(\"lbfgs\", opt_res, self.max_iter)\n",
            "\n"
          ]
        },
        {
          "output_type": "stream",
          "name": "stdout",
          "text": [
            "\r 26%|██▌       | 26/100 [00:49<03:58,  3.23s/trial, best loss: 34.60161808069101]"
          ]
        },
        {
          "output_type": "stream",
          "name": "stderr",
          "text": [
            "/usr/local/lib/python3.10/dist-packages/sklearn/neural_network/_multilayer_perceptron.py:541: ConvergenceWarning: lbfgs failed to converge (status=1):\n",
            "STOP: TOTAL NO. of ITERATIONS REACHED LIMIT.\n",
            "\n",
            "Increase the number of iterations (max_iter) or scale the data as shown in:\n",
            "    https://scikit-learn.org/stable/modules/preprocessing.html\n",
            "  self.n_iter_ = _check_optimize_result(\"lbfgs\", opt_res, self.max_iter)\n",
            "\n"
          ]
        },
        {
          "output_type": "stream",
          "name": "stdout",
          "text": [
            "\r 27%|██▋       | 27/100 [00:51<03:17,  2.70s/trial, best loss: 34.60161808069101]"
          ]
        },
        {
          "output_type": "stream",
          "name": "stderr",
          "text": [
            "/usr/local/lib/python3.10/dist-packages/sklearn/neural_network/_multilayer_perceptron.py:541: ConvergenceWarning: lbfgs failed to converge (status=1):\n",
            "STOP: TOTAL NO. of ITERATIONS REACHED LIMIT.\n",
            "\n",
            "Increase the number of iterations (max_iter) or scale the data as shown in:\n",
            "    https://scikit-learn.org/stable/modules/preprocessing.html\n",
            "  self.n_iter_ = _check_optimize_result(\"lbfgs\", opt_res, self.max_iter)\n",
            "\n"
          ]
        },
        {
          "output_type": "stream",
          "name": "stdout",
          "text": [
            "\r 28%|██▊       | 28/100 [00:53<02:58,  2.48s/trial, best loss: 34.60161808069101]"
          ]
        },
        {
          "output_type": "stream",
          "name": "stderr",
          "text": [
            "/usr/local/lib/python3.10/dist-packages/sklearn/neural_network/_multilayer_perceptron.py:686: ConvergenceWarning: Stochastic Optimizer: Maximum iterations (500) reached and the optimization hasn't converged yet.\n",
            "  warnings.warn(\n",
            "\n"
          ]
        },
        {
          "output_type": "stream",
          "name": "stdout",
          "text": [
            "\r 29%|██▉       | 29/100 [00:55<02:47,  2.36s/trial, best loss: 33.19945785522145]"
          ]
        },
        {
          "output_type": "stream",
          "name": "stderr",
          "text": [
            "/usr/local/lib/python3.10/dist-packages/sklearn/neural_network/_multilayer_perceptron.py:541: ConvergenceWarning: lbfgs failed to converge (status=1):\n",
            "STOP: TOTAL NO. of ITERATIONS REACHED LIMIT.\n",
            "\n",
            "Increase the number of iterations (max_iter) or scale the data as shown in:\n",
            "    https://scikit-learn.org/stable/modules/preprocessing.html\n",
            "  self.n_iter_ = _check_optimize_result(\"lbfgs\", opt_res, self.max_iter)\n",
            "\n"
          ]
        },
        {
          "output_type": "stream",
          "name": "stdout",
          "text": [
            "\r 30%|███       | 30/100 [00:59<03:15,  2.79s/trial, best loss: 33.19945785522145]"
          ]
        },
        {
          "output_type": "stream",
          "name": "stderr",
          "text": [
            "/usr/local/lib/python3.10/dist-packages/sklearn/neural_network/_multilayer_perceptron.py:541: ConvergenceWarning: lbfgs failed to converge (status=1):\n",
            "STOP: TOTAL NO. of ITERATIONS REACHED LIMIT.\n",
            "\n",
            "Increase the number of iterations (max_iter) or scale the data as shown in:\n",
            "    https://scikit-learn.org/stable/modules/preprocessing.html\n",
            "  self.n_iter_ = _check_optimize_result(\"lbfgs\", opt_res, self.max_iter)\n",
            "\n"
          ]
        },
        {
          "output_type": "stream",
          "name": "stdout",
          "text": [
            "\r 31%|███       | 31/100 [01:02<03:14,  2.82s/trial, best loss: 33.19945785522145]"
          ]
        },
        {
          "output_type": "stream",
          "name": "stderr",
          "text": [
            "/usr/local/lib/python3.10/dist-packages/sklearn/neural_network/_multilayer_perceptron.py:541: ConvergenceWarning: lbfgs failed to converge (status=1):\n",
            "STOP: TOTAL NO. of ITERATIONS REACHED LIMIT.\n",
            "\n",
            "Increase the number of iterations (max_iter) or scale the data as shown in:\n",
            "    https://scikit-learn.org/stable/modules/preprocessing.html\n",
            "  self.n_iter_ = _check_optimize_result(\"lbfgs\", opt_res, self.max_iter)\n",
            "\n"
          ]
        },
        {
          "output_type": "stream",
          "name": "stdout",
          "text": [
            "\r 32%|███▏      | 32/100 [01:04<03:09,  2.79s/trial, best loss: 33.19945785522145]"
          ]
        },
        {
          "output_type": "stream",
          "name": "stderr",
          "text": [
            "/usr/local/lib/python3.10/dist-packages/sklearn/neural_network/_multilayer_perceptron.py:686: ConvergenceWarning: Stochastic Optimizer: Maximum iterations (500) reached and the optimization hasn't converged yet.\n",
            "  warnings.warn(\n",
            "\n"
          ]
        },
        {
          "output_type": "stream",
          "name": "stdout",
          "text": [
            "\r 33%|███▎      | 33/100 [01:06<02:52,  2.57s/trial, best loss: 33.19945785522145]"
          ]
        },
        {
          "output_type": "stream",
          "name": "stderr",
          "text": [
            "/usr/local/lib/python3.10/dist-packages/sklearn/neural_network/_multilayer_perceptron.py:541: ConvergenceWarning: lbfgs failed to converge (status=1):\n",
            "STOP: TOTAL NO. of ITERATIONS REACHED LIMIT.\n",
            "\n",
            "Increase the number of iterations (max_iter) or scale the data as shown in:\n",
            "    https://scikit-learn.org/stable/modules/preprocessing.html\n",
            "  self.n_iter_ = _check_optimize_result(\"lbfgs\", opt_res, self.max_iter)\n",
            "\n"
          ]
        },
        {
          "output_type": "stream",
          "name": "stdout",
          "text": [
            "\r 34%|███▍      | 34/100 [01:09<02:39,  2.42s/trial, best loss: 33.19945785522145]"
          ]
        },
        {
          "output_type": "stream",
          "name": "stderr",
          "text": [
            "/usr/local/lib/python3.10/dist-packages/sklearn/neural_network/_multilayer_perceptron.py:541: ConvergenceWarning: lbfgs failed to converge (status=1):\n",
            "STOP: TOTAL NO. of ITERATIONS REACHED LIMIT.\n",
            "\n",
            "Increase the number of iterations (max_iter) or scale the data as shown in:\n",
            "    https://scikit-learn.org/stable/modules/preprocessing.html\n",
            "  self.n_iter_ = _check_optimize_result(\"lbfgs\", opt_res, self.max_iter)\n",
            "\n"
          ]
        },
        {
          "output_type": "stream",
          "name": "stdout",
          "text": [
            "\r 35%|███▌      | 35/100 [01:10<02:14,  2.07s/trial, best loss: 32.485272233194415]"
          ]
        },
        {
          "output_type": "stream",
          "name": "stderr",
          "text": [
            "/usr/local/lib/python3.10/dist-packages/sklearn/neural_network/_multilayer_perceptron.py:541: ConvergenceWarning: lbfgs failed to converge (status=1):\n",
            "STOP: TOTAL NO. of ITERATIONS REACHED LIMIT.\n",
            "\n",
            "Increase the number of iterations (max_iter) or scale the data as shown in:\n",
            "    https://scikit-learn.org/stable/modules/preprocessing.html\n",
            "  self.n_iter_ = _check_optimize_result(\"lbfgs\", opt_res, self.max_iter)\n",
            "\n"
          ]
        },
        {
          "output_type": "stream",
          "name": "stdout",
          "text": [
            "\r 36%|███▌      | 36/100 [01:12<02:13,  2.09s/trial, best loss: 32.485272233194415]"
          ]
        },
        {
          "output_type": "stream",
          "name": "stderr",
          "text": [
            "/usr/local/lib/python3.10/dist-packages/sklearn/neural_network/_multilayer_perceptron.py:541: ConvergenceWarning: lbfgs failed to converge (status=1):\n",
            "STOP: TOTAL NO. of ITERATIONS REACHED LIMIT.\n",
            "\n",
            "Increase the number of iterations (max_iter) or scale the data as shown in:\n",
            "    https://scikit-learn.org/stable/modules/preprocessing.html\n",
            "  self.n_iter_ = _check_optimize_result(\"lbfgs\", opt_res, self.max_iter)\n",
            "\n"
          ]
        },
        {
          "output_type": "stream",
          "name": "stdout",
          "text": [
            " 38%|███▊      | 38/100 [01:15<01:55,  1.86s/trial, best loss: 32.485272233194415]"
          ]
        },
        {
          "output_type": "stream",
          "name": "stderr",
          "text": [
            "/usr/local/lib/python3.10/dist-packages/sklearn/neural_network/_multilayer_perceptron.py:541: ConvergenceWarning: lbfgs failed to converge (status=1):\n",
            "STOP: TOTAL NO. of ITERATIONS REACHED LIMIT.\n",
            "\n",
            "Increase the number of iterations (max_iter) or scale the data as shown in:\n",
            "    https://scikit-learn.org/stable/modules/preprocessing.html\n",
            "  self.n_iter_ = _check_optimize_result(\"lbfgs\", opt_res, self.max_iter)\n",
            "\n"
          ]
        },
        {
          "output_type": "stream",
          "name": "stdout",
          "text": [
            "\r 39%|███▉      | 39/100 [01:16<01:32,  1.52s/trial, best loss: 32.485272233194415]"
          ]
        },
        {
          "output_type": "stream",
          "name": "stderr",
          "text": [
            "/usr/local/lib/python3.10/dist-packages/sklearn/neural_network/_multilayer_perceptron.py:541: ConvergenceWarning: lbfgs failed to converge (status=1):\n",
            "STOP: TOTAL NO. of ITERATIONS REACHED LIMIT.\n",
            "\n",
            "Increase the number of iterations (max_iter) or scale the data as shown in:\n",
            "    https://scikit-learn.org/stable/modules/preprocessing.html\n",
            "  self.n_iter_ = _check_optimize_result(\"lbfgs\", opt_res, self.max_iter)\n",
            "\n"
          ]
        },
        {
          "output_type": "stream",
          "name": "stdout",
          "text": [
            "\r 40%|████      | 40/100 [01:18<01:31,  1.53s/trial, best loss: 32.485272233194415]"
          ]
        },
        {
          "output_type": "stream",
          "name": "stderr",
          "text": [
            "/usr/local/lib/python3.10/dist-packages/sklearn/neural_network/_multilayer_perceptron.py:541: ConvergenceWarning: lbfgs failed to converge (status=1):\n",
            "STOP: TOTAL NO. of ITERATIONS REACHED LIMIT.\n",
            "\n",
            "Increase the number of iterations (max_iter) or scale the data as shown in:\n",
            "    https://scikit-learn.org/stable/modules/preprocessing.html\n",
            "  self.n_iter_ = _check_optimize_result(\"lbfgs\", opt_res, self.max_iter)\n",
            "\n"
          ]
        },
        {
          "output_type": "stream",
          "name": "stdout",
          "text": [
            " 43%|████▎     | 43/100 [01:20<00:59,  1.04s/trial, best loss: 32.485272233194415]"
          ]
        },
        {
          "output_type": "stream",
          "name": "stderr",
          "text": [
            "/usr/local/lib/python3.10/dist-packages/sklearn/neural_network/_multilayer_perceptron.py:686: ConvergenceWarning: Stochastic Optimizer: Maximum iterations (500) reached and the optimization hasn't converged yet.\n",
            "  warnings.warn(\n",
            "\n"
          ]
        },
        {
          "output_type": "stream",
          "name": "stdout",
          "text": [
            "\r 44%|████▍     | 44/100 [01:22<01:18,  1.40s/trial, best loss: 31.505207371381115]"
          ]
        },
        {
          "output_type": "stream",
          "name": "stderr",
          "text": [
            "/usr/local/lib/python3.10/dist-packages/sklearn/neural_network/_multilayer_perceptron.py:541: ConvergenceWarning: lbfgs failed to converge (status=1):\n",
            "STOP: TOTAL NO. of ITERATIONS REACHED LIMIT.\n",
            "\n",
            "Increase the number of iterations (max_iter) or scale the data as shown in:\n",
            "    https://scikit-learn.org/stable/modules/preprocessing.html\n",
            "  self.n_iter_ = _check_optimize_result(\"lbfgs\", opt_res, self.max_iter)\n",
            "\n"
          ]
        },
        {
          "output_type": "stream",
          "name": "stdout",
          "text": [
            "\r 45%|████▌     | 45/100 [01:24<01:26,  1.57s/trial, best loss: 31.505207371381115]"
          ]
        },
        {
          "output_type": "stream",
          "name": "stderr",
          "text": [
            "/usr/local/lib/python3.10/dist-packages/sklearn/neural_network/_multilayer_perceptron.py:686: ConvergenceWarning: Stochastic Optimizer: Maximum iterations (1000) reached and the optimization hasn't converged yet.\n",
            "  warnings.warn(\n",
            "\n"
          ]
        },
        {
          "output_type": "stream",
          "name": "stdout",
          "text": [
            "\r 46%|████▌     | 46/100 [01:26<01:19,  1.46s/trial, best loss: 31.505207371381115]"
          ]
        },
        {
          "output_type": "stream",
          "name": "stderr",
          "text": [
            "/usr/local/lib/python3.10/dist-packages/sklearn/neural_network/_multilayer_perceptron.py:541: ConvergenceWarning: lbfgs failed to converge (status=1):\n",
            "STOP: TOTAL NO. of ITERATIONS REACHED LIMIT.\n",
            "\n",
            "Increase the number of iterations (max_iter) or scale the data as shown in:\n",
            "    https://scikit-learn.org/stable/modules/preprocessing.html\n",
            "  self.n_iter_ = _check_optimize_result(\"lbfgs\", opt_res, self.max_iter)\n",
            "\n"
          ]
        },
        {
          "output_type": "stream",
          "name": "stdout",
          "text": [
            " 48%|████▊     | 48/100 [01:29<01:27,  1.68s/trial, best loss: 31.505207371381115]"
          ]
        },
        {
          "output_type": "stream",
          "name": "stderr",
          "text": [
            "/usr/local/lib/python3.10/dist-packages/sklearn/neural_network/_multilayer_perceptron.py:686: ConvergenceWarning: Stochastic Optimizer: Maximum iterations (1000) reached and the optimization hasn't converged yet.\n",
            "  warnings.warn(\n",
            "\n"
          ]
        },
        {
          "output_type": "stream",
          "name": "stdout",
          "text": [
            " 50%|█████     | 50/100 [01:32<01:27,  1.76s/trial, best loss: 31.505207371381115]"
          ]
        },
        {
          "output_type": "stream",
          "name": "stderr",
          "text": [
            "/usr/local/lib/python3.10/dist-packages/sklearn/neural_network/_multilayer_perceptron.py:541: ConvergenceWarning: lbfgs failed to converge (status=1):\n",
            "STOP: TOTAL NO. of ITERATIONS REACHED LIMIT.\n",
            "\n",
            "Increase the number of iterations (max_iter) or scale the data as shown in:\n",
            "    https://scikit-learn.org/stable/modules/preprocessing.html\n",
            "  self.n_iter_ = _check_optimize_result(\"lbfgs\", opt_res, self.max_iter)\n",
            "\n"
          ]
        },
        {
          "output_type": "stream",
          "name": "stdout",
          "text": [
            " 52%|█████▏    | 52/100 [01:34<01:08,  1.43s/trial, best loss: 31.505207371381115]"
          ]
        },
        {
          "output_type": "stream",
          "name": "stderr",
          "text": [
            "/usr/local/lib/python3.10/dist-packages/sklearn/neural_network/_multilayer_perceptron.py:686: ConvergenceWarning: Stochastic Optimizer: Maximum iterations (700) reached and the optimization hasn't converged yet.\n",
            "  warnings.warn(\n",
            "\n"
          ]
        },
        {
          "output_type": "stream",
          "name": "stdout",
          "text": [
            "\r 53%|█████▎    | 53/100 [01:37<01:15,  1.62s/trial, best loss: 31.505207371381115]"
          ]
        },
        {
          "output_type": "stream",
          "name": "stderr",
          "text": [
            "/usr/local/lib/python3.10/dist-packages/sklearn/neural_network/_multilayer_perceptron.py:541: ConvergenceWarning: lbfgs failed to converge (status=1):\n",
            "STOP: TOTAL NO. of ITERATIONS REACHED LIMIT.\n",
            "\n",
            "Increase the number of iterations (max_iter) or scale the data as shown in:\n",
            "    https://scikit-learn.org/stable/modules/preprocessing.html\n",
            "  self.n_iter_ = _check_optimize_result(\"lbfgs\", opt_res, self.max_iter)\n",
            "\n"
          ]
        },
        {
          "output_type": "stream",
          "name": "stdout",
          "text": [
            " 55%|█████▌    | 55/100 [01:48<02:24,  3.21s/trial, best loss: 31.505207371381115]"
          ]
        },
        {
          "output_type": "stream",
          "name": "stderr",
          "text": [
            "/usr/local/lib/python3.10/dist-packages/sklearn/neural_network/_multilayer_perceptron.py:686: ConvergenceWarning: Stochastic Optimizer: Maximum iterations (1000) reached and the optimization hasn't converged yet.\n",
            "  warnings.warn(\n",
            "\n"
          ]
        },
        {
          "output_type": "stream",
          "name": "stdout",
          "text": [
            "\r 56%|█████▌    | 56/100 [01:50<02:01,  2.76s/trial, best loss: 31.505207371381115]"
          ]
        },
        {
          "output_type": "stream",
          "name": "stderr",
          "text": [
            "/usr/local/lib/python3.10/dist-packages/sklearn/neural_network/_multilayer_perceptron.py:686: ConvergenceWarning: Stochastic Optimizer: Maximum iterations (1000) reached and the optimization hasn't converged yet.\n",
            "  warnings.warn(\n",
            "\n"
          ]
        },
        {
          "output_type": "stream",
          "name": "stdout",
          "text": [
            "\r 57%|█████▋    | 57/100 [01:52<01:46,  2.48s/trial, best loss: 31.505207371381115]"
          ]
        },
        {
          "output_type": "stream",
          "name": "stderr",
          "text": [
            "/usr/local/lib/python3.10/dist-packages/sklearn/neural_network/_multilayer_perceptron.py:541: ConvergenceWarning: lbfgs failed to converge (status=1):\n",
            "STOP: TOTAL NO. of ITERATIONS REACHED LIMIT.\n",
            "\n",
            "Increase the number of iterations (max_iter) or scale the data as shown in:\n",
            "    https://scikit-learn.org/stable/modules/preprocessing.html\n",
            "  self.n_iter_ = _check_optimize_result(\"lbfgs\", opt_res, self.max_iter)\n",
            "\n"
          ]
        },
        {
          "output_type": "stream",
          "name": "stdout",
          "text": [
            "\r 58%|█████▊    | 58/100 [01:53<01:28,  2.10s/trial, best loss: 31.505207371381115]"
          ]
        },
        {
          "output_type": "stream",
          "name": "stderr",
          "text": [
            "/usr/local/lib/python3.10/dist-packages/sklearn/neural_network/_multilayer_perceptron.py:541: ConvergenceWarning: lbfgs failed to converge (status=1):\n",
            "STOP: TOTAL NO. of ITERATIONS REACHED LIMIT.\n",
            "\n",
            "Increase the number of iterations (max_iter) or scale the data as shown in:\n",
            "    https://scikit-learn.org/stable/modules/preprocessing.html\n",
            "  self.n_iter_ = _check_optimize_result(\"lbfgs\", opt_res, self.max_iter)\n",
            "\n"
          ]
        },
        {
          "output_type": "stream",
          "name": "stdout",
          "text": [
            "\r 59%|█████▉    | 59/100 [01:54<01:20,  1.97s/trial, best loss: 31.505207371381115]"
          ]
        },
        {
          "output_type": "stream",
          "name": "stderr",
          "text": [
            "/usr/local/lib/python3.10/dist-packages/sklearn/neural_network/_multilayer_perceptron.py:686: ConvergenceWarning: Stochastic Optimizer: Maximum iterations (1000) reached and the optimization hasn't converged yet.\n",
            "  warnings.warn(\n",
            "\n"
          ]
        },
        {
          "output_type": "stream",
          "name": "stdout",
          "text": [
            "\r 60%|██████    | 60/100 [02:01<02:12,  3.32s/trial, best loss: 31.505207371381115]"
          ]
        },
        {
          "output_type": "stream",
          "name": "stderr",
          "text": [
            "/usr/local/lib/python3.10/dist-packages/sklearn/neural_network/_multilayer_perceptron.py:541: ConvergenceWarning: lbfgs failed to converge (status=1):\n",
            "STOP: TOTAL NO. of ITERATIONS REACHED LIMIT.\n",
            "\n",
            "Increase the number of iterations (max_iter) or scale the data as shown in:\n",
            "    https://scikit-learn.org/stable/modules/preprocessing.html\n",
            "  self.n_iter_ = _check_optimize_result(\"lbfgs\", opt_res, self.max_iter)\n",
            "\n"
          ]
        },
        {
          "output_type": "stream",
          "name": "stdout",
          "text": [
            "\r 61%|██████    | 61/100 [02:02<01:49,  2.81s/trial, best loss: 31.505207371381115]"
          ]
        },
        {
          "output_type": "stream",
          "name": "stderr",
          "text": [
            "/usr/local/lib/python3.10/dist-packages/sklearn/neural_network/_multilayer_perceptron.py:686: ConvergenceWarning: Stochastic Optimizer: Maximum iterations (1000) reached and the optimization hasn't converged yet.\n",
            "  warnings.warn(\n",
            "\n"
          ]
        },
        {
          "output_type": "stream",
          "name": "stdout",
          "text": [
            "\r 62%|██████▏   | 62/100 [02:05<01:42,  2.71s/trial, best loss: 31.505207371381115]"
          ]
        },
        {
          "output_type": "stream",
          "name": "stderr",
          "text": [
            "/usr/local/lib/python3.10/dist-packages/sklearn/neural_network/_multilayer_perceptron.py:541: ConvergenceWarning: lbfgs failed to converge (status=1):\n",
            "STOP: TOTAL NO. of ITERATIONS REACHED LIMIT.\n",
            "\n",
            "Increase the number of iterations (max_iter) or scale the data as shown in:\n",
            "    https://scikit-learn.org/stable/modules/preprocessing.html\n",
            "  self.n_iter_ = _check_optimize_result(\"lbfgs\", opt_res, self.max_iter)\n",
            "\n"
          ]
        },
        {
          "output_type": "stream",
          "name": "stdout",
          "text": [
            "\r 63%|██████▎   | 63/100 [02:07<01:27,  2.37s/trial, best loss: 31.505207371381115]"
          ]
        },
        {
          "output_type": "stream",
          "name": "stderr",
          "text": [
            "/usr/local/lib/python3.10/dist-packages/sklearn/neural_network/_multilayer_perceptron.py:541: ConvergenceWarning: lbfgs failed to converge (status=1):\n",
            "STOP: TOTAL NO. of ITERATIONS REACHED LIMIT.\n",
            "\n",
            "Increase the number of iterations (max_iter) or scale the data as shown in:\n",
            "    https://scikit-learn.org/stable/modules/preprocessing.html\n",
            "  self.n_iter_ = _check_optimize_result(\"lbfgs\", opt_res, self.max_iter)\n",
            "\n"
          ]
        },
        {
          "output_type": "stream",
          "name": "stdout",
          "text": [
            " 65%|██████▌   | 65/100 [02:08<00:56,  1.62s/trial, best loss: 31.505207371381115]"
          ]
        },
        {
          "output_type": "stream",
          "name": "stderr",
          "text": [
            "/usr/local/lib/python3.10/dist-packages/sklearn/neural_network/_multilayer_perceptron.py:541: ConvergenceWarning: lbfgs failed to converge (status=1):\n",
            "STOP: TOTAL NO. of ITERATIONS REACHED LIMIT.\n",
            "\n",
            "Increase the number of iterations (max_iter) or scale the data as shown in:\n",
            "    https://scikit-learn.org/stable/modules/preprocessing.html\n",
            "  self.n_iter_ = _check_optimize_result(\"lbfgs\", opt_res, self.max_iter)\n",
            "\n"
          ]
        },
        {
          "output_type": "stream",
          "name": "stdout",
          "text": [
            "\r 66%|██████▌   | 66/100 [02:12<01:15,  2.22s/trial, best loss: 31.505207371381115]"
          ]
        },
        {
          "output_type": "stream",
          "name": "stderr",
          "text": [
            "/usr/local/lib/python3.10/dist-packages/sklearn/neural_network/_multilayer_perceptron.py:541: ConvergenceWarning: lbfgs failed to converge (status=1):\n",
            "STOP: TOTAL NO. of ITERATIONS REACHED LIMIT.\n",
            "\n",
            "Increase the number of iterations (max_iter) or scale the data as shown in:\n",
            "    https://scikit-learn.org/stable/modules/preprocessing.html\n",
            "  self.n_iter_ = _check_optimize_result(\"lbfgs\", opt_res, self.max_iter)\n",
            "\n"
          ]
        },
        {
          "output_type": "stream",
          "name": "stdout",
          "text": [
            "\r 67%|██████▋   | 67/100 [02:16<01:29,  2.71s/trial, best loss: 31.505207371381115]"
          ]
        },
        {
          "output_type": "stream",
          "name": "stderr",
          "text": [
            "/usr/local/lib/python3.10/dist-packages/sklearn/neural_network/_multilayer_perceptron.py:541: ConvergenceWarning: lbfgs failed to converge (status=1):\n",
            "STOP: TOTAL NO. of ITERATIONS REACHED LIMIT.\n",
            "\n",
            "Increase the number of iterations (max_iter) or scale the data as shown in:\n",
            "    https://scikit-learn.org/stable/modules/preprocessing.html\n",
            "  self.n_iter_ = _check_optimize_result(\"lbfgs\", opt_res, self.max_iter)\n",
            "\n"
          ]
        },
        {
          "output_type": "stream",
          "name": "stdout",
          "text": [
            "\r 68%|██████▊   | 68/100 [02:18<01:24,  2.64s/trial, best loss: 31.505207371381115]"
          ]
        },
        {
          "output_type": "stream",
          "name": "stderr",
          "text": [
            "/usr/local/lib/python3.10/dist-packages/sklearn/neural_network/_multilayer_perceptron.py:541: ConvergenceWarning: lbfgs failed to converge (status=1):\n",
            "STOP: TOTAL NO. of ITERATIONS REACHED LIMIT.\n",
            "\n",
            "Increase the number of iterations (max_iter) or scale the data as shown in:\n",
            "    https://scikit-learn.org/stable/modules/preprocessing.html\n",
            "  self.n_iter_ = _check_optimize_result(\"lbfgs\", opt_res, self.max_iter)\n",
            "\n"
          ]
        },
        {
          "output_type": "stream",
          "name": "stdout",
          "text": [
            "\r 69%|██████▉   | 69/100 [02:21<01:20,  2.59s/trial, best loss: 31.505207371381115]"
          ]
        },
        {
          "output_type": "stream",
          "name": "stderr",
          "text": [
            "/usr/local/lib/python3.10/dist-packages/sklearn/neural_network/_multilayer_perceptron.py:541: ConvergenceWarning: lbfgs failed to converge (status=1):\n",
            "STOP: TOTAL NO. of ITERATIONS REACHED LIMIT.\n",
            "\n",
            "Increase the number of iterations (max_iter) or scale the data as shown in:\n",
            "    https://scikit-learn.org/stable/modules/preprocessing.html\n",
            "  self.n_iter_ = _check_optimize_result(\"lbfgs\", opt_res, self.max_iter)\n",
            "\n"
          ]
        },
        {
          "output_type": "stream",
          "name": "stdout",
          "text": [
            "\r 70%|███████   | 70/100 [02:23<01:16,  2.56s/trial, best loss: 31.505207371381115]"
          ]
        },
        {
          "output_type": "stream",
          "name": "stderr",
          "text": [
            "/usr/local/lib/python3.10/dist-packages/sklearn/neural_network/_multilayer_perceptron.py:541: ConvergenceWarning: lbfgs failed to converge (status=1):\n",
            "STOP: TOTAL NO. of ITERATIONS REACHED LIMIT.\n",
            "\n",
            "Increase the number of iterations (max_iter) or scale the data as shown in:\n",
            "    https://scikit-learn.org/stable/modules/preprocessing.html\n",
            "  self.n_iter_ = _check_optimize_result(\"lbfgs\", opt_res, self.max_iter)\n",
            "\n"
          ]
        },
        {
          "output_type": "stream",
          "name": "stdout",
          "text": [
            "\r 71%|███████   | 71/100 [02:25<01:10,  2.45s/trial, best loss: 31.505207371381115]"
          ]
        },
        {
          "output_type": "stream",
          "name": "stderr",
          "text": [
            "/usr/local/lib/python3.10/dist-packages/sklearn/neural_network/_multilayer_perceptron.py:541: ConvergenceWarning: lbfgs failed to converge (status=1):\n",
            "STOP: TOTAL NO. of ITERATIONS REACHED LIMIT.\n",
            "\n",
            "Increase the number of iterations (max_iter) or scale the data as shown in:\n",
            "    https://scikit-learn.org/stable/modules/preprocessing.html\n",
            "  self.n_iter_ = _check_optimize_result(\"lbfgs\", opt_res, self.max_iter)\n",
            "\n"
          ]
        },
        {
          "output_type": "stream",
          "name": "stdout",
          "text": [
            "\r 72%|███████▏  | 72/100 [02:30<01:26,  3.11s/trial, best loss: 31.505207371381115]"
          ]
        },
        {
          "output_type": "stream",
          "name": "stderr",
          "text": [
            "/usr/local/lib/python3.10/dist-packages/sklearn/neural_network/_multilayer_perceptron.py:541: ConvergenceWarning: lbfgs failed to converge (status=1):\n",
            "STOP: TOTAL NO. of ITERATIONS REACHED LIMIT.\n",
            "\n",
            "Increase the number of iterations (max_iter) or scale the data as shown in:\n",
            "    https://scikit-learn.org/stable/modules/preprocessing.html\n",
            "  self.n_iter_ = _check_optimize_result(\"lbfgs\", opt_res, self.max_iter)\n",
            "\n"
          ]
        },
        {
          "output_type": "stream",
          "name": "stdout",
          "text": [
            "\r 73%|███████▎  | 73/100 [02:44<02:51,  6.34s/trial, best loss: 29.002695850241686]"
          ]
        },
        {
          "output_type": "stream",
          "name": "stderr",
          "text": [
            "/usr/local/lib/python3.10/dist-packages/sklearn/neural_network/_multilayer_perceptron.py:541: ConvergenceWarning: lbfgs failed to converge (status=1):\n",
            "STOP: TOTAL NO. of ITERATIONS REACHED LIMIT.\n",
            "\n",
            "Increase the number of iterations (max_iter) or scale the data as shown in:\n",
            "    https://scikit-learn.org/stable/modules/preprocessing.html\n",
            "  self.n_iter_ = _check_optimize_result(\"lbfgs\", opt_res, self.max_iter)\n",
            "\n"
          ]
        },
        {
          "output_type": "stream",
          "name": "stdout",
          "text": [
            " 75%|███████▌  | 75/100 [03:01<03:19,  7.97s/trial, best loss: 29.002695850241686]"
          ]
        },
        {
          "output_type": "stream",
          "name": "stderr",
          "text": [
            "/usr/local/lib/python3.10/dist-packages/sklearn/neural_network/_multilayer_perceptron.py:541: ConvergenceWarning: lbfgs failed to converge (status=1):\n",
            "STOP: TOTAL NO. of ITERATIONS REACHED LIMIT.\n",
            "\n",
            "Increase the number of iterations (max_iter) or scale the data as shown in:\n",
            "    https://scikit-learn.org/stable/modules/preprocessing.html\n",
            "  self.n_iter_ = _check_optimize_result(\"lbfgs\", opt_res, self.max_iter)\n",
            "\n"
          ]
        },
        {
          "output_type": "stream",
          "name": "stdout",
          "text": [
            "\r 76%|███████▌  | 76/100 [03:19<04:27, 11.14s/trial, best loss: 29.002695850241686]"
          ]
        },
        {
          "output_type": "stream",
          "name": "stderr",
          "text": [
            "/usr/local/lib/python3.10/dist-packages/sklearn/neural_network/_multilayer_perceptron.py:541: ConvergenceWarning: lbfgs failed to converge (status=1):\n",
            "STOP: TOTAL NO. of ITERATIONS REACHED LIMIT.\n",
            "\n",
            "Increase the number of iterations (max_iter) or scale the data as shown in:\n",
            "    https://scikit-learn.org/stable/modules/preprocessing.html\n",
            "  self.n_iter_ = _check_optimize_result(\"lbfgs\", opt_res, self.max_iter)\n",
            "\n"
          ]
        },
        {
          "output_type": "stream",
          "name": "stdout",
          "text": [
            "\r 77%|███████▋  | 77/100 [03:34<04:43, 12.32s/trial, best loss: 29.002695850241686]"
          ]
        },
        {
          "output_type": "stream",
          "name": "stderr",
          "text": [
            "/usr/local/lib/python3.10/dist-packages/sklearn/neural_network/_multilayer_perceptron.py:541: ConvergenceWarning: lbfgs failed to converge (status=1):\n",
            "STOP: TOTAL NO. of ITERATIONS REACHED LIMIT.\n",
            "\n",
            "Increase the number of iterations (max_iter) or scale the data as shown in:\n",
            "    https://scikit-learn.org/stable/modules/preprocessing.html\n",
            "  self.n_iter_ = _check_optimize_result(\"lbfgs\", opt_res, self.max_iter)\n",
            "\n"
          ]
        },
        {
          "output_type": "stream",
          "name": "stdout",
          "text": [
            " 79%|███████▉  | 79/100 [03:54<04:01, 11.52s/trial, best loss: 29.002695850241686]"
          ]
        },
        {
          "output_type": "stream",
          "name": "stderr",
          "text": [
            "/usr/local/lib/python3.10/dist-packages/sklearn/neural_network/_multilayer_perceptron.py:541: ConvergenceWarning: lbfgs failed to converge (status=1):\n",
            "STOP: TOTAL NO. of ITERATIONS REACHED LIMIT.\n",
            "\n",
            "Increase the number of iterations (max_iter) or scale the data as shown in:\n",
            "    https://scikit-learn.org/stable/modules/preprocessing.html\n",
            "  self.n_iter_ = _check_optimize_result(\"lbfgs\", opt_res, self.max_iter)\n",
            "\n"
          ]
        },
        {
          "output_type": "stream",
          "name": "stdout",
          "text": [
            " 81%|████████  | 81/100 [04:11<03:17, 10.40s/trial, best loss: 25.658555016377242]"
          ]
        },
        {
          "output_type": "stream",
          "name": "stderr",
          "text": [
            "/usr/local/lib/python3.10/dist-packages/sklearn/neural_network/_multilayer_perceptron.py:541: ConvergenceWarning: lbfgs failed to converge (status=1):\n",
            "STOP: TOTAL NO. of ITERATIONS REACHED LIMIT.\n",
            "\n",
            "Increase the number of iterations (max_iter) or scale the data as shown in:\n",
            "    https://scikit-learn.org/stable/modules/preprocessing.html\n",
            "  self.n_iter_ = _check_optimize_result(\"lbfgs\", opt_res, self.max_iter)\n",
            "\n"
          ]
        },
        {
          "output_type": "stream",
          "name": "stdout",
          "text": [
            "\r 82%|████████▏ | 82/100 [04:25<03:28, 11.58s/trial, best loss: 25.658555016377242]"
          ]
        },
        {
          "output_type": "stream",
          "name": "stderr",
          "text": [
            "/usr/local/lib/python3.10/dist-packages/sklearn/neural_network/_multilayer_perceptron.py:541: ConvergenceWarning: lbfgs failed to converge (status=1):\n",
            "STOP: TOTAL NO. of ITERATIONS REACHED LIMIT.\n",
            "\n",
            "Increase the number of iterations (max_iter) or scale the data as shown in:\n",
            "    https://scikit-learn.org/stable/modules/preprocessing.html\n",
            "  self.n_iter_ = _check_optimize_result(\"lbfgs\", opt_res, self.max_iter)\n",
            "\n"
          ]
        },
        {
          "output_type": "stream",
          "name": "stdout",
          "text": [
            " 84%|████████▍ | 84/100 [04:45<02:52, 10.80s/trial, best loss: 25.658555016377242]"
          ]
        },
        {
          "output_type": "stream",
          "name": "stderr",
          "text": [
            "/usr/local/lib/python3.10/dist-packages/sklearn/neural_network/_multilayer_perceptron.py:541: ConvergenceWarning: lbfgs failed to converge (status=1):\n",
            "STOP: TOTAL NO. of ITERATIONS REACHED LIMIT.\n",
            "\n",
            "Increase the number of iterations (max_iter) or scale the data as shown in:\n",
            "    https://scikit-learn.org/stable/modules/preprocessing.html\n",
            "  self.n_iter_ = _check_optimize_result(\"lbfgs\", opt_res, self.max_iter)\n",
            "\n"
          ]
        },
        {
          "output_type": "stream",
          "name": "stdout",
          "text": [
            "\r 85%|████████▌ | 85/100 [04:58<02:55, 11.71s/trial, best loss: 25.658555016377242]"
          ]
        },
        {
          "output_type": "stream",
          "name": "stderr",
          "text": [
            "/usr/local/lib/python3.10/dist-packages/sklearn/neural_network/_multilayer_perceptron.py:541: ConvergenceWarning: lbfgs failed to converge (status=1):\n",
            "STOP: TOTAL NO. of ITERATIONS REACHED LIMIT.\n",
            "\n",
            "Increase the number of iterations (max_iter) or scale the data as shown in:\n",
            "    https://scikit-learn.org/stable/modules/preprocessing.html\n",
            "  self.n_iter_ = _check_optimize_result(\"lbfgs\", opt_res, self.max_iter)\n",
            "\n"
          ]
        },
        {
          "output_type": "stream",
          "name": "stdout",
          "text": [
            "\r 86%|████████▌ | 86/100 [05:00<01:59,  8.56s/trial, best loss: 25.658555016377242]"
          ]
        },
        {
          "output_type": "stream",
          "name": "stderr",
          "text": [
            "/usr/local/lib/python3.10/dist-packages/sklearn/neural_network/_multilayer_perceptron.py:686: ConvergenceWarning: Stochastic Optimizer: Maximum iterations (700) reached and the optimization hasn't converged yet.\n",
            "  warnings.warn(\n",
            "\n"
          ]
        },
        {
          "output_type": "stream",
          "name": "stdout",
          "text": [
            "\r 88%|████████▊ | 88/100 [05:10<01:24,  7.07s/trial, best loss: 25.658555016377242]"
          ]
        },
        {
          "output_type": "stream",
          "name": "stderr",
          "text": [
            "/usr/local/lib/python3.10/dist-packages/sklearn/neural_network/_multilayer_perceptron.py:541: ConvergenceWarning: lbfgs failed to converge (status=1):\n",
            "STOP: TOTAL NO. of ITERATIONS REACHED LIMIT.\n",
            "\n",
            "Increase the number of iterations (max_iter) or scale the data as shown in:\n",
            "    https://scikit-learn.org/stable/modules/preprocessing.html\n",
            "  self.n_iter_ = _check_optimize_result(\"lbfgs\", opt_res, self.max_iter)\n",
            "\n"
          ]
        },
        {
          "output_type": "stream",
          "name": "stdout",
          "text": [
            "\r 89%|████████▉ | 89/100 [05:12<01:02,  5.72s/trial, best loss: 25.658555016377242]"
          ]
        },
        {
          "output_type": "stream",
          "name": "stderr",
          "text": [
            "/usr/local/lib/python3.10/dist-packages/sklearn/neural_network/_multilayer_perceptron.py:686: ConvergenceWarning: Stochastic Optimizer: Maximum iterations (700) reached and the optimization hasn't converged yet.\n",
            "  warnings.warn(\n",
            "\n"
          ]
        },
        {
          "output_type": "stream",
          "name": "stdout",
          "text": [
            "\r 90%|█████████ | 90/100 [05:26<01:18,  7.82s/trial, best loss: 25.658555016377242]"
          ]
        },
        {
          "output_type": "stream",
          "name": "stderr",
          "text": [
            "/usr/local/lib/python3.10/dist-packages/sklearn/neural_network/_multilayer_perceptron.py:541: ConvergenceWarning: lbfgs failed to converge (status=1):\n",
            "STOP: TOTAL NO. of ITERATIONS REACHED LIMIT.\n",
            "\n",
            "Increase the number of iterations (max_iter) or scale the data as shown in:\n",
            "    https://scikit-learn.org/stable/modules/preprocessing.html\n",
            "  self.n_iter_ = _check_optimize_result(\"lbfgs\", opt_res, self.max_iter)\n",
            "\n"
          ]
        },
        {
          "output_type": "stream",
          "name": "stdout",
          "text": [
            "\r 91%|█████████ | 91/100 [05:31<01:03,  7.08s/trial, best loss: 25.658555016377242]"
          ]
        },
        {
          "output_type": "stream",
          "name": "stderr",
          "text": [
            "/usr/local/lib/python3.10/dist-packages/sklearn/neural_network/_multilayer_perceptron.py:541: ConvergenceWarning: lbfgs failed to converge (status=1):\n",
            "STOP: TOTAL NO. of ITERATIONS REACHED LIMIT.\n",
            "\n",
            "Increase the number of iterations (max_iter) or scale the data as shown in:\n",
            "    https://scikit-learn.org/stable/modules/preprocessing.html\n",
            "  self.n_iter_ = _check_optimize_result(\"lbfgs\", opt_res, self.max_iter)\n",
            "\n"
          ]
        },
        {
          "output_type": "stream",
          "name": "stdout",
          "text": [
            "\r 92%|█████████▏| 92/100 [05:32<00:43,  5.42s/trial, best loss: 25.658555016377242]"
          ]
        },
        {
          "output_type": "stream",
          "name": "stderr",
          "text": [
            "/usr/local/lib/python3.10/dist-packages/sklearn/neural_network/_multilayer_perceptron.py:686: ConvergenceWarning: Stochastic Optimizer: Maximum iterations (700) reached and the optimization hasn't converged yet.\n",
            "  warnings.warn(\n",
            "\n"
          ]
        },
        {
          "output_type": "stream",
          "name": "stdout",
          "text": [
            "\r 94%|█████████▍| 94/100 [05:41<00:30,  5.06s/trial, best loss: 25.658555016377242]"
          ]
        },
        {
          "output_type": "stream",
          "name": "stderr",
          "text": [
            "/usr/local/lib/python3.10/dist-packages/sklearn/neural_network/_multilayer_perceptron.py:686: ConvergenceWarning: Stochastic Optimizer: Maximum iterations (700) reached and the optimization hasn't converged yet.\n",
            "  warnings.warn(\n",
            "\n"
          ]
        },
        {
          "output_type": "stream",
          "name": "stdout",
          "text": [
            " 96%|█████████▌| 96/100 [05:43<00:13,  3.28s/trial, best loss: 25.658555016377242]"
          ]
        },
        {
          "output_type": "stream",
          "name": "stderr",
          "text": [
            "/usr/local/lib/python3.10/dist-packages/sklearn/neural_network/_multilayer_perceptron.py:541: ConvergenceWarning: lbfgs failed to converge (status=1):\n",
            "STOP: TOTAL NO. of ITERATIONS REACHED LIMIT.\n",
            "\n",
            "Increase the number of iterations (max_iter) or scale the data as shown in:\n",
            "    https://scikit-learn.org/stable/modules/preprocessing.html\n",
            "  self.n_iter_ = _check_optimize_result(\"lbfgs\", opt_res, self.max_iter)\n",
            "\n"
          ]
        },
        {
          "output_type": "stream",
          "name": "stdout",
          "text": [
            "\r 97%|█████████▋| 97/100 [05:44<00:08,  2.77s/trial, best loss: 25.658555016377242]"
          ]
        },
        {
          "output_type": "stream",
          "name": "stderr",
          "text": [
            "/usr/local/lib/python3.10/dist-packages/sklearn/neural_network/_multilayer_perceptron.py:686: ConvergenceWarning: Stochastic Optimizer: Maximum iterations (700) reached and the optimization hasn't converged yet.\n",
            "  warnings.warn(\n",
            "\n"
          ]
        },
        {
          "output_type": "stream",
          "name": "stdout",
          "text": [
            "\r 98%|█████████▊| 98/100 [05:58<00:11,  5.76s/trial, best loss: 25.658555016377242]"
          ]
        },
        {
          "output_type": "stream",
          "name": "stderr",
          "text": [
            "/usr/local/lib/python3.10/dist-packages/sklearn/neural_network/_multilayer_perceptron.py:541: ConvergenceWarning: lbfgs failed to converge (status=1):\n",
            "STOP: TOTAL NO. of ITERATIONS REACHED LIMIT.\n",
            "\n",
            "Increase the number of iterations (max_iter) or scale the data as shown in:\n",
            "    https://scikit-learn.org/stable/modules/preprocessing.html\n",
            "  self.n_iter_ = _check_optimize_result(\"lbfgs\", opt_res, self.max_iter)\n",
            "\n"
          ]
        },
        {
          "output_type": "stream",
          "name": "stdout",
          "text": [
            "\r 99%|█████████▉| 99/100 [05:58<00:04,  4.32s/trial, best loss: 25.658555016377242]"
          ]
        },
        {
          "output_type": "stream",
          "name": "stderr",
          "text": [
            "/usr/local/lib/python3.10/dist-packages/sklearn/neural_network/_multilayer_perceptron.py:541: ConvergenceWarning: lbfgs failed to converge (status=1):\n",
            "STOP: TOTAL NO. of ITERATIONS REACHED LIMIT.\n",
            "\n",
            "Increase the number of iterations (max_iter) or scale the data as shown in:\n",
            "    https://scikit-learn.org/stable/modules/preprocessing.html\n",
            "  self.n_iter_ = _check_optimize_result(\"lbfgs\", opt_res, self.max_iter)\n",
            "\n"
          ]
        },
        {
          "output_type": "stream",
          "name": "stdout",
          "text": [
            "100%|██████████| 100/100 [06:00<00:00,  3.61s/trial, best loss: 25.658555016377242]\n",
            "Meilleurs hyperparamètres trouvés par hyperopt :\n",
            "{'activation': 0, 'alpha': 0, 'hidden_layer_sizes': 11, 'learning_rate': 1, 'max_iter': 2, 'solver': 1}\n"
          ]
        },
        {
          "output_type": "stream",
          "name": "stderr",
          "text": [
            "/usr/local/lib/python3.10/dist-packages/sklearn/neural_network/_multilayer_perceptron.py:686: ConvergenceWarning: Stochastic Optimizer: Maximum iterations (1000) reached and the optimization hasn't converged yet.\n",
            "  warnings.warn(\n",
            "\n"
          ]
        }
      ],
      "source": [
        "from hyperopt import hp, tpe, fmin, Trials\n",
        "\n",
        "# Définir l'espace de recherche des hyperparamètres\n",
        "space = {\n",
        "    'hidden_layer_sizes': hp.choice('hidden_layer_sizes', [(10,),(15,),(20,),(25,),(30,),(35,),(40,),(45,),(50,), (100,), (100, 50), (100, 100)]),\n",
        "    'activation': hp.choice('activation', ['relu', 'tanh', 'identity', 'logistic']),\n",
        "    'solver': hp.choice('solver', ['adam', 'lbfgs', 'sgd']),\n",
        "    'alpha': hp.choice('alpha', [0.01, 0.05, 0.1, 0.4, 0.45, 0.45, 0.5, 0.55, 0.6, 1.0]),\n",
        "    'learning_rate': hp.choice('learning_rate', ['constant', 'invscaling', 'adaptive']),\n",
        "    'max_iter': hp.choice('max_iter', [500, 700, 1000]),\n",
        "}\n",
        "\n",
        "# Définir la fonction objectif pour l'optimisation des hyperparamètres\n",
        "def objective(params):\n",
        "    mlp = MLPRegressor(random_state=77, **params)\n",
        "    mlp.fit(X_train_transformed, Y_train)\n",
        "    y_pred = mlp.predict(X_test_transoformed)\n",
        "    mse = mean_squared_error(Y_test, y_pred)\n",
        "    return mse  # La fonction objectif retourne la MSE\n",
        "\n",
        "# Initialiser un objet Trials pour stocker les résultats de chaque évaluation\n",
        "trials = Trials()\n",
        "\n",
        "# Trouver les meilleurs hyperparamètres avec hyperopt\n",
        "best = fmin(fn=objective, space=space, algo=tpe.suggest, max_evals=100, trials=trials)\n",
        "\n",
        "# Afficher les meilleurs hyperparamètres trouvés\n",
        "print(\"Meilleurs hyperparamètres trouvés par hyperopt :\")\n",
        "print(best)\n"
      ]
    },
    {
      "cell_type": "code",
      "execution_count": 9,
      "metadata": {
        "colab": {
          "base_uri": "https://localhost:8080/"
        },
        "id": "N0ej2vc5VYyB",
        "outputId": "9d909962-7406-4b55-a49d-11ba1c91e651"
      },
      "outputs": [
        {
          "output_type": "stream",
          "name": "stdout",
          "text": [
            "Meilleurs hyperparamètres trouvés par hyperopt :\n",
            "Activation: relu\n",
            "Solver: lbfgs\n",
            "Learning Rate: invscaling\n",
            "Max Iter: 1000\n",
            "Hidden Layer Sizes: (100, 100)\n"
          ]
        }
      ],
      "source": [
        "# Listes des choix pour chaque hyperparamètre\n",
        "activation_choices = ['relu', 'tanh', 'identity', 'logistic']\n",
        "solver_choices = ['adam', 'lbfgs', 'sgd']\n",
        "learning_rate_choices = ['constant', 'invscaling', 'adaptive']\n",
        "max_iter_choices = [500, 700, 1000]\n",
        "hidden_layer_sizes_choices = [(10,),(15,),(20,),(25,),(30,),(35,),(40,),(45,),(50,), (100,), (100, 50), (100, 100)]\n",
        "\n",
        "# Récupérer les meilleures valeurs pour chaque hyperparamètre\n",
        "best_activation = activation_choices[best['activation']]\n",
        "best_solver = solver_choices[best['solver']]\n",
        "best_learning_rate = learning_rate_choices[best['learning_rate']]\n",
        "best_max_iter = max_iter_choices[best['max_iter']]\n",
        "best_hidden_layer_sizes = hidden_layer_sizes_choices[best['hidden_layer_sizes']]\n",
        "\n",
        "# Afficher les meilleurs hyperparamètres trouvés\n",
        "print(\"Meilleurs hyperparamètres trouvés par hyperopt :\")\n",
        "print(\"Activation:\", best_activation)\n",
        "print(\"Solver:\", best_solver)\n",
        "print(\"Learning Rate:\", best_learning_rate)\n",
        "print(\"Max Iter:\", best_max_iter)\n",
        "print(\"Hidden Layer Sizes:\", best_hidden_layer_sizes)\n"
      ]
    },
    {
      "cell_type": "code",
      "execution_count": 10,
      "metadata": {
        "colab": {
          "base_uri": "https://localhost:8080/"
        },
        "id": "yiR4R0j-WCZJ",
        "outputId": "70a08c31-fd3c-4c15-9214-65eb03b42c12"
      },
      "outputs": [
        {
          "output_type": "stream",
          "name": "stdout",
          "text": [
            "Mean Squared Error on test set with best model found by hyperopt: 3.58229379441207\n",
            "Mean Squared Error on test set with best model found by hyperopt: 28.806065035713925\n",
            "Mean Squared Error on test set with best model found by hyperopt: 5.367128192591819\n",
            "R-squared (R^2) on test set with best model found by hyperopt: 0.8895033489182738\n"
          ]
        },
        {
          "output_type": "stream",
          "name": "stderr",
          "text": [
            "/usr/local/lib/python3.10/dist-packages/sklearn/neural_network/_multilayer_perceptron.py:541: ConvergenceWarning: lbfgs failed to converge (status=1):\n",
            "STOP: TOTAL NO. of ITERATIONS REACHED LIMIT.\n",
            "\n",
            "Increase the number of iterations (max_iter) or scale the data as shown in:\n",
            "    https://scikit-learn.org/stable/modules/preprocessing.html\n",
            "  self.n_iter_ = _check_optimize_result(\"lbfgs\", opt_res, self.max_iter)\n"
          ]
        }
      ],
      "source": [
        "from sklearn.neural_network import MLPRegressor\n",
        "from sklearn.metrics import mean_squared_error\n",
        "\n",
        "# Les meilleurs hyperparamètres trouvés par hyperopt\n",
        "best_activation = activation_choices[best['activation']]\n",
        "best_solver = solver_choices[best['solver']]\n",
        "best_learning_rate = learning_rate_choices[best['learning_rate']]\n",
        "best_max_iter = max_iter_choices[best['max_iter']]\n",
        "best_hidden_layer_sizes = hidden_layer_sizes_choices[best['hidden_layer_sizes']]\n",
        "\n",
        "# Créer un nouveau modèle MLPRegressor avec les meilleurs hyperparamètres\n",
        "best_model_hyperopt = MLPRegressor(\n",
        "    activation=best_activation,\n",
        "    solver=best_solver,\n",
        "    learning_rate=best_learning_rate,\n",
        "    max_iter=best_max_iter,\n",
        "    hidden_layer_sizes=best_hidden_layer_sizes,\n",
        "    random_state=77  # Assurez-vous de fixer la seed pour la reproductibilité\n",
        ")\n",
        "\n",
        "# Entraîner le modèle sur l'ensemble d'entraînement complet\n",
        "best_model_hyperopt.fit(X_train_transformed, Y_train)\n",
        "\n",
        "# Faire des prédictions sur l'ensemble de test\n",
        "y_pred_hyperopt = best_model_hyperopt.predict(X_test_transoformed)\n",
        "\n",
        "\n",
        "# Évaluer le modèle avec les meilleurs hyperparamètres\n",
        "\n",
        "mae_hyperopt = mean_absolute_error(Y_test, y_pred_hyperopt)\n",
        "mse_hyperopt = mean_squared_error(Y_test, y_pred_hyperopt)\n",
        "rmse_hyperopt = np.sqrt(mean_squared_error(Y_test, y_pred_hyperopt))\n",
        "r_squared_hyperopt = r2_score(Y_test, y_pred_hyperopt)\n",
        "\n",
        "print(f\"Mean Squared Error on test set with best model found by hyperopt: {mae_hyperopt}\")\n",
        "print(f\"Mean Squared Error on test set with best model found by hyperopt: {mse_hyperopt}\")\n",
        "print(f\"Mean Squared Error on test set with best model found by hyperopt: {rmse_hyperopt}\")\n",
        "print(f\"R-squared (R^2) on test set with best model found by hyperopt: {r_squared_hyperopt}\")"
      ]
    },
    {
      "cell_type": "code",
      "source": [
        "import matplotlib.pyplot as plt\n",
        "# Visualisation des prédictions par rapport aux valeurs réelles\n",
        "plt.figure(figsize=(8, 6))\n",
        "plt.scatter(Y_test, y_pred_hyperopt)\n",
        "plt.xlabel('True Values')\n",
        "plt.ylabel('Predictions')\n",
        "plt.title('True Values vs Predictions')\n",
        "plt.show()"
      ],
      "metadata": {
        "colab": {
          "base_uri": "https://localhost:8080/",
          "height": 564
        },
        "id": "hcBJi2aHUwoK",
        "outputId": "a44d90db-6eeb-4f78-c9dc-884df8b0f9b7"
      },
      "execution_count": 11,
      "outputs": [
        {
          "output_type": "display_data",
          "data": {
            "text/plain": [
              "<Figure size 800x600 with 1 Axes>"
            ],
            "image/png": "[encoded data removed]"
          },
          "metadata": {}
        }
      ]
    },
    {
      "cell_type": "markdown",
      "metadata": {
        "id": "ECTfpAkWI_Iq"
      },
      "source": [
        "# **tpot**"
      ]
    },
    {
      "cell_type": "code",
      "execution_count": 12,
      "metadata": {
        "colab": {
          "base_uri": "https://localhost:8080/"
        },
        "id": "PevK9cZ0en09",
        "outputId": "df88330d-1218-4cbd-ae92-b2f477dca8a9"
      },
      "outputs": [
        {
          "output_type": "stream",
          "name": "stdout",
          "text": [
            "Collecting tpot\n",
            "  Downloading TPOT-0.12.1-py3-none-any.whl (87 kB)\n",
            "\u001b[2K     \u001b[90m━━━━━━━━━━━━━━━━━━━━━━━━━━━━━━━━━━━━━━━━\u001b[0m \u001b[32m87.4/87.4 kB\u001b[0m \u001b[31m1.6 MB/s\u001b[0m eta \u001b[36m0:00:00\u001b[0m\n",
            "\u001b[?25hRequirement already satisfied: numpy>=1.16.3 in /usr/local/lib/python3.10/dist-packages (from tpot) (1.23.5)\n",
            "Requirement already satisfied: scipy>=1.3.1 in /usr/local/lib/python3.10/dist-packages (from tpot) (1.11.3)\n",
            "Requirement already satisfied: scikit-learn>=0.22.0 in /usr/local/lib/python3.10/dist-packages (from tpot) (1.2.2)\n",
            "Collecting deap>=1.2 (from tpot)\n",
            "  Downloading deap-1.4.1-cp310-cp310-manylinux_2_5_x86_64.manylinux1_x86_64.manylinux_2_17_x86_64.manylinux2014_x86_64.whl (135 kB)\n",
            "\u001b[2K     \u001b[90m━━━━━━━━━━━━━━━━━━━━━━━━━━━━━━━━━━━━━━━━\u001b[0m \u001b[32m135.4/135.4 kB\u001b[0m \u001b[31m7.7 MB/s\u001b[0m eta \u001b[36m0:00:00\u001b[0m\n",
            "\u001b[?25hCollecting update-checker>=0.16 (from tpot)\n",
            "  Downloading update_checker-0.18.0-py3-none-any.whl (7.0 kB)\n",
            "Requirement already satisfied: tqdm>=4.36.1 in /usr/local/lib/python3.10/dist-packages (from tpot) (4.66.1)\n",
            "Collecting stopit>=1.1.1 (from tpot)\n",
            "  Downloading stopit-1.1.2.tar.gz (18 kB)\n",
            "  Preparing metadata (setup.py) ... \u001b[?25l\u001b[?25hdone\n",
            "Requirement already satisfied: pandas>=0.24.2 in /usr/local/lib/python3.10/dist-packages (from tpot) (1.5.3)\n",
            "Requirement already satisfied: joblib>=0.13.2 in /usr/local/lib/python3.10/dist-packages (from tpot) (1.3.2)\n",
            "Requirement already satisfied: xgboost>=1.1.0 in /usr/local/lib/python3.10/dist-packages (from tpot) (2.0.2)\n",
            "Requirement already satisfied: python-dateutil>=2.8.1 in /usr/local/lib/python3.10/dist-packages (from pandas>=0.24.2->tpot) (2.8.2)\n",
            "Requirement already satisfied: pytz>=2020.1 in /usr/local/lib/python3.10/dist-packages (from pandas>=0.24.2->tpot) (2023.3.post1)\n",
            "Requirement already satisfied: threadpoolctl>=2.0.0 in /usr/local/lib/python3.10/dist-packages (from scikit-learn>=0.22.0->tpot) (3.2.0)\n",
            "Requirement already satisfied: requests>=2.3.0 in /usr/local/lib/python3.10/dist-packages (from update-checker>=0.16->tpot) (2.31.0)\n",
            "Requirement already satisfied: six>=1.5 in /usr/local/lib/python3.10/dist-packages (from python-dateutil>=2.8.1->pandas>=0.24.2->tpot) (1.16.0)\n",
            "Requirement already satisfied: charset-normalizer<4,>=2 in /usr/local/lib/python3.10/dist-packages (from requests>=2.3.0->update-checker>=0.16->tpot) (3.3.2)\n",
            "Requirement already satisfied: idna<4,>=2.5 in /usr/local/lib/python3.10/dist-packages (from requests>=2.3.0->update-checker>=0.16->tpot) (3.4)\n",
            "Requirement already satisfied: urllib3<3,>=1.21.1 in /usr/local/lib/python3.10/dist-packages (from requests>=2.3.0->update-checker>=0.16->tpot) (2.0.7)\n",
            "Requirement already satisfied: certifi>=2017.4.17 in /usr/local/lib/python3.10/dist-packages (from requests>=2.3.0->update-checker>=0.16->tpot) (2023.7.22)\n",
            "Building wheels for collected packages: stopit\n",
            "  Building wheel for stopit (setup.py) ... \u001b[?25l\u001b[?25hdone\n",
            "  Created wheel for stopit: filename=stopit-1.1.2-py3-none-any.whl size=11938 sha256=dd214adf1072da50e7afa159c5b655319dea7ffb875e84559b365d635d12dd77\n",
            "  Stored in directory: /root/.cache/pip/wheels/af/f9/87/bf5b3d565c2a007b4dae9d8142dccc85a9f164e517062dd519\n",
            "Successfully built stopit\n",
            "Installing collected packages: stopit, deap, update-checker, tpot\n",
            "Successfully installed deap-1.4.1 stopit-1.1.2 tpot-0.12.1 update-checker-0.18.0\n"
          ]
        }
      ],
      "source": [
        "!pip install tpot\n"
      ]
    },
    {
      "cell_type": "code",
      "execution_count": 15,
      "metadata": {
        "colab": {
          "base_uri": "https://localhost:8080/",
          "height": 349,
          "referenced_widgets": [
            "916bc217469b4af5838c2132e2d89f29",
            "fa263e9e0af340d09f6bd62e89560702",
            "18114dba04da40e88439d33c983fcbf4",
            "8ffa8b7f35b6419eae8e85e425aa5f17",
            "4afefa6125204b13bddff6ff14089922",
            "60a7e845deaf43848b3242db8a25ba59",
            "19210dd6ab9f40b484f48d2e36f34fa4",
            "61a0f70c8c634862bf2c328e09969bd2",
            "a803e5b64ba54b07afd84d2eb4345fd7",
            "09873aa30c9a479994ee5132770ef556",
            "9f1924738eb74475849703d806800e34"
          ]
        },
        "id": "VMDMKi08dR7U",
        "outputId": "3d007cdb-a5c6-4d0c-ae55-3eca727a81f2"
      },
      "outputs": [
        {
          "output_type": "display_data",
          "data": {
            "text/plain": [
              "Optimization Progress:   0%|          | 0/120 [00:00<?, ?pipeline/s]"
            ],
            "application/vnd.jupyter.widget-view+json": {
              "version_major": 2,
              "version_minor": 0,
              "model_id": "916bc217469b4af5838c2132e2d89f29"
            }
          },
          "metadata": {}
        },
        {
          "output_type": "stream",
          "name": "stdout",
          "text": [
            "\n",
            "Generation 1 - Current best internal CV score: -25.958871696185952\n",
            "\n",
            "Generation 2 - Current best internal CV score: -25.958871696185952\n",
            "\n",
            "Generation 3 - Current best internal CV score: -25.958871696185952\n",
            "\n",
            "Generation 4 - Current best internal CV score: -25.958871696185952\n",
            "\n",
            "Generation 5 - Current best internal CV score: -25.958871696185952\n",
            "\n",
            "Best pipeline: MLPRegressor(input_matrix, activation=logistic, alpha=0.6, hidden_layer_sizes=(45,), learning_rate=invscaling, max_iter=500, solver=lbfgs)\n",
            "Meilleurs hyperparamètres trouvés par TPOT:\n",
            "Pipeline(steps=[('mlpregressor',\n",
            "                 MLPRegressor(activation='logistic', alpha=0.6,\n",
            "                              hidden_layer_sizes=(45,),\n",
            "                              learning_rate='invscaling', max_iter=500,\n",
            "                              random_state=42, solver='lbfgs'))])\n"
          ]
        }
      ],
      "source": [
        "from tpot import TPOTRegressor\n",
        "# Initialiser TPOTRegressor avec le modèle MLPRegressor spécifié dans config_dict\n",
        "config = {\n",
        "    'sklearn.neural_network.MLPRegressor': {\n",
        "        'hidden_layer_sizes': [(10,),(15,),(20,),(25,),(30,),(35,),(40,),(45,),(50,), (100,), (100, 50), (100, 100)],\n",
        "        'activation': ['relu', 'tanh', 'identity', 'logistic'],\n",
        "        'solver': ['adam', 'lbfgs', 'sgd'],\n",
        "        'alpha': [0.01, 0.05, 0.1, 0.4, 0.45, 0.5, 0.55, 0.6, 1.0],\n",
        "        'learning_rate': ['constant', 'invscaling', 'adaptive'],\n",
        "        'max_iter': [500, 700, 1000]\n",
        "    }\n",
        "}\n",
        "\n",
        "\n",
        "\n",
        "# Initialiser TPOTRegressor avec le config_dict restreint\n",
        "tpot = TPOTRegressor(config_dict=config, generations=5, population_size=20, verbosity=2, random_state=42, scoring='neg_mean_squared_error')\n",
        "\n",
        "# Entraînement du modèle TPOT\n",
        "tpot.fit(X_train_transformed, Y_train)\n",
        "\n",
        "# Affichage des meilleurs hyperparamètres trouvés\n",
        "print(\"Meilleurs hyperparamètres trouvés par TPOT:\")\n",
        "print(tpot.fitted_pipeline_)\n",
        "\n",
        "# Exporter le code Python du modèle\n",
        "tpot.export('tpot_best_model.py')"
      ]
    },
    {
      "cell_type": "code",
      "source": [
        "# Créer le modèle MLPRegressor\n",
        "from sklearn.neural_network import MLPRegressor\n",
        "mlp_Tpot =  MLPRegressor(activation='logistic', alpha=0.6,\n",
        "                              hidden_layer_sizes=(45,),\n",
        "                              learning_rate='invscaling', max_iter=500,\n",
        "                              random_state=42, solver='lbfgs')\n",
        "\n",
        "\n",
        "#Entraînement du modèle sur les données d'apprentissage\n",
        "mlp_Tpot.fit(X_train_transformed, Y_train)\n",
        "\n",
        "#prediction sur les données de test\n",
        "y_pred_Tpot=mlp_Tpot.predict(X_test_transoformed)\n",
        "\n",
        "#metrics\n",
        "from sklearn.metrics import *\n",
        "print('MAE : ',mean_absolute_error(Y_test, y_pred_Tpot))\n",
        "print('MSE : ',mean_squared_error(Y_test, y_pred_Tpot))\n",
        "print('RMSE : ',np.sqrt(mean_squared_error(Y_test, y_pred_Tpot)))\n",
        "print(\"R-squared (R²) :\", r2_score(Y_test, y_pred_Tpot))\n"
      ],
      "metadata": {
        "colab": {
          "base_uri": "https://localhost:8080/"
        },
        "id": "Pr1LrDYderME",
        "outputId": "5cb2c287-40f6-4630-a645-3186d2a373a9"
      },
      "execution_count": 26,
      "outputs": [
        {
          "output_type": "stream",
          "name": "stdout",
          "text": [
            "MAE :  3.891977041527509\n",
            "MSE :  34.28033026736\n",
            "RMSE :  5.854940671549115\n",
            "R-squared (R²) : 0.8685047163566906\n"
          ]
        },
        {
          "output_type": "stream",
          "name": "stderr",
          "text": [
            "/usr/local/lib/python3.10/dist-packages/sklearn/neural_network/_multilayer_perceptron.py:541: ConvergenceWarning: lbfgs failed to converge (status=1):\n",
            "STOP: TOTAL NO. of ITERATIONS REACHED LIMIT.\n",
            "\n",
            "Increase the number of iterations (max_iter) or scale the data as shown in:\n",
            "    https://scikit-learn.org/stable/modules/preprocessing.html\n",
            "  self.n_iter_ = _check_optimize_result(\"lbfgs\", opt_res, self.max_iter)\n"
          ]
        }
      ]
    },
    {
      "cell_type": "code",
      "source": [
        "import matplotlib.pyplot as plt\n",
        "# Visualisation des prédictions par rapport aux valeurs réelles\n",
        "plt.figure(figsize=(8, 6))\n",
        "plt.scatter(Y_test, y_pred_Tpot)\n",
        "plt.xlabel('True Values')\n",
        "plt.ylabel('Predictions')\n",
        "plt.title('True Values vs Predictions')\n",
        "plt.show()"
      ],
      "metadata": {
        "colab": {
          "base_uri": "https://localhost:8080/",
          "height": 564
        },
        "id": "Wf47YVMfgvqU",
        "outputId": "5af32f7e-0889-433b-e422-bc8f7c9cc19e"
      },
      "execution_count": 27,
      "outputs": [
        {
          "output_type": "display_data",
          "data": {
            "text/plain": [
              "<Figure size 800x600 with 1 Axes>"
            ],
            "image/png": "[encoded data removed]"
          },
          "metadata": {}
        }
      ]
    },
    {
      "cell_type": "code",
      "source": [
        "# Créer un modèle MLPRegressor avec les meilleurs hyperparamètres trouvés par TPOT\n",
        "\n",
        "#best_hyperparams = tpot.fitted_pipeline_.get_params()['regressor']\n",
        "#mlp_best = MLPRegressor(**best_hyperparams)\n",
        "\n",
        "# Entraîner le modèle MLPRegressor avec les meilleurs hyperparamètres sur l'ensemble d'entraînement\n",
        "\n",
        "#mlp_best.fit(X_train_transformed, Y_train)\n",
        "\n",
        "# Prédictions sur l'ensemble de test\n",
        "\n",
        "#y_pred = mlp_best.predict(X_test_transformed)\n",
        "\n",
        "# Évaluation des performances du modèle\n",
        "\n",
        "#mse = mean_squared_error(Y_test, y_pred)\n",
        "\n",
        "# Affichage de la MSE\n",
        "\n",
        "#print(f\"Mean Squared Error on test set with best MLPRegressor model found by TPOT: {mse}\")"
      ],
      "metadata": {
        "id": "qxGoztNHyVgJ"
      },
      "execution_count": null,
      "outputs": []
    },
    {
      "cell_type": "code",
      "source": [
        "from tpot import TPOTRegressor\n",
        "from sklearn.neural_network import MLPRegressor\n",
        "from sklearn.metrics import mean_squared_error\n",
        "\n",
        "# ... (entraînement du modèle TPOT)\n",
        "\n",
        "# Accéder aux meilleurs hyperparamètres trouvés par TPOT\n",
        "best_hyperparams = tpot.fitted_pipeline_.get_params()['mlpregressor']\n",
        "\n",
        "# Affichage des meilleurs hyperparamètres\n",
        "print(\"Meilleurs hyperparamètres trouvés par TPOT:\")\n",
        "print(best_hyperparams)\n",
        "\n",
        "# Initialiser un modèle MLPRegressor avec les meilleurs hyperparamètres trouvés par TPOT\n",
        "mlp_best = MLPRegressor(**best_hyperparams)\n",
        "\n",
        "# Entraîner le modèle MLPRegressor avec les meilleurs hyperparamètres sur l'ensemble d'apprentissage\n",
        "mlp_best.fit(X_train_transformed, Y_train)\n",
        "\n",
        "# Prédictions sur l'ensemble de test\n",
        "y_pred = mlp_best.predict(X_test_transformed)\n",
        "\n",
        "# Évaluation des performances du modèle\n",
        "mse = mean_squared_error(Y_test, y_pred)\n",
        "\n",
        "# Affichage de la MSE\n",
        "print(f\"Mean Squared Error on test set with best MLPRegressor model found by TPOT: {mse}\")\n"
      ],
      "metadata": {
        "id": "0jx1rtAL-TaQ"
      },
      "execution_count": null,
      "outputs": []
    },
    {
      "cell_type": "markdown",
      "metadata": {
        "id": "Df2eN1N6IM4M"
      },
      "source": [
        "# Optimize hyperparameters of the model using **Optuna**"
      ]
    },
    {
      "cell_type": "code",
      "execution_count": 29,
      "metadata": {
        "id": "L7oNGtrEIB0Z",
        "colab": {
          "base_uri": "https://localhost:8080/",
          "height": 383
        },
        "outputId": "086391b9-d65f-4f8d-c624-ee104fdd6354"
      },
      "outputs": [
        {
          "output_type": "error",
          "ename": "ModuleNotFoundError",
          "evalue": "ignored",
          "traceback": [
            "\u001b[0;31m---------------------------------------------------------------------------\u001b[0m",
            "\u001b[0;31mModuleNotFoundError\u001b[0m                       Traceback (most recent call last)",
            "\u001b[0;32m<ipython-input-29-f2ec9e7b7552>\u001b[0m in \u001b[0;36m<cell line: 1>\u001b[0;34m()\u001b[0m\n\u001b[0;32m----> 1\u001b[0;31m \u001b[0;32mimport\u001b[0m \u001b[0moptuna\u001b[0m\u001b[0;34m\u001b[0m\u001b[0;34m\u001b[0m\u001b[0m\n\u001b[0m\u001b[1;32m      2\u001b[0m \u001b[0;32mfrom\u001b[0m \u001b[0msklearn\u001b[0m\u001b[0;34m.\u001b[0m\u001b[0mneural_network\u001b[0m \u001b[0;32mimport\u001b[0m \u001b[0mMLPRegressor\u001b[0m\u001b[0;34m\u001b[0m\u001b[0;34m\u001b[0m\u001b[0m\n\u001b[1;32m      3\u001b[0m \u001b[0;32mfrom\u001b[0m \u001b[0msklearn\u001b[0m\u001b[0;34m.\u001b[0m\u001b[0mmetrics\u001b[0m \u001b[0;32mimport\u001b[0m \u001b[0mmean_squared_error\u001b[0m\u001b[0;34m\u001b[0m\u001b[0;34m\u001b[0m\u001b[0m\n\u001b[1;32m      4\u001b[0m \u001b[0;32mfrom\u001b[0m \u001b[0msklearn\u001b[0m\u001b[0;34m.\u001b[0m\u001b[0mpreprocessing\u001b[0m \u001b[0;32mimport\u001b[0m \u001b[0mMinMaxScaler\u001b[0m\u001b[0;34m\u001b[0m\u001b[0;34m\u001b[0m\u001b[0m\n\u001b[1;32m      5\u001b[0m \u001b[0;32mfrom\u001b[0m \u001b[0msklearn\u001b[0m\u001b[0;34m.\u001b[0m\u001b[0mmodel_selection\u001b[0m \u001b[0;32mimport\u001b[0m \u001b[0mtrain_test_split\u001b[0m\u001b[0;34m\u001b[0m\u001b[0;34m\u001b[0m\u001b[0m\n",
            "\u001b[0;31mModuleNotFoundError\u001b[0m: No module named 'optuna'",
            "",
            "\u001b[0;31m---------------------------------------------------------------------------\u001b[0;32m\nNOTE: If your import is failing due to a missing package, you can\nmanually install dependencies using either !pip or !apt.\n\nTo view examples of installing some common dependencies, click the\n\"Open Examples\" button below.\n\u001b[0;31m---------------------------------------------------------------------------\u001b[0m\n"
          ],
          "errorDetails": {
            "actions": [
              {
                "action": "open_url",
                "actionText": "Open Examples",
                "url": "/notebooks/snippets/importing_libraries.ipynb"
              }
            ]
          }
        }
      ],
      "source": [
        "import optuna\n",
        "from sklearn.neural_network import MLPRegressor\n",
        "from sklearn.metrics import mean_squared_error\n",
        "from sklearn.preprocessing import MinMaxScaler\n",
        "from sklearn.model_selection import train_test_split\n",
        "\n",
        "# Supposons que X_train_transformed, X_test_transoformed, Y_train, Y_test sont déjà définis\n",
        "\n",
        "# Définir l'objectif d'optimisation pour Optuna\n",
        "def objective(trial):\n",
        "    # Définir les espaces de recherche pour les hyperparamètres\n",
        "    hidden_layer_sizes = trial.suggest_categorical('hidden_layer_sizes', [(50,), (100,), (100, 50), (100, 100)])\n",
        "    activation = trial.suggest_categorical('activation', ['relu', 'tanh', 'identity', 'logistic'])\n",
        "    solver = trial.suggest_categorical('solver', ['adam', 'lbfgs', 'sgd'])\n",
        "    alpha = trial.suggest_float('alpha', 0.01, 1.0)\n",
        "    learning_rate = trial.suggest_categorical('learning_rate', ['constant', 'invscaling', 'adaptive'])\n",
        "    max_iter = trial.suggest_categorical('max_iter', [500, 700, 1000])\n",
        "\n",
        "    # Initialiser le modèle avec les hyperparamètres suggérés\n",
        "    mlp = MLPRegressor(\n",
        "        hidden_layer_sizes=hidden_layer_sizes,\n",
        "        activation=activation,\n",
        "        solver=solver,\n",
        "        alpha=alpha,\n",
        "        learning_rate=learning_rate,\n",
        "        max_iter=max_iter,\n",
        "        random_state=77\n",
        "    )\n",
        "\n",
        "    # Entraîner le modèle sur les données d'entraînement\n",
        "    mlp.fit(X_train_transformed, Y_train)\n",
        "\n",
        "    # Prédictions sur l'ensemble de test\n",
        "    y_pred = mlp.predict(X_test_transoformed)\n",
        "\n",
        "    # Calculer la MSE (Mean Squared Error)\n",
        "    mse = mean_squared_error(Y_test, y_pred)\n",
        "\n",
        "    return mse\n",
        "\n",
        "# Créer un objet Optuna pour optimiser les hyperparamètres\n",
        "study = optuna.create_study(direction='minimize')\n",
        "study.optimize(objective, n_trials=100)\n",
        "\n",
        "# Afficher les meilleurs hyperparamètres trouvés par Optuna\n",
        "best_params = study.best_params\n",
        "print(\"Meilleurs hyperparamètres trouvés par Optuna:\")\n",
        "print(best_params)\n",
        "\n",
        "# Utiliser les meilleurs hyperparamètres pour entraîner le modèle final\n",
        "best_model = MLPRegressor(**best_params, random_state=77)\n",
        "best_model.fit(X_train_transformed, Y_train)\n",
        "\n",
        "# Faire des prédictions sur l'ensemble de test\n",
        "y_pred = best_model.predict(X_test_transoformed)\n",
        "\n",
        "# Calculer les performances du modèle final\n",
        "mse = mean_squared_error(Y_test, y_pred)\n",
        "print(f\"Mean Squared Error on test set with best model found by Optuna: {mse}\")\n"
      ]
    },
    {
      "cell_type": "code",
      "execution_count": null,
      "metadata": {
        "colab": {
          "base_uri": "https://localhost:8080/",
          "height": 332,
          "referenced_widgets": [
            "5320a4604cba4b238f1a19c5e170f504",
            "4226c0c6f9d2429db1a2c675392c6bb6",
            "e9fef71e21e74301a2e7809b958383cc",
            "5d181a77d37c4a71af764e49787bed7a",
            "1371b15ac8164ddab2c2dc9cea7545ff",
            "2d416294a3c74316a74ecbb4140ff4d2",
            "9963d35881fa4b30ac90a19a93d77a3f",
            "a30bd1c5898a418d8083011bbe367b24",
            "5cd8ad574aa84493a89febf9825ee0f6",
            "b94c0ae8174147fbac3c12f59f9b72de",
            "aed0e4ea8e3e41048beaffb864c193e4"
          ]
        },
        "id": "hHZp1tXmYsJj",
        "outputId": "b73736fb-159d-4874-f77b-a97bb21292f0"
      },
      "outputs": [
        {
          "data": {
            "application/vnd.jupyter.widget-view+json": {
              "model_id": "5320a4604cba4b238f1a19c5e170f504",
              "version_major": 2,
              "version_minor": 0
            },
            "text/plain": [
              "Optimization Progress:   0%|          | 0/120 [00:00<?, ?pipeline/s]"
            ]
          },
          "metadata": {},
          "output_type": "display_data"
        },
        {
          "name": "stdout",
          "output_type": "stream",
          "text": [
            "\n",
            "Generation 1 - Current best internal CV score: -29.353209228074626\n",
            "\n",
            "Generation 2 - Current best internal CV score: -29.353209228074626\n",
            "\n",
            "Generation 3 - Current best internal CV score: -29.353209228074626\n",
            "\n",
            "Generation 4 - Current best internal CV score: -29.040961413041636\n",
            "\n",
            "Generation 5 - Current best internal CV score: -25.48153818507018\n",
            "\n",
            "Best pipeline: RandomForestRegressor(input_matrix, bootstrap=False, max_features=0.45, min_samples_leaf=1, min_samples_split=2, n_estimators=100)\n",
            "Mean Squared Error on test set with best model found by TPOT: 24.10009644174356\n",
            "Meilleurs hyperparamètres trouvés par TPOT:\n",
            "Pipeline(steps=[('randomforestregressor',\n",
            "                 RandomForestRegressor(bootstrap=False, max_features=0.45,\n",
            "                                       random_state=42))])\n"
          ]
        }
      ],
      "source": [
        "from tpot import TPOTRegressor\n",
        "from sklearn.metrics import mean_squared_error\n",
        "\n",
        "# Initialisation de TPOTRegressor\n",
        "tpot = TPOTRegressor(generations=5, population_size=20, verbosity=2, random_state=42, scoring='neg_mean_squared_error')\n",
        "\n",
        "# Recherche des meilleurs hyperparamètres et entraînement du modèle\n",
        "tpot.fit(X_train_transformed, Y_train)\n",
        "\n",
        "# Évaluation du modèle sur l'ensemble de test\n",
        "y_pred_tpot = tpot.predict(X_test_transoformed)\n",
        "mse_tpot = mean_squared_error(Y_test, y_pred_tpot)\n",
        "print(f\"Mean Squared Error on test set with best model found by TPOT: {mse_tpot}\")\n",
        "\n",
        "# Affichage des meilleurs hyperparamètres trouvés\n",
        "print(\"Meilleurs hyperparamètres trouvés par TPOT:\")\n",
        "print(tpot.fitted_pipeline_)\n",
        "\n",
        "# Exporter le code Python du modèle\n",
        "tpot.export('tpot_best_model.py')\n"
      ]
    },
    {
      "cell_type": "code",
      "execution_count": null,
      "metadata": {
        "id": "pEdSxU09ne8j"
      },
      "outputs": [],
      "source": [
        "from sklearn.neural_network import MLPRegressor\n",
        "from sklearn.model_selection import GridSearchCV\n",
        "from sklearn.preprocessing import MinMaxScaler\n",
        "from sklearn.model_selection import train_test_split\n",
        "from sklearn.metrics import mean_squared_error\n",
        "\n",
        "# ... Votre code existant pour charger et préparer les données ...\n",
        "\n",
        "# Définition du modèle MLPRegressor\n",
        "ANN_model = MLPRegressor(random_state=1, max_iter=(2000))"
      ]
    }
  ],
  "metadata": {
    "colab": {
      "provenance": [],
      "authorship_tag": "ABX9TyN96En88TPCaRbQaGFexGrj",
      "include_colab_link": true
    },
    "kernelspec": {
      "display_name": "Python 3",
      "name": "python3"
    },
    "language_info": {
      "name": "python"
    },
    "widgets": {
      "application/vnd.jupyter.widget-state+json": {
        "1371b15ac8164ddab2c2dc9cea7545ff": {
          "model_module": "@jupyter-widgets/base",
          "model_module_version": "1.2.0",
          "model_name": "LayoutModel",
          "state": {
            "_model_module": "@jupyter-widgets/base",
            "_model_module_version": "1.2.0",
            "_model_name": "LayoutModel",
            "_view_count": null,
            "_view_module": "@jupyter-widgets/base",
            "_view_module_version": "1.2.0",
            "_view_name": "LayoutView",
            "align_content": null,
            "align_items": null,
            "align_self": null,
            "border": null,
            "bottom": null,
            "display": null,
            "flex": null,
            "flex_flow": null,
            "grid_area": null,
            "grid_auto_columns": null,
            "grid_auto_flow": null,
            "grid_auto_rows": null,
            "grid_column": null,
            "grid_gap": null,
            "grid_row": null,
            "grid_template_areas": null,
            "grid_template_columns": null,
            "grid_template_rows": null,
            "height": null,
            "justify_content": null,
            "justify_items": null,
            "left": null,
            "margin": null,
            "max_height": null,
            "max_width": null,
            "min_height": null,
            "min_width": null,
            "object_fit": null,
            "object_position": null,
            "order": null,
            "overflow": null,
            "overflow_x": null,
            "overflow_y": null,
            "padding": null,
            "right": null,
            "top": null,
            "visibility": "hidden",
            "width": null
          }
        },
        "2d416294a3c74316a74ecbb4140ff4d2": {
          "model_module": "@jupyter-widgets/base",
          "model_module_version": "1.2.0",
          "model_name": "LayoutModel",
          "state": {
            "_model_module": "@jupyter-widgets/base",
            "_model_module_version": "1.2.0",
            "_model_name": "LayoutModel",
            "_view_count": null,
            "_view_module": "@jupyter-widgets/base",
            "_view_module_version": "1.2.0",
            "_view_name": "LayoutView",
            "align_content": null,
            "align_items": null,
            "align_self": null,
            "border": null,
            "bottom": null,
            "display": null,
            "flex": null,
            "flex_flow": null,
            "grid_area": null,
            "grid_auto_columns": null,
            "grid_auto_flow": null,
            "grid_auto_rows": null,
            "grid_column": null,
            "grid_gap": null,
            "grid_row": null,
            "grid_template_areas": null,
            "grid_template_columns": null,
            "grid_template_rows": null,
            "height": null,
            "justify_content": null,
            "justify_items": null,
            "left": null,
            "margin": null,
            "max_height": null,
            "max_width": null,
            "min_height": null,
            "min_width": null,
            "object_fit": null,
            "object_position": null,
            "order": null,
            "overflow": null,
            "overflow_x": null,
            "overflow_y": null,
            "padding": null,
            "right": null,
            "top": null,
            "visibility": null,
            "width": null
          }
        },
        "4226c0c6f9d2429db1a2c675392c6bb6": {
          "model_module": "@jupyter-widgets/controls",
          "model_module_version": "1.5.0",
          "model_name": "HTMLModel",
          "state": {
            "_dom_classes": [],
            "_model_module": "@jupyter-widgets/controls",
            "_model_module_version": "1.5.0",
            "_model_name": "HTMLModel",
            "_view_count": null,
            "_view_module": "@jupyter-widgets/controls",
            "_view_module_version": "1.5.0",
            "_view_name": "HTMLView",
            "description": "",
            "description_tooltip": null,
            "layout": "IPY_MODEL_2d416294a3c74316a74ecbb4140ff4d2",
            "placeholder": "​",
            "style": "IPY_MODEL_9963d35881fa4b30ac90a19a93d77a3f",
            "value": "Optimization Progress: 100%"
          }
        },
        "5320a4604cba4b238f1a19c5e170f504": {
          "model_module": "@jupyter-widgets/controls",
          "model_module_version": "1.5.0",
          "model_name": "HBoxModel",
          "state": {
            "_dom_classes": [],
            "_model_module": "@jupyter-widgets/controls",
            "_model_module_version": "1.5.0",
            "_model_name": "HBoxModel",
            "_view_count": null,
            "_view_module": "@jupyter-widgets/controls",
            "_view_module_version": "1.5.0",
            "_view_name": "HBoxView",
            "box_style": "",
            "children": [
              "IPY_MODEL_4226c0c6f9d2429db1a2c675392c6bb6",
              "IPY_MODEL_e9fef71e21e74301a2e7809b958383cc",
              "IPY_MODEL_5d181a77d37c4a71af764e49787bed7a"
            ],
            "layout": "IPY_MODEL_1371b15ac8164ddab2c2dc9cea7545ff"
          }
        },
        "5cd8ad574aa84493a89febf9825ee0f6": {
          "model_module": "@jupyter-widgets/controls",
          "model_module_version": "1.5.0",
          "model_name": "ProgressStyleModel",
          "state": {
            "_model_module": "@jupyter-widgets/controls",
            "_model_module_version": "1.5.0",
            "_model_name": "ProgressStyleModel",
            "_view_count": null,
            "_view_module": "@jupyter-widgets/base",
            "_view_module_version": "1.2.0",
            "_view_name": "StyleView",
            "bar_color": null,
            "description_width": ""
          }
        },
        "5d181a77d37c4a71af764e49787bed7a": {
          "model_module": "@jupyter-widgets/controls",
          "model_module_version": "1.5.0",
          "model_name": "HTMLModel",
          "state": {
            "_dom_classes": [],
            "_model_module": "@jupyter-widgets/controls",
            "_model_module_version": "1.5.0",
            "_model_name": "HTMLModel",
            "_view_count": null,
            "_view_module": "@jupyter-widgets/controls",
            "_view_module_version": "1.5.0",
            "_view_name": "HTMLView",
            "description": "",
            "description_tooltip": null,
            "layout": "IPY_MODEL_b94c0ae8174147fbac3c12f59f9b72de",
            "placeholder": "​",
            "style": "IPY_MODEL_aed0e4ea8e3e41048beaffb864c193e4",
            "value": " 120/120 [04:35&lt;00:00,  2.35s/pipeline]"
          }
        },
        "9963d35881fa4b30ac90a19a93d77a3f": {
          "model_module": "@jupyter-widgets/controls",
          "model_module_version": "1.5.0",
          "model_name": "DescriptionStyleModel",
          "state": {
            "_model_module": "@jupyter-widgets/controls",
            "_model_module_version": "1.5.0",
            "_model_name": "DescriptionStyleModel",
            "_view_count": null,
            "_view_module": "@jupyter-widgets/base",
            "_view_module_version": "1.2.0",
            "_view_name": "StyleView",
            "description_width": ""
          }
        },
        "a30bd1c5898a418d8083011bbe367b24": {
          "model_module": "@jupyter-widgets/base",
          "model_module_version": "1.2.0",
          "model_name": "LayoutModel",
          "state": {
            "_model_module": "@jupyter-widgets/base",
            "_model_module_version": "1.2.0",
            "_model_name": "LayoutModel",
            "_view_count": null,
            "_view_module": "@jupyter-widgets/base",
            "_view_module_version": "1.2.0",
            "_view_name": "LayoutView",
            "align_content": null,
            "align_items": null,
            "align_self": null,
            "border": null,
            "bottom": null,
            "display": null,
            "flex": null,
            "flex_flow": null,
            "grid_area": null,
            "grid_auto_columns": null,
            "grid_auto_flow": null,
            "grid_auto_rows": null,
            "grid_column": null,
            "grid_gap": null,
            "grid_row": null,
            "grid_template_areas": null,
            "grid_template_columns": null,
            "grid_template_rows": null,
            "height": null,
            "justify_content": null,
            "justify_items": null,
            "left": null,
            "margin": null,
            "max_height": null,
            "max_width": null,
            "min_height": null,
            "min_width": null,
            "object_fit": null,
            "object_position": null,
            "order": null,
            "overflow": null,
            "overflow_x": null,
            "overflow_y": null,
            "padding": null,
            "right": null,
            "top": null,
            "visibility": null,
            "width": null
          }
        },
        "aed0e4ea8e3e41048beaffb864c193e4": {
          "model_module": "@jupyter-widgets/controls",
          "model_module_version": "1.5.0",
          "model_name": "DescriptionStyleModel",
          "state": {
            "_model_module": "@jupyter-widgets/controls",
            "_model_module_version": "1.5.0",
            "_model_name": "DescriptionStyleModel",
            "_view_count": null,
            "_view_module": "@jupyter-widgets/base",
            "_view_module_version": "1.2.0",
            "_view_name": "StyleView",
            "description_width": ""
          }
        },
        "b94c0ae8174147fbac3c12f59f9b72de": {
          "model_module": "@jupyter-widgets/base",
          "model_module_version": "1.2.0",
          "model_name": "LayoutModel",
          "state": {
            "_model_module": "@jupyter-widgets/base",
            "_model_module_version": "1.2.0",
            "_model_name": "LayoutModel",
            "_view_count": null,
            "_view_module": "@jupyter-widgets/base",
            "_view_module_version": "1.2.0",
            "_view_name": "LayoutView",
            "align_content": null,
            "align_items": null,
            "align_self": null,
            "border": null,
            "bottom": null,
            "display": null,
            "flex": null,
            "flex_flow": null,
            "grid_area": null,
            "grid_auto_columns": null,
            "grid_auto_flow": null,
            "grid_auto_rows": null,
            "grid_column": null,
            "grid_gap": null,
            "grid_row": null,
            "grid_template_areas": null,
            "grid_template_columns": null,
            "grid_template_rows": null,
            "height": null,
            "justify_content": null,
            "justify_items": null,
            "left": null,
            "margin": null,
            "max_height": null,
            "max_width": null,
            "min_height": null,
            "min_width": null,
            "object_fit": null,
            "object_position": null,
            "order": null,
            "overflow": null,
            "overflow_x": null,
            "overflow_y": null,
            "padding": null,
            "right": null,
            "top": null,
            "visibility": null,
            "width": null
          }
        },
        "e9fef71e21e74301a2e7809b958383cc": {
          "model_module": "@jupyter-widgets/controls",
          "model_module_version": "1.5.0",
          "model_name": "FloatProgressModel",
          "state": {
            "_dom_classes": [],
            "_model_module": "@jupyter-widgets/controls",
            "_model_module_version": "1.5.0",
            "_model_name": "FloatProgressModel",
            "_view_count": null,
            "_view_module": "@jupyter-widgets/controls",
            "_view_module_version": "1.5.0",
            "_view_name": "ProgressView",
            "bar_style": "",
            "description": "",
            "description_tooltip": null,
            "layout": "IPY_MODEL_a30bd1c5898a418d8083011bbe367b24",
            "max": 120,
            "min": 0,
            "orientation": "horizontal",
            "style": "IPY_MODEL_5cd8ad574aa84493a89febf9825ee0f6",
            "value": 120
          }
        },
        "916bc217469b4af5838c2132e2d89f29": {
          "model_module": "@jupyter-widgets/controls",
          "model_name": "HBoxModel",
          "model_module_version": "1.5.0",
          "state": {
            "_dom_classes": [],
            "_model_module": "@jupyter-widgets/controls",
            "_model_module_version": "1.5.0",
            "_model_name": "HBoxModel",
            "_view_count": null,
            "_view_module": "@jupyter-widgets/controls",
            "_view_module_version": "1.5.0",
            "_view_name": "HBoxView",
            "box_style": "",
            "children": [
              "IPY_MODEL_fa263e9e0af340d09f6bd62e89560702",
              "IPY_MODEL_18114dba04da40e88439d33c983fcbf4",
              "IPY_MODEL_8ffa8b7f35b6419eae8e85e425aa5f17"
            ],
            "layout": "IPY_MODEL_4afefa6125204b13bddff6ff14089922"
          }
        },
        "fa263e9e0af340d09f6bd62e89560702": {
          "model_module": "@jupyter-widgets/controls",
          "model_name": "HTMLModel",
          "model_module_version": "1.5.0",
          "state": {
            "_dom_classes": [],
            "_model_module": "@jupyter-widgets/controls",
            "_model_module_version": "1.5.0",
            "_model_name": "HTMLModel",
            "_view_count": null,
            "_view_module": "@jupyter-widgets/controls",
            "_view_module_version": "1.5.0",
            "_view_name": "HTMLView",
            "description": "",
            "description_tooltip": null,
            "layout": "IPY_MODEL_60a7e845deaf43848b3242db8a25ba59",
            "placeholder": "​",
            "style": "IPY_MODEL_19210dd6ab9f40b484f48d2e36f34fa4",
            "value": "Optimization Progress: 100%"
          }
        },
        "18114dba04da40e88439d33c983fcbf4": {
          "model_module": "@jupyter-widgets/controls",
          "model_name": "FloatProgressModel",
          "model_module_version": "1.5.0",
          "state": {
            "_dom_classes": [],
            "_model_module": "@jupyter-widgets/controls",
            "_model_module_version": "1.5.0",
            "_model_name": "FloatProgressModel",
            "_view_count": null,
            "_view_module": "@jupyter-widgets/controls",
            "_view_module_version": "1.5.0",
            "_view_name": "ProgressView",
            "bar_style": "",
            "description": "",
            "description_tooltip": null,
            "layout": "IPY_MODEL_61a0f70c8c634862bf2c328e09969bd2",
            "max": 120,
            "min": 0,
            "orientation": "horizontal",
            "style": "IPY_MODEL_a803e5b64ba54b07afd84d2eb4345fd7",
            "value": 120
          }
        },
        "8ffa8b7f35b6419eae8e85e425aa5f17": {
          "model_module": "@jupyter-widgets/controls",
          "model_name": "HTMLModel",
          "model_module_version": "1.5.0",
          "state": {
            "_dom_classes": [],
            "_model_module": "@jupyter-widgets/controls",
            "_model_module_version": "1.5.0",
            "_model_name": "HTMLModel",
            "_view_count": null,
            "_view_module": "@jupyter-widgets/controls",
            "_view_module_version": "1.5.0",
            "_view_name": "HTMLView",
            "description": "",
            "description_tooltip": null,
            "layout": "IPY_MODEL_09873aa30c9a479994ee5132770ef556",
            "placeholder": "​",
            "style": "IPY_MODEL_9f1924738eb74475849703d806800e34",
            "value": " 120/120 [19:37&lt;00:00, 10.22s/pipeline]"
          }
        },
        "4afefa6125204b13bddff6ff14089922": {
          "model_module": "@jupyter-widgets/base",
          "model_name": "LayoutModel",
          "model_module_version": "1.2.0",
          "state": {
            "_model_module": "@jupyter-widgets/base",
            "_model_module_version": "1.2.0",
            "_model_name": "LayoutModel",
            "_view_count": null,
            "_view_module": "@jupyter-widgets/base",
            "_view_module_version": "1.2.0",
            "_view_name": "LayoutView",
            "align_content": null,
            "align_items": null,
            "align_self": null,
            "border": null,
            "bottom": null,
            "display": null,
            "flex": null,
            "flex_flow": null,
            "grid_area": null,
            "grid_auto_columns": null,
            "grid_auto_flow": null,
            "grid_auto_rows": null,
            "grid_column": null,
            "grid_gap": null,
            "grid_row": null,
            "grid_template_areas": null,
            "grid_template_columns": null,
            "grid_template_rows": null,
            "height": null,
            "justify_content": null,
            "justify_items": null,
            "left": null,
            "margin": null,
            "max_height": null,
            "max_width": null,
            "min_height": null,
            "min_width": null,
            "object_fit": null,
            "object_position": null,
            "order": null,
            "overflow": null,
            "overflow_x": null,
            "overflow_y": null,
            "padding": null,
            "right": null,
            "top": null,
            "visibility": "hidden",
            "width": null
          }
        },
        "60a7e845deaf43848b3242db8a25ba59": {
          "model_module": "@jupyter-widgets/base",
          "model_name": "LayoutModel",
          "model_module_version": "1.2.0",
          "state": {
            "_model_module": "@jupyter-widgets/base",
            "_model_module_version": "1.2.0",
            "_model_name": "LayoutModel",
            "_view_count": null,
            "_view_module": "@jupyter-widgets/base",
            "_view_module_version": "1.2.0",
            "_view_name": "LayoutView",
            "align_content": null,
            "align_items": null,
            "align_self": null,
            "border": null,
            "bottom": null,
            "display": null,
            "flex": null,
            "flex_flow": null,
            "grid_area": null,
            "grid_auto_columns": null,
            "grid_auto_flow": null,
            "grid_auto_rows": null,
            "grid_column": null,
            "grid_gap": null,
            "grid_row": null,
            "grid_template_areas": null,
            "grid_template_columns": null,
            "grid_template_rows": null,
            "height": null,
            "justify_content": null,
            "justify_items": null,
            "left": null,
            "margin": null,
            "max_height": null,
            "max_width": null,
            "min_height": null,
            "min_width": null,
            "object_fit": null,
            "object_position": null,
            "order": null,
            "overflow": null,
            "overflow_x": null,
            "overflow_y": null,
            "padding": null,
            "right": null,
            "top": null,
            "visibility": null,
            "width": null
          }
        },
        "19210dd6ab9f40b484f48d2e36f34fa4": {
          "model_module": "@jupyter-widgets/controls",
          "model_name": "DescriptionStyleModel",
          "model_module_version": "1.5.0",
          "state": {
            "_model_module": "@jupyter-widgets/controls",
            "_model_module_version": "1.5.0",
            "_model_name": "DescriptionStyleModel",
            "_view_count": null,
            "_view_module": "@jupyter-widgets/base",
            "_view_module_version": "1.2.0",
            "_view_name": "StyleView",
            "description_width": ""
          }
        },
        "61a0f70c8c634862bf2c328e09969bd2": {
          "model_module": "@jupyter-widgets/base",
          "model_name": "LayoutModel",
          "model_module_version": "1.2.0",
          "state": {
            "_model_module": "@jupyter-widgets/base",
            "_model_module_version": "1.2.0",
            "_model_name": "LayoutModel",
            "_view_count": null,
            "_view_module": "@jupyter-widgets/base",
            "_view_module_version": "1.2.0",
            "_view_name": "LayoutView",
            "align_content": null,
            "align_items": null,
            "align_self": null,
            "border": null,
            "bottom": null,
            "display": null,
            "flex": null,
            "flex_flow": null,
            "grid_area": null,
            "grid_auto_columns": null,
            "grid_auto_flow": null,
            "grid_auto_rows": null,
            "grid_column": null,
            "grid_gap": null,
            "grid_row": null,
            "grid_template_areas": null,
            "grid_template_columns": null,
            "grid_template_rows": null,
            "height": null,
            "justify_content": null,
            "justify_items": null,
            "left": null,
            "margin": null,
            "max_height": null,
            "max_width": null,
            "min_height": null,
            "min_width": null,
            "object_fit": null,
            "object_position": null,
            "order": null,
            "overflow": null,
            "overflow_x": null,
            "overflow_y": null,
            "padding": null,
            "right": null,
            "top": null,
            "visibility": null,
            "width": null
          }
        },
        "a803e5b64ba54b07afd84d2eb4345fd7": {
          "model_module": "@jupyter-widgets/controls",
          "model_name": "ProgressStyleModel",
          "model_module_version": "1.5.0",
          "state": {
            "_model_module": "@jupyter-widgets/controls",
            "_model_module_version": "1.5.0",
            "_model_name": "ProgressStyleModel",
            "_view_count": null,
            "_view_module": "@jupyter-widgets/base",
            "_view_module_version": "1.2.0",
            "_view_name": "StyleView",
            "bar_color": null,
            "description_width": ""
          }
        },
        "09873aa30c9a479994ee5132770ef556": {
          "model_module": "@jupyter-widgets/base",
          "model_name": "LayoutModel",
          "model_module_version": "1.2.0",
          "state": {
            "_model_module": "@jupyter-widgets/base",
            "_model_module_version": "1.2.0",
            "_model_name": "LayoutModel",
            "_view_count": null,
            "_view_module": "@jupyter-widgets/base",
            "_view_module_version": "1.2.0",
            "_view_name": "LayoutView",
            "align_content": null,
            "align_items": null,
            "align_self": null,
            "border": null,
            "bottom": null,
            "display": null,
            "flex": null,
            "flex_flow": null,
            "grid_area": null,
            "grid_auto_columns": null,
            "grid_auto_flow": null,
            "grid_auto_rows": null,
            "grid_column": null,
            "grid_gap": null,
            "grid_row": null,
            "grid_template_areas": null,
            "grid_template_columns": null,
            "grid_template_rows": null,
            "height": null,
            "justify_content": null,
            "justify_items": null,
            "left": null,
            "margin": null,
            "max_height": null,
            "max_width": null,
            "min_height": null,
            "min_width": null,
            "object_fit": null,
            "object_position": null,
            "order": null,
            "overflow": null,
            "overflow_x": null,
            "overflow_y": null,
            "padding": null,
            "right": null,
            "top": null,
            "visibility": null,
            "width": null
          }
        },
        "9f1924738eb74475849703d806800e34": {
          "model_module": "@jupyter-widgets/controls",
          "model_name": "DescriptionStyleModel",
          "model_module_version": "1.5.0",
          "state": {
            "_model_module": "@jupyter-widgets/controls",
            "_model_module_version": "1.5.0",
            "_model_name": "DescriptionStyleModel",
            "_view_count": null,
            "_view_module": "@jupyter-widgets/base",
            "_view_module_version": "1.2.0",
            "_view_name": "StyleView",
            "description_width": ""
          }
        }
      }
    }
  },
  "nbformat": 4,
  "nbformat_minor": 0
}