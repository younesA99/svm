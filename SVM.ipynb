{
  "nbformat": 4,
  "nbformat_minor": 0,
  "metadata": {
    "colab": {
      "provenance": [],
      "authorship_tag": "ABX9TyOrevJlSwj9BJg+f9tmYPBy",
      "include_colab_link": true
    },
    "kernelspec": {
      "name": "python3",
      "display_name": "Python 3"
    },
    "language_info": {
      "name": "python"
    }
  },
  "cells": [
    {
      "cell_type": "markdown",
      "metadata": {
        "id": "view-in-github",
        "colab_type": "text"
      },
      "source": [
        "<a href=\"https://colab.research.google.com/github/younesA99/svm/blob/main/SVM.ipynb\" target=\"_parent\"><img src=\"https://colab.research.google.com/assets/colab-badge.svg\" alt=\"Open In Colab\"/></a>"
      ]
    },
    {
      "cell_type": "markdown",
      "source": [
        "### **SVM **"
      ],
      "metadata": {
        "id": "hJ2k8MB5JycE"
      }
    },
    {
      "cell_type": "code",
      "execution_count": 1,
      "metadata": {
        "id": "uunHSobVu9Cn"
      },
      "outputs": [],
      "source": [
        "import numpy as np\n",
        "import pandas as pd\n",
        "TrainPd=pd.read_excel(\"Concrete_Data.xls\")\n",
        "#renaming all featurses\n",
        "TrainPd.columns = ['cement','blastFurnace','flyAsh','water','superplasticizer','courseAggregate','fineaggregate','age','strength']\n",
        "\n",
        "#Verification des valeur manquantes\n",
        "TrainPd.isna().sum()\n",
        "\n",
        "# Split the data into features and target\n",
        "X=TrainPd.drop([\"strength\"],axis=1)\n",
        "Y=TrainPd[\"strength\"]\n",
        "Names=list(X.columns.values)\n",
        "\n",
        "# Split the data into training and testing sets\n",
        "from sklearn.model_selection import train_test_split\n",
        "X_train, X_test, Y_train, Y_test = train_test_split(X, Y, test_size=0.20, random_state = 1)\n",
        "\n",
        "#Normalisation des données\n",
        "from sklearn.preprocessing import MinMaxScaler\n",
        "scaler = MinMaxScaler()\n",
        "# Fit on training set only.\n",
        "scaler.fit(X_train)\n",
        "MinMaxScaler(copy=(), feature_range=(0,1))\n",
        "# Apply transform to both the training set and the test set.\n",
        "X_train_transformed = scaler.transform(X_train)\n",
        "X_test_transoformed = scaler.transform(X_test)"
      ]
    },
    {
      "cell_type": "code",
      "source": [
        "from sklearn.svm import SVR\n",
        "\n",
        "# Définition du modèle SVM avec noyau linéaire\n",
        "svm_regressor = SVR(kernel='linear')\n",
        "\n",
        "# Entraînement du modèle sur les données d'entraînement normalisées\n",
        "svm_regressor.fit(X_train_transformed, Y_train)\n"
      ],
      "metadata": {
        "colab": {
          "base_uri": "https://localhost:8080/",
          "height": 74
        },
        "id": "uLoGbCu_EnyV",
        "outputId": "8db6efa1-8675-4f59-a014-fa289914fe9c"
      },
      "execution_count": 2,
      "outputs": [
        {
          "output_type": "execute_result",
          "data": {
            "text/plain": [
              "SVR(kernel='linear')"
            ],
            "text/html": [
              "<style>#sk-container-id-1 {color: black;background-color: white;}#sk-container-id-1 pre{padding: 0;}#sk-container-id-1 div.sk-toggleable {background-color: white;}#sk-container-id-1 label.sk-toggleable__label {cursor: pointer;display: block;width: 100%;margin-bottom: 0;padding: 0.3em;box-sizing: border-box;text-align: center;}#sk-container-id-1 label.sk-toggleable__label-arrow:before {content: \"▸\";float: left;margin-right: 0.25em;color: #696969;}#sk-container-id-1 label.sk-toggleable__label-arrow:hover:before {color: black;}#sk-container-id-1 div.sk-estimator:hover label.sk-toggleable__label-arrow:before {color: black;}#sk-container-id-1 div.sk-toggleable__content {max-height: 0;max-width: 0;overflow: hidden;text-align: left;background-color: #f0f8ff;}#sk-container-id-1 div.sk-toggleable__content pre {margin: 0.2em;color: black;border-radius: 0.25em;background-color: #f0f8ff;}#sk-container-id-1 input.sk-toggleable__control:checked~div.sk-toggleable__content {max-height: 200px;max-width: 100%;overflow: auto;}#sk-container-id-1 input.sk-toggleable__control:checked~label.sk-toggleable__label-arrow:before {content: \"▾\";}#sk-container-id-1 div.sk-estimator input.sk-toggleable__control:checked~label.sk-toggleable__label {background-color: #d4ebff;}#sk-container-id-1 div.sk-label input.sk-toggleable__control:checked~label.sk-toggleable__label {background-color: #d4ebff;}#sk-container-id-1 input.sk-hidden--visually {border: 0;clip: rect(1px 1px 1px 1px);clip: rect(1px, 1px, 1px, 1px);height: 1px;margin: -1px;overflow: hidden;padding: 0;position: absolute;width: 1px;}#sk-container-id-1 div.sk-estimator {font-family: monospace;background-color: #f0f8ff;border: 1px dotted black;border-radius: 0.25em;box-sizing: border-box;margin-bottom: 0.5em;}#sk-container-id-1 div.sk-estimator:hover {background-color: #d4ebff;}#sk-container-id-1 div.sk-parallel-item::after {content: \"\";width: 100%;border-bottom: 1px solid gray;flex-grow: 1;}#sk-container-id-1 div.sk-label:hover label.sk-toggleable__label {background-color: #d4ebff;}#sk-container-id-1 div.sk-serial::before {content: \"\";position: absolute;border-left: 1px solid gray;box-sizing: border-box;top: 0;bottom: 0;left: 50%;z-index: 0;}#sk-container-id-1 div.sk-serial {display: flex;flex-direction: column;align-items: center;background-color: white;padding-right: 0.2em;padding-left: 0.2em;position: relative;}#sk-container-id-1 div.sk-item {position: relative;z-index: 1;}#sk-container-id-1 div.sk-parallel {display: flex;align-items: stretch;justify-content: center;background-color: white;position: relative;}#sk-container-id-1 div.sk-item::before, #sk-container-id-1 div.sk-parallel-item::before {content: \"\";position: absolute;border-left: 1px solid gray;box-sizing: border-box;top: 0;bottom: 0;left: 50%;z-index: -1;}#sk-container-id-1 div.sk-parallel-item {display: flex;flex-direction: column;z-index: 1;position: relative;background-color: white;}#sk-container-id-1 div.sk-parallel-item:first-child::after {align-self: flex-end;width: 50%;}#sk-container-id-1 div.sk-parallel-item:last-child::after {align-self: flex-start;width: 50%;}#sk-container-id-1 div.sk-parallel-item:only-child::after {width: 0;}#sk-container-id-1 div.sk-dashed-wrapped {border: 1px dashed gray;margin: 0 0.4em 0.5em 0.4em;box-sizing: border-box;padding-bottom: 0.4em;background-color: white;}#sk-container-id-1 div.sk-label label {font-family: monospace;font-weight: bold;display: inline-block;line-height: 1.2em;}#sk-container-id-1 div.sk-label-container {text-align: center;}#sk-container-id-1 div.sk-container {/* jupyter's `normalize.less` sets `[hidden] { display: none; }` but bootstrap.min.css set `[hidden] { display: none !important; }` so we also need the `!important` here to be able to override the default hidden behavior on the sphinx rendered scikit-learn.org. See: https://github.com/scikit-learn/scikit-learn/issues/21755 */display: inline-block !important;position: relative;}#sk-container-id-1 div.sk-text-repr-fallback {display: none;}</style><div id=\"sk-container-id-1\" class=\"sk-top-container\"><div class=\"sk-text-repr-fallback\"><pre>SVR(kernel=&#x27;linear&#x27;)</pre><b>In a Jupyter environment, please rerun this cell to show the HTML representation or trust the notebook. <br />On GitHub, the HTML representation is unable to render, please try loading this page with nbviewer.org.</b></div><div class=\"sk-container\" hidden><div class=\"sk-item\"><div class=\"sk-estimator sk-toggleable\"><input class=\"sk-toggleable__control sk-hidden--visually\" id=\"sk-estimator-id-1\" type=\"checkbox\" checked><label for=\"sk-estimator-id-1\" class=\"sk-toggleable__label sk-toggleable__label-arrow\">SVR</label><div class=\"sk-toggleable__content\"><pre>SVR(kernel=&#x27;linear&#x27;)</pre></div></div></div></div></div>"
            ]
          },
          "metadata": {},
          "execution_count": 2
        }
      ]
    },
    {
      "cell_type": "code",
      "source": [
        "from sklearn.model_selection import GridSearchCV\n",
        "from sklearn.metrics import mean_absolute_error, mean_squared_error, r2_score\n",
        "import numpy as np\n",
        "\n",
        "# Définition des hyperparamètres à tester\n",
        "param_grid = {\n",
        "    'C': [0.1, 1, 10, 100],\n",
        "    'kernel': ['linear', 'rbf'],\n",
        "    'gamma': [0.1, 1, 10],\n",
        "    'epsilon': [0.1, 0.01, 0.001]\n",
        "}\n",
        "\n",
        "# Initialisation de la recherche par grille\n",
        "grid_search = GridSearchCV(SVR(), param_grid, cv=5)\n",
        "\n",
        "# Exécution de la recherche par grille sur les données d'entraînement\n",
        "grid_search.fit(X_train_transformed, Y_train)\n",
        "\n",
        "# Affichage des meilleurs hyperparamètres trouvés\n",
        "print(\"Meilleurs hyperparamètres trouvés : \", grid_search.best_params_)\n",
        "\n",
        "# Utilisation du modèle avec les meilleurs paramètres sur les données de test\n",
        "best_svm = grid_search.best_estimator_\n",
        "predictions = best_svm.predict(X_test_transoformed)\n",
        "\n",
        "# Calcul de l'erreur absolue moyenne (MAE)\n",
        "mae = mean_absolute_error(Y_test, predictions)\n",
        "print(\"Mean Absolute Error (MAE) :\", mae)\n",
        "\n",
        "# Calcul de l'erreur quadratique moyenne (MSE)\n",
        "mse = mean_squared_error(Y_test, predictions)\n",
        "print(\"Mean Squared Error (MSE) :\", mse)\n",
        "\n",
        "# Calcul de la racine de l'erreur quadratique moyenne (RMSE)\n",
        "rmse = np.sqrt(mse)\n",
        "print(\"Root Mean Squared Error (RMSE) :\", rmse)\n",
        "\n",
        "# Calcul du coefficient de détermination R²\n",
        "r2 = r2_score(Y_test, predictions)\n",
        "print(\"R-squared (R²) :\", r2)\n"
      ],
      "metadata": {
        "colab": {
          "base_uri": "https://localhost:8080/"
        },
        "id": "0A6NERB2EwhC",
        "outputId": "327a7a05-6a77-4294-fdde-4d339463d860"
      },
      "execution_count": 4,
      "outputs": [
        {
          "output_type": "stream",
          "name": "stdout",
          "text": [
            "Meilleurs hyperparamètres trouvés :  {'C': 100, 'epsilon': 0.1, 'gamma': 10, 'kernel': 'rbf'}\n",
            "Mean Absolute Error (MAE) : 4.46104008093728\n",
            "Mean Squared Error (MSE) : 50.624545846321716\n",
            "Root Mean Squared Error (RMSE) : 7.115092820639918\n",
            "R-squared (R²) : 0.8058102426826924\n"
          ]
        }
      ]
    },
    {
      "cell_type": "code",
      "source": [
        "import matplotlib.pyplot as plt\n",
        "# Visualisation des prédictions par rapport aux valeurs réelles\n",
        "plt.figure(figsize=(8, 6))\n",
        "plt.scatter(Y_test, predictions)\n",
        "plt.xlabel('True Values')\n",
        "plt.ylabel('Predictions')\n",
        "plt.title('True Values vs Predictions')\n",
        "plt.show()"
      ],
      "metadata": {
        "colab": {
          "base_uri": "https://localhost:8080/",
          "height": 564
        },
        "id": "Sh4GzVRaKGhY",
        "outputId": "1a7409f5-e83c-48a2-ec22-a3541f2f8e3d"
      },
      "execution_count": 5,
      "outputs": [
        {
          "output_type": "display_data",
          "data": {
            "text/plain": [
              "<Figure size 800x600 with 1 Axes>"
            ],
            "image/png": "[encoded data removed]"
          },
          "metadata": {}
        }
      ]
    },
    {
      "cell_type": "markdown",
      "source": [
        "# **XGBoost**"
      ],
      "metadata": {
        "id": "wkJgvjOIKn8d"
      }
    },
    {
      "cell_type": "code",
      "source": [
        "\n",
        "import xgboost as xgb\n",
        "\n",
        "\n",
        "# Réglage des hyperparamètres pour XGBoost\n",
        "xgb_regressor = xgb.XGBRegressor()\n",
        "\n",
        "# Paramètres à régler\n",
        "param_grid = {\n",
        "    'learning_rate': [0.1, 0.01, 0.001],\n",
        "    'max_depth': [3, 5, 7],\n",
        "    'n_estimators': [100, 200, 300]\n",
        "}\n",
        "\n",
        "# Recherche par grille pour trouver les meilleurs hyperparamètres\n",
        "from sklearn.model_selection import GridSearchCV\n",
        "grid_search = GridSearchCV(xgb_regressor, param_grid, cv=5)\n",
        "grid_search.fit(X_train_transformed, Y_train)\n",
        "\n",
        "# Meilleurs hyperparamètres trouvés\n",
        "best_params = grid_search.best_params_\n",
        "print(\"Meilleurs hyperparamètres trouvés :\", best_params)\n",
        "\n",
        "# Utilisation du modèle avec les meilleurs hyperparamètres\n",
        "best_xgb = xgb.XGBRegressor(**best_params)\n",
        "best_xgb.fit(X_train_transformed, Y_train)\n",
        "predictions = best_xgb.predict(X_test_transoformed)\n",
        "\n",
        "# Évaluation du modèle\n",
        "mae = mean_absolute_error(Y_test, predictions)\n",
        "mse = mean_squared_error(Y_test, predictions)\n",
        "rmse = np.sqrt(mse)\n",
        "r2 = r2_score(Y_test, predictions)\n",
        "\n",
        "print(\"Mean Absolute Error (MAE) :\", mae)\n",
        "print(\"Mean Squared Error (MSE) :\", mse)\n",
        "print(\"Root Mean Squared Error (RMSE) :\", rmse)\n",
        "print(\"R-squared (R²) :\", r2)\n"
      ],
      "metadata": {
        "colab": {
          "base_uri": "https://localhost:8080/"
        },
        "id": "x8XE_DpHKss0",
        "outputId": "f39e2002-94c2-476a-c461-d833084f0f48"
      },
      "execution_count": 6,
      "outputs": [
        {
          "output_type": "stream",
          "name": "stdout",
          "text": [
            "Meilleurs hyperparamètres trouvés : {'learning_rate': 0.1, 'max_depth': 3, 'n_estimators': 300}\n",
            "Mean Absolute Error (MAE) : 3.286273375987067\n",
            "Mean Squared Error (MSE) : 22.316317603715795\n",
            "Root Mean Squared Error (RMSE) : 4.724014987668413\n",
            "R-squared (R²) : 0.9143972508348654\n"
          ]
        }
      ]
    }
  ]
}