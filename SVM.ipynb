{
  "nbformat": 4,
  "nbformat_minor": 0,
  "metadata": {
    "colab": {
      "provenance": [],
      "authorship_tag": "ABX9TyMbD9xMqBNdYvm/Qh8n0NHC",
      "include_colab_link": true
    },
    "kernelspec": {
      "name": "python3",
      "display_name": "Python 3"
    },
    "language_info": {
      "name": "python"
    }
  },
  "cells": [
    {
      "cell_type": "markdown",
      "metadata": {
        "id": "view-in-github",
        "colab_type": "text"
      },
      "source": [
        "<a href=\"https://colab.research.google.com/github/younesA99/svm/blob/main/SVM.ipynb\" target=\"_parent\"><img src=\"https://colab.research.google.com/assets/colab-badge.svg\" alt=\"Open In Colab\"/></a>"
      ]
    },
    {
      "cell_type": "code",
      "execution_count": 8,
      "metadata": {
        "id": "uunHSobVu9Cn"
      },
      "outputs": [],
      "source": [
        "import numpy as np\n",
        "import pandas as pd\n",
        "TrainPd=pd.read_excel(\"Concrete_Data.xls\")\n",
        "#renaming all featurses\n",
        "TrainPd.columns = ['cement','blastFurnace','flyAsh','water','superplasticizer','courseAggregate','fineaggregate','age','strength']\n",
        "\n",
        "#Verification des valeur manquantes\n",
        "TrainPd.isna().sum()\n",
        "\n",
        "# Split the data into features and target\n",
        "X=TrainPd.drop([\"strength\"],axis=1)\n",
        "Y=TrainPd[\"strength\"]\n",
        "Names=list(X.columns.values)\n",
        "\n",
        "# Split the data into training and testing sets\n",
        "from sklearn.model_selection import train_test_split\n",
        "X_train, X_test, Y_train, Y_test = train_test_split(X, Y, test_size=0.20, random_state = 1)\n",
        "\n",
        "#Normalisation des données\n",
        "from sklearn.preprocessing import MinMaxScaler\n",
        "scaler = MinMaxScaler()\n",
        "# Fit on training set only.\n",
        "scaler.fit(X_train)\n",
        "MinMaxScaler(copy=(), feature_range=(0,1))\n",
        "# Apply transform to both the training set and the test set.\n",
        "X_train_transformed = scaler.transform(X_train)\n",
        "X_test_transoformed = scaler.transform(X_test)"
      ]
    },
    {
      "cell_type": "markdown",
      "source": [
        "# **SVM**"
      ],
      "metadata": {
        "id": "lPerBGZj2tac"
      }
    },
    {
      "cell_type": "code",
      "source": [
        "#from sklearn.svm import SVR\n",
        "\n",
        "# Définition du modèle SVM avec noyau linéaire\n",
        "#svm_regressor = SVR(kernel='linear')\n",
        "\n",
        "# Entraînement du modèle sur les données d'entraînement normalisées\n",
        "#svm_regressor.fit(X_train_transformed, Y_train)\n",
        "\n",
        "\n",
        "\n"
      ],
      "metadata": {
        "id": "uLoGbCu_EnyV"
      },
      "execution_count": null,
      "outputs": []
    },
    {
      "cell_type": "code",
      "source": [
        "from sklearn.svm import SVR\n",
        "\n",
        "# Définition du modèle SVR\n",
        "svm_regressor = SVR(kernel='rbf', C=1.0, epsilon=0.1)\n",
        "\n",
        "# Entraînement du modèle sur les données d'entraînement normalisées\n",
        "svm_regressor.fit(X_train_transformed, Y_train)\n",
        "\n",
        "# Prédiction sur l'ensemble de test\n",
        "predictions = svm_regressor.predict(X_test_transoformed)\n"
      ],
      "metadata": {
        "id": "wXKnXkAyyv62"
      },
      "execution_count": 9,
      "outputs": []
    },
    {
      "cell_type": "code",
      "source": [
        "# Création d'un DataFrame avec les colonnes ID, Y_test et predictions\n",
        "results_df = pd.DataFrame({'Y_test': Y_test.values, 'predictions': predictions})\n",
        "\n",
        "# Affichage des cinq premières lignes du DataFrame\n",
        "print(results_df.head())\n"
      ],
      "metadata": {
        "colab": {
          "base_uri": "https://localhost:8080/"
        },
        "id": "3S1th5_s5_R5",
        "outputId": "4ea15268-ccf4-43ec-874f-52e9b34064a3"
      },
      "execution_count": 10,
      "outputs": [
        {
          "output_type": "stream",
          "name": "stdout",
          "text": [
            "      Y_test  predictions\n",
            "0  21.911547    33.030019\n",
            "1  19.932751    24.364934\n",
            "2  36.438807    26.528958\n",
            "3  11.957582    19.781249\n",
            "4  39.844818    32.050227\n"
          ]
        }
      ]
    },
    {
      "cell_type": "code",
      "source": [
        "predictions_df = pd.DataFrame({'Y_test': Y_test.values, 'predictions1': predictions})\n",
        "predictions_df.head()\n"
      ],
      "metadata": {
        "colab": {
          "base_uri": "https://localhost:8080/",
          "height": 206
        },
        "id": "X7ymRDBf0fGh",
        "outputId": "abb2147e-5758-4e2b-f9b1-cd661f79a623"
      },
      "execution_count": 11,
      "outputs": [
        {
          "output_type": "execute_result",
          "data": {
            "text/plain": [
              "      Y_test  predictions1\n",
              "0  21.911547     33.030019\n",
              "1  19.932751     24.364934\n",
              "2  36.438807     26.528958\n",
              "3  11.957582     19.781249\n",
              "4  39.844818     32.050227"
            ],
            "text/html": [
              "\n",
              "  <div id=\"df-280255ae-fe80-44c3-86aa-368cd531b552\" class=\"colab-df-container\">\n",
              "    <div>\n",
              "<style scoped>\n",
              "    .dataframe tbody tr th:only-of-type {\n",
              "        vertical-align: middle;\n",
              "    }\n",
              "\n",
              "    .dataframe tbody tr th {\n",
              "        vertical-align: top;\n",
              "    }\n",
              "\n",
              "    .dataframe thead th {\n",
              "        text-align: right;\n",
              "    }\n",
              "</style>\n",
              "<table border=\"1\" class=\"dataframe\">\n",
              "  <thead>\n",
              "    <tr style=\"text-align: right;\">\n",
              "      <th></th>\n",
              "      <th>Y_test</th>\n",
              "      <th>predictions1</th>\n",
              "    </tr>\n",
              "  </thead>\n",
              "  <tbody>\n",
              "    <tr>\n",
              "      <th>0</th>\n",
              "      <td>21.911547</td>\n",
              "      <td>33.030019</td>\n",
              "    </tr>\n",
              "    <tr>\n",
              "      <th>1</th>\n",
              "      <td>19.932751</td>\n",
              "      <td>24.364934</td>\n",
              "    </tr>\n",
              "    <tr>\n",
              "      <th>2</th>\n",
              "      <td>36.438807</td>\n",
              "      <td>26.528958</td>\n",
              "    </tr>\n",
              "    <tr>\n",
              "      <th>3</th>\n",
              "      <td>11.957582</td>\n",
              "      <td>19.781249</td>\n",
              "    </tr>\n",
              "    <tr>\n",
              "      <th>4</th>\n",
              "      <td>39.844818</td>\n",
              "      <td>32.050227</td>\n",
              "    </tr>\n",
              "  </tbody>\n",
              "</table>\n",
              "</div>\n",
              "    <div class=\"colab-df-buttons\">\n",
              "\n",
              "  <div class=\"colab-df-container\">\n",
              "    <button class=\"colab-df-convert\" onclick=\"convertToInteractive('df-280255ae-fe80-44c3-86aa-368cd531b552')\"\n",
              "            title=\"Convert this dataframe to an interactive table.\"\n",
              "            style=\"display:none;\">\n",
              "\n",
              "  <svg xmlns=\"http://www.w3.org/2000/svg\" height=\"24px\" viewBox=\"0 -960 960 960\">\n",
              "    <path d=\"M120-120v-720h720v720H120Zm60-500h600v-160H180v160Zm220 220h160v-160H400v160Zm0 220h160v-160H400v160ZM180-400h160v-160H180v160Zm440 0h160v-160H620v160ZM180-180h160v-160H180v160Zm440 0h160v-160H620v160Z\"/>\n",
              "  </svg>\n",
              "    </button>\n",
              "\n",
              "  <style>\n",
              "    .colab-df-container {\n",
              "      display:flex;\n",
              "      gap: 12px;\n",
              "    }\n",
              "\n",
              "    .colab-df-convert {\n",
              "      background-color: #E8F0FE;\n",
              "      border: none;\n",
              "      border-radius: 50%;\n",
              "      cursor: pointer;\n",
              "      display: none;\n",
              "      fill: #1967D2;\n",
              "      height: 32px;\n",
              "      padding: 0 0 0 0;\n",
              "      width: 32px;\n",
              "    }\n",
              "\n",
              "    .colab-df-convert:hover {\n",
              "      background-color: #E2EBFA;\n",
              "      box-shadow: 0px 1px 2px rgba(60, 64, 67, 0.3), 0px 1px 3px 1px rgba(60, 64, 67, 0.15);\n",
              "      fill: #174EA6;\n",
              "    }\n",
              "\n",
              "    .colab-df-buttons div {\n",
              "      margin-bottom: 4px;\n",
              "    }\n",
              "\n",
              "    [theme=dark] .colab-df-convert {\n",
              "      background-color: #3B4455;\n",
              "      fill: #D2E3FC;\n",
              "    }\n",
              "\n",
              "    [theme=dark] .colab-df-convert:hover {\n",
              "      background-color: #434B5C;\n",
              "      box-shadow: 0px 1px 3px 1px rgba(0, 0, 0, 0.15);\n",
              "      filter: drop-shadow(0px 1px 2px rgba(0, 0, 0, 0.3));\n",
              "      fill: #FFFFFF;\n",
              "    }\n",
              "  </style>\n",
              "\n",
              "    <script>\n",
              "      const buttonEl =\n",
              "        document.querySelector('#df-280255ae-fe80-44c3-86aa-368cd531b552 button.colab-df-convert');\n",
              "      buttonEl.style.display =\n",
              "        google.colab.kernel.accessAllowed ? 'block' : 'none';\n",
              "\n",
              "      async function convertToInteractive(key) {\n",
              "        const element = document.querySelector('#df-280255ae-fe80-44c3-86aa-368cd531b552');\n",
              "        const dataTable =\n",
              "          await google.colab.kernel.invokeFunction('convertToInteractive',\n",
              "                                                    [key], {});\n",
              "        if (!dataTable) return;\n",
              "\n",
              "        const docLinkHtml = 'Like what you see? Visit the ' +\n",
              "          '<a target=\"_blank\" href=https://colab.research.google.com/notebooks/data_table.ipynb>data table notebook</a>'\n",
              "          + ' to learn more about interactive tables.';\n",
              "        element.innerHTML = '';\n",
              "        dataTable['output_type'] = 'display_data';\n",
              "        await google.colab.output.renderOutput(dataTable, element);\n",
              "        const docLink = document.createElement('div');\n",
              "        docLink.innerHTML = docLinkHtml;\n",
              "        element.appendChild(docLink);\n",
              "      }\n",
              "    </script>\n",
              "  </div>\n",
              "\n",
              "\n",
              "<div id=\"df-98ce1d07-a02c-46ca-ba31-940244fa9300\">\n",
              "  <button class=\"colab-df-quickchart\" onclick=\"quickchart('df-98ce1d07-a02c-46ca-ba31-940244fa9300')\"\n",
              "            title=\"Suggest charts\"\n",
              "            style=\"display:none;\">\n",
              "\n",
              "<svg xmlns=\"http://www.w3.org/2000/svg\" height=\"24px\"viewBox=\"0 0 24 24\"\n",
              "     width=\"24px\">\n",
              "    <g>\n",
              "        <path d=\"M19 3H5c-1.1 0-2 .9-2 2v14c0 1.1.9 2 2 2h14c1.1 0 2-.9 2-2V5c0-1.1-.9-2-2-2zM9 17H7v-7h2v7zm4 0h-2V7h2v10zm4 0h-2v-4h2v4z\"/>\n",
              "    </g>\n",
              "</svg>\n",
              "  </button>\n",
              "\n",
              "<style>\n",
              "  .colab-df-quickchart {\n",
              "      --bg-color: #E8F0FE;\n",
              "      --fill-color: #1967D2;\n",
              "      --hover-bg-color: #E2EBFA;\n",
              "      --hover-fill-color: #174EA6;\n",
              "      --disabled-fill-color: #AAA;\n",
              "      --disabled-bg-color: #DDD;\n",
              "  }\n",
              "\n",
              "  [theme=dark] .colab-df-quickchart {\n",
              "      --bg-color: #3B4455;\n",
              "      --fill-color: #D2E3FC;\n",
              "      --hover-bg-color: #434B5C;\n",
              "      --hover-fill-color: #FFFFFF;\n",
              "      --disabled-bg-color: #3B4455;\n",
              "      --disabled-fill-color: #666;\n",
              "  }\n",
              "\n",
              "  .colab-df-quickchart {\n",
              "    background-color: var(--bg-color);\n",
              "    border: none;\n",
              "    border-radius: 50%;\n",
              "    cursor: pointer;\n",
              "    display: none;\n",
              "    fill: var(--fill-color);\n",
              "    height: 32px;\n",
              "    padding: 0;\n",
              "    width: 32px;\n",
              "  }\n",
              "\n",
              "  .colab-df-quickchart:hover {\n",
              "    background-color: var(--hover-bg-color);\n",
              "    box-shadow: 0 1px 2px rgba(60, 64, 67, 0.3), 0 1px 3px 1px rgba(60, 64, 67, 0.15);\n",
              "    fill: var(--button-hover-fill-color);\n",
              "  }\n",
              "\n",
              "  .colab-df-quickchart-complete:disabled,\n",
              "  .colab-df-quickchart-complete:disabled:hover {\n",
              "    background-color: var(--disabled-bg-color);\n",
              "    fill: var(--disabled-fill-color);\n",
              "    box-shadow: none;\n",
              "  }\n",
              "\n",
              "  .colab-df-spinner {\n",
              "    border: 2px solid var(--fill-color);\n",
              "    border-color: transparent;\n",
              "    border-bottom-color: var(--fill-color);\n",
              "    animation:\n",
              "      spin 1s steps(1) infinite;\n",
              "  }\n",
              "\n",
              "  @keyframes spin {\n",
              "    0% {\n",
              "      border-color: transparent;\n",
              "      border-bottom-color: var(--fill-color);\n",
              "      border-left-color: var(--fill-color);\n",
              "    }\n",
              "    20% {\n",
              "      border-color: transparent;\n",
              "      border-left-color: var(--fill-color);\n",
              "      border-top-color: var(--fill-color);\n",
              "    }\n",
              "    30% {\n",
              "      border-color: transparent;\n",
              "      border-left-color: var(--fill-color);\n",
              "      border-top-color: var(--fill-color);\n",
              "      border-right-color: var(--fill-color);\n",
              "    }\n",
              "    40% {\n",
              "      border-color: transparent;\n",
              "      border-right-color: var(--fill-color);\n",
              "      border-top-color: var(--fill-color);\n",
              "    }\n",
              "    60% {\n",
              "      border-color: transparent;\n",
              "      border-right-color: var(--fill-color);\n",
              "    }\n",
              "    80% {\n",
              "      border-color: transparent;\n",
              "      border-right-color: var(--fill-color);\n",
              "      border-bottom-color: var(--fill-color);\n",
              "    }\n",
              "    90% {\n",
              "      border-color: transparent;\n",
              "      border-bottom-color: var(--fill-color);\n",
              "    }\n",
              "  }\n",
              "</style>\n",
              "\n",
              "  <script>\n",
              "    async function quickchart(key) {\n",
              "      const quickchartButtonEl =\n",
              "        document.querySelector('#' + key + ' button');\n",
              "      quickchartButtonEl.disabled = true;  // To prevent multiple clicks.\n",
              "      quickchartButtonEl.classList.add('colab-df-spinner');\n",
              "      try {\n",
              "        const charts = await google.colab.kernel.invokeFunction(\n",
              "            'suggestCharts', [key], {});\n",
              "      } catch (error) {\n",
              "        console.error('Error during call to suggestCharts:', error);\n",
              "      }\n",
              "      quickchartButtonEl.classList.remove('colab-df-spinner');\n",
              "      quickchartButtonEl.classList.add('colab-df-quickchart-complete');\n",
              "    }\n",
              "    (() => {\n",
              "      let quickchartButtonEl =\n",
              "        document.querySelector('#df-98ce1d07-a02c-46ca-ba31-940244fa9300 button');\n",
              "      quickchartButtonEl.style.display =\n",
              "        google.colab.kernel.accessAllowed ? 'block' : 'none';\n",
              "    })();\n",
              "  </script>\n",
              "</div>\n",
              "\n",
              "    </div>\n",
              "  </div>\n"
            ]
          },
          "metadata": {},
          "execution_count": 11
        }
      ]
    },
    {
      "cell_type": "code",
      "source": [
        "import matplotlib.pyplot as plt\n",
        "import seaborn as sns\n",
        "\n",
        "# Création du nuage de points\n",
        "\n",
        "sns.scatterplot( x=Y_test, y=predictions, alpha=0.6)\n",
        "\n",
        "# Tracé de la droite y = x pour comparer\n",
        "plt.plot(predictions_df['Y_test'], predictions_df['Y_test'], color='red', label='y=x')\n",
        "\n",
        "plt.xlabel('Valeurs réelles', fontsize=14)\n",
        "plt.ylabel('Prédictions', fontsize=14)\n",
        "plt.title('Valeurs réelles vs Prédictions (ensemble de test)', fontsize=17)\n",
        "plt.legend()\n",
        "plt.show()\n"
      ],
      "metadata": {
        "colab": {
          "base_uri": "https://localhost:8080/",
          "height": 482
        },
        "id": "7kEd4HgG6rtz",
        "outputId": "492bbc92-458f-4bef-bb2d-b0c053fb5312"
      },
      "execution_count": 12,
      "outputs": [
        {
          "output_type": "display_data",
          "data": {
            "text/plain": [
              "<Figure size 640x480 with 1 Axes>"
            ],
            "image/png": "[encoded data removed]"
          },
          "metadata": {}
        }
      ]
    },
    {
      "cell_type": "code",
      "source": [
        "from sklearn.metrics import mean_absolute_error, mean_squared_error, r2_score\n",
        "\n",
        "# Calcul de l'erreur absolue moyenne (MAE)\n",
        "mae = mean_absolute_error(Y_test, predictions)\n",
        "print(\"Mean Absolute Error (MAE):\", mae)\n",
        "\n",
        "# Calcul de l'erreur quadratique moyenne (MSE)\n",
        "mse = mean_squared_error(Y_test, predictions)\n",
        "print(\"Mean Squared Error (MSE):\", mse)\n",
        "\n",
        "# Calcul de la racine de l'erreur quadratique moyenne (RMSE)\n",
        "rmse = np.sqrt(mse)\n",
        "print(\"Root Mean Squared Error (RMSE):\", rmse)\n",
        "\n",
        "# Calcul du coefficient de détermination R²\n",
        "r2 = r2_score(Y_test, predictions)\n",
        "print(\"R-squared (R²):\", r2)\n"
      ],
      "metadata": {
        "colab": {
          "base_uri": "https://localhost:8080/"
        },
        "id": "YjK8f-P67eop",
        "outputId": "d27c3e7b-3357-4a2a-f465-5186fd6749aa"
      },
      "execution_count": 13,
      "outputs": [
        {
          "output_type": "stream",
          "name": "stdout",
          "text": [
            "Mean Absolute Error (MAE): 8.322624798531313\n",
            "Mean Squared Error (MSE): 110.6392184667345\n",
            "Root Mean Squared Error (RMSE): 10.51851788355824\n",
            "R-squared (R²): 0.5756010720757347\n"
          ]
        }
      ]
    },
    {
      "cell_type": "code",
      "source": [
        "from sklearn.model_selection import GridSearchCV\n",
        "from sklearn.metrics import mean_absolute_error, mean_squared_error, r2_score\n",
        "import numpy as np\n",
        "\n",
        "# Définition des hyperparamètres à tester\n",
        "param_grid = {\n",
        "    'C': [0.1, 1, 10, 100],\n",
        "    'kernel': ['linear', 'rbf'],\n",
        "    'gamma': [0.1, 1, 10],\n",
        "    'epsilon': [0.1, 0.01, 0.001]\n",
        "}\n",
        "\n",
        "# Initialisation de la recherche par grille\n",
        "grid_search = GridSearchCV(SVR(), param_grid, cv=5)\n",
        "\n",
        "# Exécution de la recherche par grille sur les données d'entraînement\n",
        "grid_search.fit(X_train_transformed, Y_train)\n",
        "\n",
        "# Affichage des meilleurs hyperparamètres trouvés\n",
        "print(\"Meilleurs hyperparamètres trouvés : \", grid_search.best_params_)\n",
        "\n",
        "# Utilisation du modèle avec les meilleurs paramètres sur les données de test\n",
        "best_svm = grid_search.best_estimator_\n",
        "predictions_optimise = best_svm.predict(X_test_transoformed)\n",
        "\n",
        "# Calcul de l'erreur absolue moyenne (MAE)\n",
        "mae = mean_absolute_error(Y_test, predictions_optimise)\n",
        "print(\"Mean Absolute Error (MAE) :\", mae)\n",
        "\n",
        "# Calcul de l'erreur quadratique moyenne (MSE)\n",
        "mse = mean_squared_error(Y_test, predictions_optimise)\n",
        "print(\"Mean Squared Error (MSE) :\", mse)\n",
        "\n",
        "# Calcul de la racine de l'erreur quadratique moyenne (RMSE)\n",
        "rmse = np.sqrt(mse)\n",
        "print(\"Root Mean Squared Error (RMSE) :\", rmse)\n",
        "\n",
        "# Calcul du coefficient de détermination R²\n",
        "r2 = r2_score(Y_test, predictions_optimise)\n",
        "print(\"R-squared (R²) :\", r2)\n"
      ],
      "metadata": {
        "colab": {
          "base_uri": "https://localhost:8080/"
        },
        "id": "0A6NERB2EwhC",
        "outputId": "b2e5c9e7-fda9-4936-8109-046e47e11ca6"
      },
      "execution_count": 14,
      "outputs": [
        {
          "output_type": "stream",
          "name": "stdout",
          "text": [
            "Meilleurs hyperparamètres trouvés :  {'C': 100, 'epsilon': 0.1, 'gamma': 10, 'kernel': 'rbf'}\n",
            "Mean Absolute Error (MAE) : 4.46104008093728\n",
            "Mean Squared Error (MSE) : 50.624545846321716\n",
            "Root Mean Squared Error (RMSE) : 7.115092820639918\n",
            "R-squared (R²) : 0.8058102426826924\n"
          ]
        }
      ]
    },
    {
      "cell_type": "code",
      "source": [
        "# Création d'un DataFrame avec les colonnes ID, Y_test et predictions\n",
        "results_df = pd.DataFrame({'Y_test': Y_test.values, 'predictions': predictions,'predictions_optimise': predictions_optimise})\n",
        "\n",
        "# Affichage des cinq premières lignes du DataFrame\n",
        "print(results_df.head())"
      ],
      "metadata": {
        "colab": {
          "base_uri": "https://localhost:8080/"
        },
        "id": "i96UogGrKQiL",
        "outputId": "4a69d995-a548-4612-bc26-f45bb863e61d"
      },
      "execution_count": 15,
      "outputs": [
        {
          "output_type": "stream",
          "name": "stdout",
          "text": [
            "      Y_test  predictions  predictions_optimise\n",
            "0  21.911547    33.030019             28.932404\n",
            "1  19.932751    24.364934             17.800892\n",
            "2  36.438807    26.528958             34.583930\n",
            "3  11.957582    19.781249             10.355134\n",
            "4  39.844818    32.050227             32.246363\n"
          ]
        }
      ]
    },
    {
      "cell_type": "code",
      "source": [
        "# Création du nuage de points\n",
        "\n",
        "sns.scatterplot( x=Y_test, y=predictions_optimise, alpha=0.6)\n",
        "\n",
        "# Tracé de la droite y = x pour comparer\n",
        "plt.plot(predictions_df['Y_test'], predictions_df['Y_test'], color='red', label='y=x')\n",
        "\n",
        "plt.xlabel('Valeurs réelles', fontsize=14)\n",
        "plt.ylabel('Prédictions', fontsize=14)\n",
        "plt.title('Valeurs réelles vs Prédictions (ensemble de test)', fontsize=17)\n",
        "plt.legend()\n",
        "plt.show()\n"
      ],
      "metadata": {
        "colab": {
          "base_uri": "https://localhost:8080/",
          "height": 482
        },
        "id": "Sh4GzVRaKGhY",
        "outputId": "d2a13c72-8d4f-4956-e394-60c1a71aabc0"
      },
      "execution_count": 16,
      "outputs": [
        {
          "output_type": "display_data",
          "data": {
            "text/plain": [
              "<Figure size 640x480 with 1 Axes>"
            ],
            "image/png": "[encoded data removed]"
          },
          "metadata": {}
        }
      ]
    },
    {
      "cell_type": "code",
      "source": [
        "# Récupérer les résultats de la recherche par grille\n",
        "results = grid_search.cv_results_\n",
        "\n",
        "# Créer une DataFrame à partir des résultats\n",
        "results_df = pd.DataFrame(results)\n",
        "\n",
        "# Sélectionner les colonnes pertinentes : 'param_C', 'param_kernel', 'param_gamma', 'param_epsilon', 'mean_test_score'\n",
        "columns_to_keep = ['param_C', 'param_kernel', 'param_gamma', 'param_epsilon', 'mean_test_score']\n",
        "results_df = results_df[columns_to_keep]\n",
        "\n",
        "# Affichage de la matrice des combinaisons de paramètres et leurs valeurs R²\n",
        "print(results_df)\n",
        "\n"
      ],
      "metadata": {
        "colab": {
          "base_uri": "https://localhost:8080/"
        },
        "id": "II8j2nwUHskP",
        "outputId": "d2af0bcc-78f0-43b2-9b44-ae049b602556"
      },
      "execution_count": 17,
      "outputs": [
        {
          "output_type": "stream",
          "name": "stdout",
          "text": [
            "   param_C param_kernel param_gamma param_epsilon  mean_test_score\n",
            "0      0.1       linear         0.1           0.1         0.136246\n",
            "1      0.1          rbf         0.1           0.1         0.017612\n",
            "2      0.1       linear           1           0.1         0.136246\n",
            "3      0.1          rbf           1           0.1         0.131124\n",
            "4      0.1       linear          10           0.1         0.136246\n",
            "..     ...          ...         ...           ...              ...\n",
            "67     100          rbf         0.1         0.001         0.726456\n",
            "68     100       linear           1         0.001         0.577195\n",
            "69     100          rbf           1         0.001         0.838761\n",
            "70     100       linear          10         0.001         0.577195\n",
            "71     100          rbf          10         0.001         0.844806\n",
            "\n",
            "[72 rows x 5 columns]\n"
          ]
        }
      ]
    },
    {
      "cell_type": "code",
      "source": [
        "# Créer une table pivot avec les valeurs de C et R² pour chaque combinaison\n",
        "pivot_table = results_df.pivot_table(values='mean_test_score', index=results_df.index, columns='param_C')\n",
        "\n",
        "# Afficher le tableau\n",
        "#print(pivot_table)\n",
        "\n",
        "print(pivot_table.iloc[0:35])  # Affiche les lignes de l'indice 10 à l'indice 20 inclus\n",
        "print(pivot_table.iloc[35:72])"
      ],
      "metadata": {
        "colab": {
          "base_uri": "https://localhost:8080/"
        },
        "id": "a4_VKXAWKdpN",
        "outputId": "116286d0-e2d8-45c8-b5a1-6605c1ccda1b"
      },
      "execution_count": 31,
      "outputs": [
        {
          "output_type": "stream",
          "name": "stdout",
          "text": [
            "param_C     0.1       1.0    10.0   100.0\n",
            "0        0.136246       NaN    NaN    NaN\n",
            "1        0.017612       NaN    NaN    NaN\n",
            "2        0.136246       NaN    NaN    NaN\n",
            "3        0.131124       NaN    NaN    NaN\n",
            "4        0.136246       NaN    NaN    NaN\n",
            "5        0.067756       NaN    NaN    NaN\n",
            "6        0.136215       NaN    NaN    NaN\n",
            "7        0.017044       NaN    NaN    NaN\n",
            "8        0.136215       NaN    NaN    NaN\n",
            "9        0.131250       NaN    NaN    NaN\n",
            "10       0.136215       NaN    NaN    NaN\n",
            "11       0.067514       NaN    NaN    NaN\n",
            "12       0.136247       NaN    NaN    NaN\n",
            "13       0.017001       NaN    NaN    NaN\n",
            "14       0.136247       NaN    NaN    NaN\n",
            "15       0.131253       NaN    NaN    NaN\n",
            "16       0.136247       NaN    NaN    NaN\n",
            "17       0.067507       NaN    NaN    NaN\n",
            "18            NaN  0.532870    NaN    NaN\n",
            "19            NaN  0.226128    NaN    NaN\n",
            "20            NaN  0.532870    NaN    NaN\n",
            "21            NaN  0.558157    NaN    NaN\n",
            "22            NaN  0.532870    NaN    NaN\n",
            "23            NaN  0.434271    NaN    NaN\n",
            "24            NaN  0.532788    NaN    NaN\n",
            "25            NaN  0.225745    NaN    NaN\n",
            "26            NaN  0.532788    NaN    NaN\n",
            "27            NaN  0.558553    NaN    NaN\n",
            "28            NaN  0.532788    NaN    NaN\n",
            "29            NaN  0.433733    NaN    NaN\n",
            "30            NaN  0.532784    NaN    NaN\n",
            "31            NaN  0.225726    NaN    NaN\n",
            "32            NaN  0.532784    NaN    NaN\n",
            "33            NaN  0.558546    NaN    NaN\n",
            "34            NaN  0.532784    NaN    NaN\n",
            "param_C  0.1       1.0       10.0      100.0\n",
            "35         NaN  0.433673       NaN       NaN\n",
            "36         NaN       NaN  0.608332       NaN\n",
            "37         NaN       NaN  0.605600       NaN\n",
            "38         NaN       NaN  0.608332       NaN\n",
            "39         NaN       NaN  0.767333       NaN\n",
            "40         NaN       NaN  0.608332       NaN\n",
            "41         NaN       NaN  0.761451       NaN\n",
            "42         NaN       NaN  0.607299       NaN\n",
            "43         NaN       NaN  0.605684       NaN\n",
            "44         NaN       NaN  0.607299       NaN\n",
            "45         NaN       NaN  0.767270       NaN\n",
            "46         NaN       NaN  0.607299       NaN\n",
            "47         NaN       NaN  0.761099       NaN\n",
            "48         NaN       NaN  0.607256       NaN\n",
            "49         NaN       NaN  0.605670       NaN\n",
            "50         NaN       NaN  0.607256       NaN\n",
            "51         NaN       NaN  0.767266       NaN\n",
            "52         NaN       NaN  0.607256       NaN\n",
            "53         NaN       NaN  0.761056       NaN\n",
            "54         NaN       NaN       NaN  0.577819\n",
            "55         NaN       NaN       NaN  0.726214\n",
            "56         NaN       NaN       NaN  0.577819\n",
            "57         NaN       NaN       NaN  0.838612\n",
            "58         NaN       NaN       NaN  0.577819\n",
            "59         NaN       NaN       NaN  0.845253\n",
            "60         NaN       NaN       NaN  0.577319\n",
            "61         NaN       NaN       NaN  0.726412\n",
            "62         NaN       NaN       NaN  0.577319\n",
            "63         NaN       NaN       NaN  0.838751\n",
            "64         NaN       NaN       NaN  0.577319\n",
            "65         NaN       NaN       NaN  0.844857\n",
            "66         NaN       NaN       NaN  0.577195\n",
            "67         NaN       NaN       NaN  0.726456\n",
            "68         NaN       NaN       NaN  0.577195\n",
            "69         NaN       NaN       NaN  0.838761\n",
            "70         NaN       NaN       NaN  0.577195\n",
            "71         NaN       NaN       NaN  0.844806\n"
          ]
        }
      ]
    },
    {
      "cell_type": "code",
      "source": [
        "grid = GridSearchCV(estimator=SVR(),param_grid= param_grid, refit = True, verbose=2, cv=5 )\n",
        "# May take a while!\n",
        "grid.fit(X_train,Y_train)"
      ],
      "metadata": {
        "id": "AI-tWYseAksn"
      },
      "execution_count": null,
      "outputs": []
    },
    {
      "cell_type": "code",
      "source": [
        "# Exécution de la recherche par grille sur les données d'entraînement\n",
        "grid_search.fit(X_train_transformed, Y_train)\n",
        "\n",
        "# Affichage de toutes les combinaisons testées et leurs scores correspondants\n",
        "results = grid_search.cv_results_\n",
        "for mean_score, params in zip(results['mean_test_score'], results['params']):\n",
        "    print(f\"Score moyen : {mean_score:.4f}, Paramètres : {params}\")\n"
      ],
      "metadata": {
        "colab": {
          "base_uri": "https://localhost:8080/"
        },
        "id": "lpJA74dC4jib",
        "outputId": "487f88f6-12d9-41c7-ee6e-9cc1c1b01d69"
      },
      "execution_count": 18,
      "outputs": [
        {
          "output_type": "stream",
          "name": "stdout",
          "text": [
            "Score moyen : 0.1362, Paramètres : {'C': 0.1, 'epsilon': 0.1, 'gamma': 0.1, 'kernel': 'linear'}\n",
            "Score moyen : 0.0176, Paramètres : {'C': 0.1, 'epsilon': 0.1, 'gamma': 0.1, 'kernel': 'rbf'}\n",
            "Score moyen : 0.1362, Paramètres : {'C': 0.1, 'epsilon': 0.1, 'gamma': 1, 'kernel': 'linear'}\n",
            "Score moyen : 0.1311, Paramètres : {'C': 0.1, 'epsilon': 0.1, 'gamma': 1, 'kernel': 'rbf'}\n",
            "Score moyen : 0.1362, Paramètres : {'C': 0.1, 'epsilon': 0.1, 'gamma': 10, 'kernel': 'linear'}\n",
            "Score moyen : 0.0678, Paramètres : {'C': 0.1, 'epsilon': 0.1, 'gamma': 10, 'kernel': 'rbf'}\n",
            "Score moyen : 0.1362, Paramètres : {'C': 0.1, 'epsilon': 0.01, 'gamma': 0.1, 'kernel': 'linear'}\n",
            "Score moyen : 0.0170, Paramètres : {'C': 0.1, 'epsilon': 0.01, 'gamma': 0.1, 'kernel': 'rbf'}\n",
            "Score moyen : 0.1362, Paramètres : {'C': 0.1, 'epsilon': 0.01, 'gamma': 1, 'kernel': 'linear'}\n",
            "Score moyen : 0.1313, Paramètres : {'C': 0.1, 'epsilon': 0.01, 'gamma': 1, 'kernel': 'rbf'}\n",
            "Score moyen : 0.1362, Paramètres : {'C': 0.1, 'epsilon': 0.01, 'gamma': 10, 'kernel': 'linear'}\n",
            "Score moyen : 0.0675, Paramètres : {'C': 0.1, 'epsilon': 0.01, 'gamma': 10, 'kernel': 'rbf'}\n",
            "Score moyen : 0.1362, Paramètres : {'C': 0.1, 'epsilon': 0.001, 'gamma': 0.1, 'kernel': 'linear'}\n",
            "Score moyen : 0.0170, Paramètres : {'C': 0.1, 'epsilon': 0.001, 'gamma': 0.1, 'kernel': 'rbf'}\n",
            "Score moyen : 0.1362, Paramètres : {'C': 0.1, 'epsilon': 0.001, 'gamma': 1, 'kernel': 'linear'}\n",
            "Score moyen : 0.1313, Paramètres : {'C': 0.1, 'epsilon': 0.001, 'gamma': 1, 'kernel': 'rbf'}\n",
            "Score moyen : 0.1362, Paramètres : {'C': 0.1, 'epsilon': 0.001, 'gamma': 10, 'kernel': 'linear'}\n",
            "Score moyen : 0.0675, Paramètres : {'C': 0.1, 'epsilon': 0.001, 'gamma': 10, 'kernel': 'rbf'}\n",
            "Score moyen : 0.5329, Paramètres : {'C': 1, 'epsilon': 0.1, 'gamma': 0.1, 'kernel': 'linear'}\n",
            "Score moyen : 0.2261, Paramètres : {'C': 1, 'epsilon': 0.1, 'gamma': 0.1, 'kernel': 'rbf'}\n",
            "Score moyen : 0.5329, Paramètres : {'C': 1, 'epsilon': 0.1, 'gamma': 1, 'kernel': 'linear'}\n",
            "Score moyen : 0.5582, Paramètres : {'C': 1, 'epsilon': 0.1, 'gamma': 1, 'kernel': 'rbf'}\n",
            "Score moyen : 0.5329, Paramètres : {'C': 1, 'epsilon': 0.1, 'gamma': 10, 'kernel': 'linear'}\n",
            "Score moyen : 0.4343, Paramètres : {'C': 1, 'epsilon': 0.1, 'gamma': 10, 'kernel': 'rbf'}\n",
            "Score moyen : 0.5328, Paramètres : {'C': 1, 'epsilon': 0.01, 'gamma': 0.1, 'kernel': 'linear'}\n",
            "Score moyen : 0.2257, Paramètres : {'C': 1, 'epsilon': 0.01, 'gamma': 0.1, 'kernel': 'rbf'}\n",
            "Score moyen : 0.5328, Paramètres : {'C': 1, 'epsilon': 0.01, 'gamma': 1, 'kernel': 'linear'}\n",
            "Score moyen : 0.5586, Paramètres : {'C': 1, 'epsilon': 0.01, 'gamma': 1, 'kernel': 'rbf'}\n",
            "Score moyen : 0.5328, Paramètres : {'C': 1, 'epsilon': 0.01, 'gamma': 10, 'kernel': 'linear'}\n",
            "Score moyen : 0.4337, Paramètres : {'C': 1, 'epsilon': 0.01, 'gamma': 10, 'kernel': 'rbf'}\n",
            "Score moyen : 0.5328, Paramètres : {'C': 1, 'epsilon': 0.001, 'gamma': 0.1, 'kernel': 'linear'}\n",
            "Score moyen : 0.2257, Paramètres : {'C': 1, 'epsilon': 0.001, 'gamma': 0.1, 'kernel': 'rbf'}\n",
            "Score moyen : 0.5328, Paramètres : {'C': 1, 'epsilon': 0.001, 'gamma': 1, 'kernel': 'linear'}\n",
            "Score moyen : 0.5585, Paramètres : {'C': 1, 'epsilon': 0.001, 'gamma': 1, 'kernel': 'rbf'}\n",
            "Score moyen : 0.5328, Paramètres : {'C': 1, 'epsilon': 0.001, 'gamma': 10, 'kernel': 'linear'}\n",
            "Score moyen : 0.4337, Paramètres : {'C': 1, 'epsilon': 0.001, 'gamma': 10, 'kernel': 'rbf'}\n",
            "Score moyen : 0.6083, Paramètres : {'C': 10, 'epsilon': 0.1, 'gamma': 0.1, 'kernel': 'linear'}\n",
            "Score moyen : 0.6056, Paramètres : {'C': 10, 'epsilon': 0.1, 'gamma': 0.1, 'kernel': 'rbf'}\n",
            "Score moyen : 0.6083, Paramètres : {'C': 10, 'epsilon': 0.1, 'gamma': 1, 'kernel': 'linear'}\n",
            "Score moyen : 0.7673, Paramètres : {'C': 10, 'epsilon': 0.1, 'gamma': 1, 'kernel': 'rbf'}\n",
            "Score moyen : 0.6083, Paramètres : {'C': 10, 'epsilon': 0.1, 'gamma': 10, 'kernel': 'linear'}\n",
            "Score moyen : 0.7615, Paramètres : {'C': 10, 'epsilon': 0.1, 'gamma': 10, 'kernel': 'rbf'}\n",
            "Score moyen : 0.6073, Paramètres : {'C': 10, 'epsilon': 0.01, 'gamma': 0.1, 'kernel': 'linear'}\n",
            "Score moyen : 0.6057, Paramètres : {'C': 10, 'epsilon': 0.01, 'gamma': 0.1, 'kernel': 'rbf'}\n",
            "Score moyen : 0.6073, Paramètres : {'C': 10, 'epsilon': 0.01, 'gamma': 1, 'kernel': 'linear'}\n",
            "Score moyen : 0.7673, Paramètres : {'C': 10, 'epsilon': 0.01, 'gamma': 1, 'kernel': 'rbf'}\n",
            "Score moyen : 0.6073, Paramètres : {'C': 10, 'epsilon': 0.01, 'gamma': 10, 'kernel': 'linear'}\n",
            "Score moyen : 0.7611, Paramètres : {'C': 10, 'epsilon': 0.01, 'gamma': 10, 'kernel': 'rbf'}\n",
            "Score moyen : 0.6073, Paramètres : {'C': 10, 'epsilon': 0.001, 'gamma': 0.1, 'kernel': 'linear'}\n",
            "Score moyen : 0.6057, Paramètres : {'C': 10, 'epsilon': 0.001, 'gamma': 0.1, 'kernel': 'rbf'}\n",
            "Score moyen : 0.6073, Paramètres : {'C': 10, 'epsilon': 0.001, 'gamma': 1, 'kernel': 'linear'}\n",
            "Score moyen : 0.7673, Paramètres : {'C': 10, 'epsilon': 0.001, 'gamma': 1, 'kernel': 'rbf'}\n",
            "Score moyen : 0.6073, Paramètres : {'C': 10, 'epsilon': 0.001, 'gamma': 10, 'kernel': 'linear'}\n",
            "Score moyen : 0.7611, Paramètres : {'C': 10, 'epsilon': 0.001, 'gamma': 10, 'kernel': 'rbf'}\n",
            "Score moyen : 0.5778, Paramètres : {'C': 100, 'epsilon': 0.1, 'gamma': 0.1, 'kernel': 'linear'}\n",
            "Score moyen : 0.7262, Paramètres : {'C': 100, 'epsilon': 0.1, 'gamma': 0.1, 'kernel': 'rbf'}\n",
            "Score moyen : 0.5778, Paramètres : {'C': 100, 'epsilon': 0.1, 'gamma': 1, 'kernel': 'linear'}\n",
            "Score moyen : 0.8386, Paramètres : {'C': 100, 'epsilon': 0.1, 'gamma': 1, 'kernel': 'rbf'}\n",
            "Score moyen : 0.5778, Paramètres : {'C': 100, 'epsilon': 0.1, 'gamma': 10, 'kernel': 'linear'}\n",
            "Score moyen : 0.8453, Paramètres : {'C': 100, 'epsilon': 0.1, 'gamma': 10, 'kernel': 'rbf'}\n",
            "Score moyen : 0.5773, Paramètres : {'C': 100, 'epsilon': 0.01, 'gamma': 0.1, 'kernel': 'linear'}\n",
            "Score moyen : 0.7264, Paramètres : {'C': 100, 'epsilon': 0.01, 'gamma': 0.1, 'kernel': 'rbf'}\n",
            "Score moyen : 0.5773, Paramètres : {'C': 100, 'epsilon': 0.01, 'gamma': 1, 'kernel': 'linear'}\n",
            "Score moyen : 0.8388, Paramètres : {'C': 100, 'epsilon': 0.01, 'gamma': 1, 'kernel': 'rbf'}\n",
            "Score moyen : 0.5773, Paramètres : {'C': 100, 'epsilon': 0.01, 'gamma': 10, 'kernel': 'linear'}\n",
            "Score moyen : 0.8449, Paramètres : {'C': 100, 'epsilon': 0.01, 'gamma': 10, 'kernel': 'rbf'}\n",
            "Score moyen : 0.5772, Paramètres : {'C': 100, 'epsilon': 0.001, 'gamma': 0.1, 'kernel': 'linear'}\n",
            "Score moyen : 0.7265, Paramètres : {'C': 100, 'epsilon': 0.001, 'gamma': 0.1, 'kernel': 'rbf'}\n",
            "Score moyen : 0.5772, Paramètres : {'C': 100, 'epsilon': 0.001, 'gamma': 1, 'kernel': 'linear'}\n",
            "Score moyen : 0.8388, Paramètres : {'C': 100, 'epsilon': 0.001, 'gamma': 1, 'kernel': 'rbf'}\n",
            "Score moyen : 0.5772, Paramètres : {'C': 100, 'epsilon': 0.001, 'gamma': 10, 'kernel': 'linear'}\n",
            "Score moyen : 0.8448, Paramètres : {'C': 100, 'epsilon': 0.001, 'gamma': 10, 'kernel': 'rbf'}\n"
          ]
        }
      ]
    },
    {
      "cell_type": "code",
      "source": [
        "import pandas as pd\n",
        "\n",
        "# Exécution de la recherche par grille sur les données d'entraînement\n",
        "grid_search.fit(X_train_transformed, Y_train)\n",
        "\n",
        "# Création d'un DataFrame Pandas à partir des résultats de la recherche par grille\n",
        "results = pd.DataFrame(grid_search.cv_results_)\n",
        "\n",
        "# Affichage des résultats sous forme de tableau\n",
        "print(results[['params', 'mean_test_score']])\n"
      ],
      "metadata": {
        "colab": {
          "base_uri": "https://localhost:8080/"
        },
        "id": "eaCpzsBo5CPf",
        "outputId": "53c81e44-50a4-42c6-8081-0a86c54aa7d2"
      },
      "execution_count": 6,
      "outputs": [
        {
          "output_type": "stream",
          "name": "stdout",
          "text": [
            "                                               params  mean_test_score\n",
            "0   {'C': 0.1, 'epsilon': 0.1, 'gamma': 0.1, 'kern...         0.136246\n",
            "1   {'C': 0.1, 'epsilon': 0.1, 'gamma': 0.1, 'kern...         0.017612\n",
            "2   {'C': 0.1, 'epsilon': 0.1, 'gamma': 1, 'kernel...         0.136246\n",
            "3   {'C': 0.1, 'epsilon': 0.1, 'gamma': 1, 'kernel...         0.131124\n",
            "4   {'C': 0.1, 'epsilon': 0.1, 'gamma': 10, 'kerne...         0.136246\n",
            "..                                                ...              ...\n",
            "67  {'C': 100, 'epsilon': 0.001, 'gamma': 0.1, 'ke...         0.726456\n",
            "68  {'C': 100, 'epsilon': 0.001, 'gamma': 1, 'kern...         0.577195\n",
            "69  {'C': 100, 'epsilon': 0.001, 'gamma': 1, 'kern...         0.838761\n",
            "70  {'C': 100, 'epsilon': 0.001, 'gamma': 10, 'ker...         0.577195\n",
            "71  {'C': 100, 'epsilon': 0.001, 'gamma': 10, 'ker...         0.844806\n",
            "\n",
            "[72 rows x 2 columns]\n"
          ]
        }
      ]
    },
    {
      "cell_type": "markdown",
      "source": [
        "# **XGBoost**"
      ],
      "metadata": {
        "id": "wkJgvjOIKn8d"
      }
    },
    {
      "cell_type": "code",
      "source": [
        "\n",
        "import xgboost as xgb\n",
        "\n",
        "\n",
        "# Réglage des hyperparamètres pour XGBoost\n",
        "xgb_regressor = xgb.XGBRegressor()\n",
        "\n",
        "# Paramètres à régler\n",
        "param_grid = {\n",
        "    'learning_rate': [0.1, 0.01, 0.001],\n",
        "    'max_depth': [3, 5, 7],\n",
        "    'n_estimators': [100, 200, 300]\n",
        "}\n",
        "\n",
        "# Recherche par grille pour trouver les meilleurs hyperparamètres\n",
        "from sklearn.model_selection import GridSearchCV\n",
        "grid_search = GridSearchCV(xgb_regressor, param_grid, cv=5)\n",
        "grid_search.fit(X_train_transformed, Y_train)\n",
        "\n",
        "# Meilleurs hyperparamètres trouvés\n",
        "best_params = grid_search.best_params_\n",
        "print(\"Meilleurs hyperparamètres trouvés :\", best_params)\n",
        "\n",
        "# Utilisation du modèle avec les meilleurs hyperparamètres\n",
        "best_xgb = xgb.XGBRegressor(**best_params)\n",
        "best_xgb.fit(X_train_transformed, Y_train)\n",
        "predictions = best_xgb.predict(X_test_transoformed)\n",
        "\n",
        "# Évaluation du modèle\n",
        "mae = mean_absolute_error(Y_test, predictions)\n",
        "mse = mean_squared_error(Y_test, predictions)\n",
        "rmse = np.sqrt(mse)\n",
        "r2 = r2_score(Y_test, predictions)\n",
        "\n",
        "print(\"Mean Absolute Error (MAE) :\", mae)\n",
        "print(\"Mean Squared Error (MSE) :\", mse)\n",
        "print(\"Root Mean Squared Error (RMSE) :\", rmse)\n",
        "print(\"R-squared (R²) :\", r2)\n"
      ],
      "metadata": {
        "colab": {
          "base_uri": "https://localhost:8080/"
        },
        "id": "x8XE_DpHKss0",
        "outputId": "f39e2002-94c2-476a-c461-d833084f0f48"
      },
      "execution_count": null,
      "outputs": [
        {
          "output_type": "stream",
          "name": "stdout",
          "text": [
            "Meilleurs hyperparamètres trouvés : {'learning_rate': 0.1, 'max_depth': 3, 'n_estimators': 300}\n",
            "Mean Absolute Error (MAE) : 3.286273375987067\n",
            "Mean Squared Error (MSE) : 22.316317603715795\n",
            "Root Mean Squared Error (RMSE) : 4.724014987668413\n",
            "R-squared (R²) : 0.9143972508348654\n"
          ]
        }
      ]
    }
  ]
}